{
  "nbformat": 4,
  "nbformat_minor": 0,
  "metadata": {
    "colab": {
      "name": "DSP performance prediction",
      "provenance": [],
      "collapsed_sections": [],
      "include_colab_link": true
    },
    "kernelspec": {
      "display_name": "Python 3",
      "name": "python3"
    },
    "accelerator": "GPU"
  },
  "cells": [
    {
      "cell_type": "markdown",
      "metadata": {
        "id": "view-in-github",
        "colab_type": "text"
      },
      "source": [
        "<a href=\"https://colab.research.google.com/github/BrandonCay/-DSP-performance-prediction/blob/main/DSP_performance_prediction.ipynb\" target=\"_parent\"><img src=\"https://colab.research.google.com/assets/colab-badge.svg\" alt=\"Open In Colab\"/></a>"
      ]
    },
    {
      "cell_type": "markdown",
      "metadata": {
        "id": "5fCEDCU_qrC0"
      },
      "source": [
        "<p><img alt=\"Colaboratory logo\" height=\"45px\" src=\"/img/colab_favicon.ico\" align=\"left\" hspace=\"10px\" vspace=\"0px\"></p>\n",
        "\n",
        "<h1>What is Colaboratory?</h1>\n",
        "\n",
        "Colaboratory, or \"Colab\" for short, allows you to write and execute Python in your browser, with \n",
        "- Zero configuration required\n",
        "- Free access to GPUs\n",
        "- Easy sharing\n",
        "\n",
        "Whether you're a **student**, a **data scientist** or an **AI researcher**, Colab can make your work easier. Watch [Introduction to Colab](https://www.youtube.com/watch?v=inN8seMm7UI) to learn more, or just get started below!"
      ]
    },
    {
      "cell_type": "code",
      "metadata": {
        "id": "qIyqFyP4YiBT"
      },
      "source": [
        ""
      ],
      "execution_count": 51,
      "outputs": []
    },
    {
      "cell_type": "markdown",
      "metadata": {
        "id": "GJBs_flRovLc"
      },
      "source": [
        "## **Getting started**\n",
        "\n",
        "The document you are reading is not a static web page, but an interactive environment called a **Colab notebook** that lets you write and execute code.\n",
        "\n",
        "For example, here is a **code cell** with a short Python script that computes a value, stores it in a variable, and prints the result:"
      ]
    },
    {
      "cell_type": "code",
      "metadata": {
        "colab": {
          "base_uri": "https://localhost:8080/"
        },
        "id": "gJr_9dXGpJ05",
        "outputId": "5e5e63af-c703-46d0-fe0a-fe0b8b24ec76"
      },
      "source": [
        "seconds_in_a_day = 24 * 60 * 60\n",
        "seconds_in_a_day"
      ],
      "execution_count": 52,
      "outputs": [
        {
          "output_type": "execute_result",
          "data": {
            "text/plain": [
              "86400"
            ]
          },
          "metadata": {},
          "execution_count": 52
        }
      ]
    },
    {
      "cell_type": "markdown",
      "metadata": {
        "id": "2fhs6GZ4qFMx"
      },
      "source": [
        "To execute the code in the above cell, select it with a click and then either press the play button to the left of the code, or use the keyboard shortcut \"Command/Ctrl+Enter\". To edit the code, just click the cell and start editing.\n",
        "\n",
        "Variables that you define in one cell can later be used in other cells:"
      ]
    },
    {
      "cell_type": "code",
      "metadata": {
        "colab": {
          "base_uri": "https://localhost:8080/"
        },
        "id": "-gE-Ez1qtyIA",
        "outputId": "208201b8-ecaa-4654-faa8-c20d5570baa1"
      },
      "source": [
        "seconds_in_a_week = 7 * seconds_in_a_day\n",
        "seconds_in_a_week"
      ],
      "execution_count": 53,
      "outputs": [
        {
          "output_type": "execute_result",
          "data": {
            "text/plain": [
              "604800"
            ]
          },
          "metadata": {},
          "execution_count": 53
        }
      ]
    },
    {
      "cell_type": "markdown",
      "metadata": {
        "id": "lSrWNr3MuFUS"
      },
      "source": [
        "Colab notebooks allow you to combine **executable code** and **rich text** in a single document, along with **images**, **HTML**, **LaTeX** and more. When you create your own Colab notebooks, they are stored in your Google Drive account. You can easily share your Colab notebooks with co-workers or friends, allowing them to comment on your notebooks or even edit them. To learn more, see [Overview of Colab](/notebooks/basic_features_overview.ipynb). To create a new Colab notebook you can use the File menu above, or use the following link: [create a new Colab notebook](http://colab.research.google.com#create=true).\n",
        "\n",
        "Colab notebooks are Jupyter notebooks that are hosted by Colab. To learn more about the Jupyter project, see [jupyter.org](https://www.jupyter.org)."
      ]
    },
    {
      "cell_type": "markdown",
      "metadata": {
        "id": "UdRyKR44dcNI"
      },
      "source": [
        "## Data science\n",
        "\n",
        "With Colab you can harness the full power of popular Python libraries to analyze and visualize data. The code cell below uses **numpy** to generate some random data, and uses **matplotlib** to visualize it. To edit the code, just click the cell and start editing."
      ]
    },
    {
      "cell_type": "code",
      "metadata": {
        "colab": {
          "base_uri": "https://localhost:8080/",
          "height": 281
        },
        "id": "C4HZx7Gndbrh",
        "outputId": "7e829906-b0dc-48d7-fbba-81b3d6870123"
      },
      "source": [
        "import numpy as np\n",
        "from matplotlib import pyplot as plt\n",
        "\n",
        "ys = 200 + np.random.randn(100)\n",
        "x = [x for x in range(len(ys))]\n",
        "\n",
        "plt.plot(x, ys, '-')\n",
        "plt.fill_between(x, ys, 195, where=(ys > 195), facecolor='g', alpha=0.6)\n",
        "\n",
        "plt.title(\"Sample Visualization\")\n",
        "plt.show()"
      ],
      "execution_count": 54,
      "outputs": [
        {
          "output_type": "display_data",
          "data": {
            "image/png": "[encoded data removed]",
            "text/plain": [
              "<Figure size 432x288 with 1 Axes>"
            ]
          },
          "metadata": {
            "needs_background": "light"
          }
        }
      ]
    },
    {
      "cell_type": "markdown",
      "metadata": {
        "id": "4_kCnsPUqS6o"
      },
      "source": [
        "You can import your own data into Colab notebooks from your Google Drive account, including from spreadsheets, as well as from Github and many other sources. To learn more about importing data, and how Colab can be used for data science, see the links below under [Working with Data](#working-with-data)."
      ]
    },
    {
      "cell_type": "markdown",
      "metadata": {
        "id": "OwuxHmxllTwN"
      },
      "source": [
        "## Machine learning\n",
        "\n",
        "With Colab you can import an image dataset, train an image classifier on it, and evaluate the model, all in just [a few lines of code](https://colab.research.google.com/github/tensorflow/docs/blob/master/site/en/tutorials/quickstart/beginner.ipynb). Colab notebooks execute code on Google's cloud servers, meaning you can leverage the power of Google hardware, including [GPUs and TPUs](#using-accelerated-hardware), regardless of the power of your machine. All you need is a browser."
      ]
    },
    {
      "cell_type": "markdown",
      "metadata": {
        "id": "ufxBm1yRnruN"
      },
      "source": [
        "Colab is used extensively in the machine learning community with applications including:\n",
        "- Getting started with TensorFlow\n",
        "- Developing and training neural networks\n",
        "- Experimenting with TPUs\n",
        "- Disseminating AI research\n",
        "- Creating tutorials\n",
        "\n",
        "To see sample Colab notebooks that demonstrate machine learning applications, see the [machine learning examples](#machine-learning-examples) below."
      ]
    },
    {
      "cell_type": "markdown",
      "metadata": {
        "id": "-Rh3-Vt9Nev9"
      },
      "source": [
        "## More Resources\n",
        "\n",
        "### Working with Notebooks in Colab\n",
        "- [Overview of Colaboratory](/notebooks/basic_features_overview.ipynb)\n",
        "- [Guide to Markdown](/notebooks/markdown_guide.ipynb)\n",
        "- [Importing libraries and installing dependencies](/notebooks/snippets/importing_libraries.ipynb)\n",
        "- [Saving and loading notebooks in GitHub](https://colab.research.google.com/github/googlecolab/colabtools/blob/master/notebooks/colab-github-demo.ipynb)\n",
        "- [Interactive forms](/notebooks/forms.ipynb)\n",
        "- [Interactive widgets](/notebooks/widgets.ipynb)\n",
        "- <img src=\"/img/new.png\" height=\"20px\" align=\"left\" hspace=\"4px\" alt=\"New\"></img>\n",
        " [TensorFlow 2 in Colab](/notebooks/tensorflow_version.ipynb)\n",
        "\n",
        "<a name=\"working-with-data\"></a>\n",
        "### Working with Data\n",
        "- [Loading data: Drive, Sheets, and Google Cloud Storage](/notebooks/io.ipynb) \n",
        "- [Charts: visualizing data](/notebooks/charts.ipynb)\n",
        "- [Getting started with BigQuery](/notebooks/bigquery.ipynb)\n",
        "\n",
        "### Machine Learning Crash Course\n",
        "These are a few of the notebooks from Google's online Machine Learning course. See the [full course website](https://developers.google.com/machine-learning/crash-course/) for more.\n",
        "- [Intro to Pandas](/notebooks/mlcc/intro_to_pandas.ipynb)\n",
        "- [Tensorflow concepts](/notebooks/mlcc/tensorflow_programming_concepts.ipynb)\n",
        "- [First steps with TensorFlow](/notebooks/mlcc/first_steps_with_tensor_flow.ipynb)\n",
        "- [Intro to neural nets](/notebooks/mlcc/intro_to_neural_nets.ipynb)\n",
        "- [Intro to sparse data and embeddings](/notebooks/mlcc/intro_to_sparse_data_and_embeddings.ipynb)\n",
        "\n",
        "<a name=\"using-accelerated-hardware\"></a>\n",
        "### Using Accelerated Hardware\n",
        "- [TensorFlow with GPUs](/notebooks/gpu.ipynb)\n",
        "- [TensorFlow with TPUs](/notebooks/tpu.ipynb)"
      ]
    },
    {
      "cell_type": "markdown",
      "metadata": {
        "id": "P-H6Lw1vyNNd"
      },
      "source": [
        "<a name=\"machine-learning-examples\"></a>\n",
        "\n",
        "## Machine Learning Examples\n",
        "\n",
        "To see end-to-end examples of the interactive machine learning analyses that Colaboratory makes possible, check out these  tutorials using models from [TensorFlow Hub](https://tfhub.dev).\n",
        "\n",
        "A few featured examples:\n",
        "\n",
        "- [Retraining an Image Classifier](https://tensorflow.org/hub/tutorials/tf2_image_retraining): Build a Keras model on top of a pre-trained image classifier to distinguish flowers.\n",
        "- [Text Classification](https://tensorflow.org/hub/tutorials/tf2_text_classification): Classify IMDB movie reviews as either *positive* or *negative*.\n",
        "- [Style Transfer](https://tensorflow.org/hub/tutorials/tf2_arbitrary_image_stylization): Use deep learning to transfer style between images.\n",
        "- [Multilingual Universal Sentence Encoder Q&A](https://tensorflow.org/hub/tutorials/retrieval_with_tf_hub_universal_encoder_qa): Use a machine learning model to answer questions from the SQuAD dataset.\n",
        "- [Video Interpolation](https://tensorflow.org/hub/tutorials/tweening_conv3d): Predict what happened in a video between the first and the last frame.\n"
      ]
    },
    {
      "cell_type": "code",
      "metadata": {
        "id": "YG4swMX4AzF4"
      },
      "source": [
        "#libraries used\n",
        "import tensorflow as tf\n",
        "from tensorflow.keras.models import Sequential\n",
        "from tensorflow.keras.layers import Dense, Flatten\n",
        "import numpy as np\n",
        "import matplotlib.pyplot as plt\n",
        "\n",
        "import unittest #for testing\n",
        "\n",
        "\"\"\"\n",
        "I should refactor code to not have multiple import statements and only have them here\n",
        "\"\"\""
      ],
      "execution_count": null,
      "outputs": []
    },
    {
      "cell_type": "code",
      "metadata": {
        "id": "YoaGx4yZGX3U",
        "colab": {
          "base_uri": "https://localhost:8080/",
          "height": 36
        },
        "outputId": "1b5f3bab-e28c-413e-8778-731dbbc4a7e0"
      },
      "source": [
        "string = 'Peter picked a pail of pickled peppers'\n",
        "string"
      ],
      "execution_count": 55,
      "outputs": [
        {
          "output_type": "execute_result",
          "data": {
            "application/vnd.google.colaboratory.intrinsic+json": {
              "type": "string"
            },
            "text/plain": [
              "'Peter picked a pail of pickled peppers'"
            ]
          },
          "metadata": {},
          "execution_count": 55
        }
      ]
    },
    {
      "cell_type": "code",
      "metadata": {
        "id": "lT17_nWX4YR9"
      },
      "source": [
        "globalGroupID=\"\"\n",
        "\n",
        "class DebugLog:\n",
        "  def __init__(self, groupsToPrint : list) -> None:\n",
        "    self.__groupsToPrint = groupsToPrint\n",
        "  \n",
        "  def print(self, message : str,  groupID = globalGroupID) -> None:\n",
        "    if(groupID in self.__groupsToPrint):\n",
        "      print(message)\n",
        "  \n",
        "  def set_groupsToPrint(groupsToPrint : list) -> None :\n",
        "    self.__groupsToPrint = groupsToPrint\n"
      ],
      "execution_count": 56,
      "outputs": []
    },
    {
      "cell_type": "code",
      "metadata": {
        "id": "xKuRkg9w-mLs"
      },
      "source": [
        "def create_global_debugger(groupsToPrint : list) -> DebugLog:\n",
        "  globalDL = DebugLog()\n",
        "  return globalDL"
      ],
      "execution_count": 57,
      "outputs": []
    },
    {
      "cell_type": "code",
      "metadata": {
        "id": "alrCH4Us5scf"
      },
      "source": [
        "\n",
        "def try_global_debugger():\n",
        "  groupsToPrint = [\"g1\", \"collectHistories\"]\n",
        "  globalDL = create_global_debugger(groupsToPrint)\n",
        "  globalGroupID = \"g1\"\n",
        "  globalDL.print(\"I want to print these messages\", globalGroupID)\n",
        "  globalGroupID = \"notAGroupToPrint\" #arbitrary ID\n",
        "  globalDL.print(\"I don't want to print thesse messages anymore\", globalGroupID)\n"
      ],
      "execution_count": 58,
      "outputs": []
    },
    {
      "cell_type": "code",
      "metadata": {
        "id": "IVNvKnFNUsFE"
      },
      "source": [
        "# This is the first code you should start from\n",
        "import tensorflow as tf\n",
        "\n",
        "def try_tensorflow():\n",
        "  print(tf.__version__)"
      ],
      "execution_count": 59,
      "outputs": []
    },
    {
      "cell_type": "code",
      "metadata": {
        "id": "XTEF949BBo0K"
      },
      "source": [
        "# Our data are stored in GITHUB, goto  https://github.com/bsuwpc/DSP click correct pure normalized data.csv, then click RAW. Copy its link address and paste to URL below, that link address of RAW data is temporary (expired in 5 minutes)\n",
        "class UrlManager:\n",
        "  def __init__(self) -> None:\n",
        "    self.__newDataUrl = 'https://raw.githubusercontent.com/bsuwpc/DSP/main/2021_11_16_processedData.csv?token=ARTBCIJ4D3OY7I5JRMYU4OTBSUXVM'\n",
        "    self.__originalDataUrl = 'https://raw.githubusercontent.com/bsuwpc/DSP/main/correct%20pure%20normalized%20data.csv?token=ARTBCILKD2QF5SZYETYABMDBSL64Y' #For clarifying what data was tested before; url still have to updated\n",
        "  \n",
        "  def get_newDataUrl(self) -> str:\n",
        "    return self.__newDataUrl\n",
        "\n",
        "  def get_originalDataUrl(self) -> str:\n",
        "    return self.__originalDataUrl \n",
        "\n",
        "  \n",
        "\n"
      ],
      "execution_count": 60,
      "outputs": []
    },
    {
      "cell_type": "code",
      "metadata": {
        "id": "d97Vu26qCLDZ"
      },
      "source": [
        "import pandas as pd\n",
        "\n",
        "def original_read_csv(url : str) -> pd.DataFrame: \n",
        "  data = pd.read_csv(url)\n",
        "  return data\n",
        "# If some error, redo above code to get data from GITHUB\n"
      ],
      "execution_count": 61,
      "outputs": []
    },
    {
      "cell_type": "code",
      "metadata": {
        "id": "m1Xr1vKYDfVe"
      },
      "source": [
        "import pandas as pd\n",
        "\n",
        "def original_print_head(data : pd.DataFrame)  -> pd.DataFrame:\n",
        "  print(data.head())\n",
        "# compare this result with our normalized data to confirm."
      ],
      "execution_count": 62,
      "outputs": []
    },
    {
      "cell_type": "code",
      "metadata": {
        "id": "CAPQzLvOQVPH"
      },
      "source": [
        "import pandas as pd\n",
        "\n",
        "def original_print_info(data : pd.DataFrame ) -> None:\n",
        "   print(data.info())\n",
        "# for confirmation"
      ],
      "execution_count": 63,
      "outputs": []
    },
    {
      "cell_type": "code",
      "metadata": {
        "id": "NqKr54chB2al"
      },
      "source": [
        "def removeCols(data):\n",
        "    emptyCol= 'Unnamed: 20'\n",
        "    nonAdjustedExecutionTime = 'execution time'\n",
        "    data = data.drop(emptyCol, axis=1)\n",
        "    data = data.drop(nonAdjustedExecutionTime, axis=1)\n",
        "    return data\n",
        "\n"
      ],
      "execution_count": 64,
      "outputs": []
    },
    {
      "cell_type": "code",
      "metadata": {
        "id": "x2Eqn_KE4KmU"
      },
      "source": [
        "def preprocessData(data):\n",
        "  data = removeCols(data)\n",
        "  return data"
      ],
      "execution_count": 65,
      "outputs": []
    },
    {
      "cell_type": "code",
      "metadata": {
        "id": "vq4s6wcpPsVD"
      },
      "source": [
        "import pandas as  pd\n",
        "\n",
        "def describe_data(data: pd.DataFrame) -> pd.DataFrame:\n",
        "  data_t = data.describe()\n",
        "  desc = data_t.T\n",
        "  desc\n",
        "  return desc\n",
        "# count = 33, which means our data contain 33 samples "
      ],
      "execution_count": 66,
      "outputs": []
    },
    {
      "cell_type": "code",
      "metadata": {
        "id": "RiscujXcwPFo"
      },
      "source": [
        "import pandas as pd\n",
        "\n",
        "def show_attribute_stats(desc : pd.DataFrame) -> pd.DataFrame:\n",
        "  return desc[['mean', 'std']]\n",
        "# this results show that all features (attributes in uur papers) vary over a wide range"
      ],
      "execution_count": 67,
      "outputs": []
    },
    {
      "cell_type": "code",
      "metadata": {
        "id": "Bg3ZsVCheXWK"
      },
      "source": [
        "import pandas as pd\n",
        "\n",
        "def get_cols(data : pd.DataFrame)-> list: \n",
        "  cols = list(data)\n",
        "  cols\n",
        "  return cols\n",
        "# this code is not necessary"
      ],
      "execution_count": 68,
      "outputs": []
    },
    {
      "cell_type": "code",
      "metadata": {
        "id": "xzycqBrN_HVW"
      },
      "source": [
        "# create a copy of the DataFrame\n",
        "import pandas as pd\n",
        "\n",
        "def get_target(data : pd.DataFrame, url : str) -> pd.DataFrame:\n",
        "  df = data.copy()\n",
        "  # create the target\n",
        "  targetAttributeName=''\n",
        "  if(url == newDataUrl):\n",
        "    targetAttributeName='adjusted execution time'\n",
        "  else:\n",
        "    targetAttributeName='execution time'\n",
        "\n",
        "    \n",
        "  target = df.pop(targetAttributeName)\n",
        "  print (target.head())\n",
        "  return target\n",
        "# execution time is the target of prediction, using df.pop to create the target set; rest of df are feature sets. target.head shows the first 5 samples' target values\n"
      ],
      "execution_count": 69,
      "outputs": []
    },
    {
      "cell_type": "code",
      "metadata": {
        "id": "aGOJJjHJ_nyK"
      },
      "source": [
        "import pandas as pd\n",
        "\n",
        "def print_head(df: pd.DataFrame)-> None:\n",
        "  print(df.head())   \n",
        "# check the first five feature sets"
      ],
      "execution_count": 70,
      "outputs": []
    },
    {
      "cell_type": "code",
      "metadata": {
        "id": "tbP72T5o_vL3"
      },
      "source": [
        "import pandas as pd\n",
        "\n",
        "def get_feature_cols(df : pd.DataFrame) -> list:\n",
        "  feature_cols = list(df)\n",
        "  return feature_cols\n",
        "\n",
        "# check names of features"
      ],
      "execution_count": 71,
      "outputs": []
    },
    {
      "cell_type": "code",
      "metadata": {
        "id": "767m3hSi_-sK"
      },
      "source": [
        "def get_length_of_feature_col(feature_cols : list):\n",
        "  len(feature_cols)\n",
        "# check total number of features"
      ],
      "execution_count": 72,
      "outputs": []
    },
    {
      "cell_type": "code",
      "metadata": {
        "id": "lGnBY0nFADfo"
      },
      "source": [
        "import numpy as np\n",
        "import pandas as  pd\n",
        "\n",
        "PureDataManagerFactory_cnt = 0\n",
        "\n",
        "class PureDataManager:\n",
        "  def __init__(self , pureDataForTraining : dict) -> None:\n",
        "    self.__pureDataForTraining = pureDataForTraining\n",
        "    self.__keyToFeatureData = \"features\"\n",
        "    self.__keyToLabelData  = \"labels\"\n",
        "\n",
        "  def get_features(self):\n",
        "    self.__pureDataForTraining[self.__keyToFeatureData]\n",
        "  \n",
        "  def get_labels(self):\n",
        "    self.__pureDataForTraining[self.__keyToFeatureData]\n",
        "\n",
        "\n",
        "class PureDataManagerFactory:\n",
        "  def __init__(self, object_from_this_class_cnt = PureDataManagerFactory_cnt) -> None  :\n",
        "    self.__object_cnt = object_from_this_class_cnt\n",
        "    if(self.__object_cnt > 1):\n",
        "      raise Exception(\"Only one object for this class\")\n",
        "    else:\n",
        "      PureDataManagerFactory_cnt+=1\n",
        "\n",
        "  def make_pure_data_manager(self, featureDf : pd.DataFrame, targetDf: pd.DataFrame  ) -> PureDataManager:\n",
        "    features = featureDf.values\n",
        "    labels = targetDf.values\n",
        "\n",
        "    puredata = {\n",
        "        \"features\": features,\n",
        "        \"labels\": labels\n",
        "    }\n",
        "    \n",
        "    return PureDataManager(pureData)\n",
        "\n",
        "  def __del__(self) -> None:\n",
        "    PureDataManagerFactory_cnt -= 1\n",
        "    \n",
        "\n",
        "def try_pure_data_manager(df : pd.DataFrame, target : pd.DataFrame) -> None:\n",
        "  factory = PureDataManagerFactory()\n",
        "  puredata = factory.make_pure_data_manager(df , target)\n",
        "  \n",
        "  print(puredata.get_features())\n",
        "  print(puredata.get_labels())\n",
        "  print(type(features), type(labels))\n",
        "# features and labels are pure data, all named are removed"
      ],
      "execution_count": 73,
      "outputs": []
    },
    {
      "cell_type": "code",
      "metadata": {
        "id": "ioRh061XANom"
      },
      "source": [
        "import pandas as pd\n",
        "def print_pure_data(df : pd.DataFrame, target: pd.DataFrame ) -> None:\n",
        "  features = df.values\n",
        "  labels = target.values\n",
        "  print(features)\n",
        "  print\n",
        "  print(labels)\n",
        "# compare results with \"correct pure normalized data \" xlxs or csv file"
      ],
      "execution_count": 74,
      "outputs": []
    },
    {
      "cell_type": "code",
      "metadata": {
        "id": "ZMwHGManA1ZO"
      },
      "source": [
        "import numpy as np\n",
        "import pandas as pd\n",
        "\n",
        "class InputVariablesManager: \n",
        "  def __init__(self, input_variables : dict ) -> None :\n",
        "    self.__input_variables =  input_variables\n",
        "    self.__key_to_train_input = \"X_train\"\n",
        "    self.__key_to_validation_input = \"X_test\"\n",
        "  def get_train_input_variables(self) -> np.ndarray:\n",
        "    return self.__input_variables[self.__key_to_train_input]\n",
        "  \n",
        "  def get_validation_input_variables(self) -> np.ndarray:\n",
        "    return self.__input_variables[self.__key_to_validation_input]\n",
        "\n",
        "class InputVariablesCreator:\n",
        "  def __init__(self, features : np.ndarray, num_of_slices = 25) -> None:\n",
        "    self.__features = features \n",
        "    self.__num_of_slices = num_of_slices\n",
        "\n",
        "  def seperate_training_and_testing_inputs(self) -> InputVariablesManager:\n",
        "    X_train, X_test = np.vsplit(self.__features,[self.__num_of_slices])\n",
        "    input_variables = {\n",
        "        \"X_train\" : X_train,\n",
        "        \"X_test\": X_test\n",
        "    }\n",
        "\n",
        "    input_variables = InputVariablesManager(input_variables)\n",
        "    return input_variables\n",
        "  \n",
        "\n",
        "# separate training set and testing set of features, the first 25 samples are for training"
      ],
      "execution_count": 75,
      "outputs": []
    },
    {
      "cell_type": "code",
      "metadata": {
        "id": "bdUxuLlAEUKx"
      },
      "source": [
        "import numpy as np\n",
        "\n",
        "\n",
        "class TargetVariablesManager: \n",
        "  def __init__(self, target_variables : dict ) -> None :\n",
        "    self.__target_variables =  target_variables\n",
        "    self.__key_to_train_target = \"y_train\"\n",
        "    self.__key_to_validation_target = \"y_test\"\n",
        "  def get_train_target_variables(self) -> np.ndarray:\n",
        "    return self.__target_variables[self.__key_to_train_target]\n",
        "  \n",
        "  def get_validation_target_variables(self) -> np.ndarray:\n",
        "    return self.__target_variables[self.__key_to_validation_target]\n",
        "\n",
        "\n",
        "class TargetVariablesCreator:\n",
        "  def __init__(self, labels : np.ndarray, num_of_slices = 25) -> None:\n",
        "    self.__labels = lables\n",
        "    self.__num_of_slices = num_of_slices\n",
        "  \n",
        "  def seperate_training_and_testing_inputs(self) -> TargetVariablesManager:\n",
        "    y_train, y_test = np.split(self.__labels,[self.__num_of_slices])\n",
        "    target_variables ={\n",
        "        \"y_train\": y_train,\n",
        "        \"y_test\" : y_test\n",
        "    }\n",
        "\n",
        "    return TargetVariablesManager(target_variables)\n",
        "\n",
        "\n",
        "# separate training set and testing set of lables. Please notive case semsitive."
      ],
      "execution_count": 76,
      "outputs": []
    },
    {
      "cell_type": "code",
      "metadata": {
        "id": "OL48uJjhC-k1"
      },
      "source": [
        "import numpy as np\n",
        "\n",
        "def print_input_variables(X_train : np.ndarray , X_test : np.ndarray) ->  None :\n",
        "  br='\\n'\n",
        "  print ('X_train:', end=' ')\n",
        "  print (X_train, br)\n",
        "  print ('X_test:', end=' ')\n",
        "  print (X_test)\n",
        "# print training set and testing set of features, compare results with \"correct pure normalized data \" xlxs or csv file"
      ],
      "execution_count": 77,
      "outputs": []
    },
    {
      "cell_type": "code",
      "metadata": {
        "id": "8JU3UBy8DY0Y"
      },
      "source": [
        "import numpy as np\n",
        "\n",
        "def print_input_variables(y_train: np.ndarray, y_test: np.ndarray) -> None:\n",
        "  br='\\n'\n",
        "  print ('y_train:', end=' ')\n",
        "  print (y_train, br)\n",
        "  print ('y_test:', end=' ')\n",
        "  print (y_test)\n",
        "# print training set and testing set of labels, compare results with \"correct pure normalized data \" xlxs or csv file"
      ],
      "execution_count": 78,
      "outputs": []
    },
    {
      "cell_type": "code",
      "metadata": {
        "id": "Nb97BBMFFJJ2"
      },
      "source": [
        "\"\"\"\n",
        "the result of test_bs must come from the train or test object\n",
        "\n",
        "tensor slices ((input data_std -> target val))\n",
        "\n",
        "\"\"\"\n",
        "\n",
        "\n",
        "import tensorflow as tf\n",
        "# scale feature data and create TensorFlow tensors\n",
        "from sklearn.preprocessing import StandardScaler\n",
        "\n",
        "#wrapper to hold old code while being functional\n",
        "def create_datasets(X_train: list , X_test:list,  y_train : list, y_test : list ) -> dict: \n",
        "  scaler = StandardScaler()\n",
        "  X_train_std = scaler.fit_transform(X_train)\n",
        "  X_test_std = X_test\n",
        "  train = tf.data.Dataset.from_tensor_slices( (X_train_std, y_train))\n",
        "  test = tf.data.Dataset.from_tensor_slices( (X_test_std, y_test))\n",
        "  \n",
        "  dataSets = {\n",
        "      \"train\": train,\n",
        "      \"test\" : test\n",
        "  }\n",
        "  return dataSets \n",
        "\n",
        "# train and test are TF tensors of training and testing sets separately, each item contains feature and lable two components\n",
        "\n",
        "def get_training_set(dataSets: dict, keyToTrainingSet = \"train\") -> list:\n",
        "  return dataSets[keyToTrainingSet]\n",
        "\n",
        "def get_testing_set(dataSets: dict, keyToTrainingSet = \"test\"):\n",
        "  return dataSets[keyToTrainingSet]\n",
        "  \n",
        "\n"
      ],
      "execution_count": 79,
      "outputs": []
    },
    {
      "cell_type": "code",
      "source": [
        "class ConverterToDatasetBusinessInterface:\n",
        "  def convert(self) -> tf.data.Dataset:\n",
        "    pass"
      ],
      "metadata": {
        "id": "NJG6gRYs9HZG"
      },
      "execution_count": 80,
      "outputs": []
    },
    {
      "cell_type": "code",
      "source": [
        "import tensorflow as tf\n",
        "from sklearn.preprocessing import StandardScaler\n",
        "\n",
        "class TrainingDataConverterToTensorDatasetBusiness(ConverterToDatasetBusinessInterface):\n",
        "  def __init__(self, inputDataToTransform : list, targetDataToTransform : list, scaler = StandardScaler()\n",
        ") -> None :\n",
        "    self.__inputDataToTransform = inputDataToTransform\n",
        "    self.__targetDataToTransform = targetDataToTransform \n",
        "    self.__scaler = scaler\n",
        "  \n",
        "  def convert(self) -> tf.data.Dataset:\n",
        "    inputDataScaledToStandard = self.__scaler.fit_transform(self.__inputDataToTransform)\n",
        "    tensorDataset = tf.data.Dataset.from_tensor_slices((inputDataScaledToStandard, self.__targetDataToTransform)) \n",
        "    return tensorDataset\n",
        "  \n",
        "\n",
        "    \n",
        "    \n",
        "     "
      ],
      "metadata": {
        "id": "T4ALAcn7NeS7"
      },
      "execution_count": 81,
      "outputs": []
    },
    {
      "cell_type": "code",
      "source": [
        "import tensorflow as tf\n",
        "\n",
        "class ValidationDataConvertToTensorDatasetBusiness(ConverterToDatasetBusinessInterface):\n",
        "  def __init__(self, inputDataToTransform:list, targetDataToTransform:list) -> None :\n",
        "    self.__inputDataToTransform= inputDataToTransform\n",
        "    self.__targetDataToTransform = targetDataToTransform \n",
        "    \n",
        "  def convert(self) -> tf.data.Dataset:\n",
        "    tensorDataset = tf.data.Dataset.from_tensor_slices((self.__inputDataToTransform, self.__targetDataToTransform))\n",
        "    return tensorDataset\n",
        "\n",
        "  "
      ],
      "metadata": {
        "id": "zc6pGt0762zb"
      },
      "execution_count": 82,
      "outputs": []
    },
    {
      "cell_type": "code",
      "source": [
        "class TestConstants:\n",
        "  def __init__(self):\n",
        "    self.__EXAMPLE_DATASETS = {\n",
        "      \"features\"  : tf.constant([[1, 3], [2, 1], [3, 3]]),\n",
        "      \"labels\" : tf.constant(['A', 'B', 'A'])\n",
        "    } \n",
        "\n",
        "  def get_EXAMPLE_DATASETS(self) -> dict:\n",
        "    return self.__EXAMPLE_DATASETS\n",
        "\n",
        "  def get_EXAMPLE_DATASETS_val(self, key: str ) -> any: #broken method. 1 argument, expected two error but self is here\n",
        "    return self.__EXAMPLE_DATASETS[key] #because constant?"
      ],
      "metadata": {
        "id": "WygyJBA5wAQ3"
      },
      "execution_count": 83,
      "outputs": []
    },
    {
      "cell_type": "code",
      "source": [
        "SINGLETON_TestConstants = TestConstants()"
      ],
      "metadata": {
        "id": "NV-bp53Mw5-T"
      },
      "execution_count": 84,
      "outputs": []
    },
    {
      "cell_type": "code",
      "source": [
        "import unittest\n",
        "import tensorflow as tf\n",
        "# scale feature data and create TensorFlow tensors\n",
        "from sklearn.preprocessing import StandardScaler\n",
        "\n",
        "\n",
        "class TestConverterToTensorDatasetBusiness(unittest.TestCase):\n",
        "  def __init__(self) -> None:\n",
        "    features = SINGLETON_TestConstants_OBJ.get_EXAMPLE_DATASETS()[\"features\"]\n",
        "    labels = SINGLETON_TestConstants_OBJ.get_EXAMPLE_DATASETS()[\"labels\"] \n",
        "\n",
        "    self.__given_training_input_data =  features\n",
        "    self.__given_training_target_data = labels\n",
        "    self.__given_test_input_data = features\n",
        "    self.__given_test_target_data = labels\n",
        "  \n",
        "  def __original_code_to_tensor_dataset(self) -> dict:\n",
        "    dataSets = create_datasets(self.__given_training_input_data, self.__given_test_input_data, self.__given_training_target_data, self.__given_test_target_data)\n",
        "    return dataSets\n",
        "\n",
        "  \n",
        "  def __refactored_code_to_tensor_dataset(self) -> dict:\n",
        "    training_data_converter = TrainingDataConverterToTensorDatasetBusiness(self.__given_training_input_data, self.__given_training_target_data)\n",
        "    validation_data_converter = ValidationDataConvertToTensorDatasetBusiness(self.__given_test_input_data, self.__given_test_target_data)\n",
        "\n",
        "    training_dataset = training_data_converter.convert()\n",
        "    validation_dataset = validation_data_converter.convert()\n",
        "    dataSet = {\n",
        "        \"train\" : training_dataset,\n",
        "        \"test\": validation_dataset\n",
        "    }\n",
        "    return dataSet\n",
        "\n",
        "  def test_converter(self) -> None:\n",
        "    \n",
        "    originalRes = self.__original_code_to_tensor_dataset()\n",
        "    refactoredRes = self.__refactored_code_to_tensor_dataset()\n",
        "    \n",
        "    comparable_original_result = self.__convert_to_value_to_compare(originalRes)\n",
        "    comparable_refactored_result = self.__convert_to_value_to_compare(refactoredRes)\n",
        "        \n",
        "    if(not self.__assert_equal('','')):\n",
        "      raise Exception(\"string representations (coverted with str()) of tensor data sets are not equal\")\n",
        "    else:\n",
        "      print(f\"{TestConverterToTensorDatasetBusiness.__name__} test case passed\")\n",
        "  \n",
        "  def __convert_to_value_to_compare(self, toCompareInAssert : tf.data.Dataset) -> str: \n",
        "    return str(toCompareInAssert)\n",
        "  \n",
        "  def __assert_equal(self, original_result : str,  refactored_result: str ) -> bool:\n",
        "    return original_result == refactored_result\n",
        "\n",
        "  def run(self) -> None:\n",
        "    self.test_converter()\n",
        "     \n"
      ],
      "metadata": {
        "id": "IVIyb7yFwmd2"
      },
      "execution_count": 85,
      "outputs": []
    },
    {
      "cell_type": "code",
      "metadata": {
        "id": "Ns1mDp3LFdm6"
      },
      "source": [
        "import tensorflow as tf\n",
        "\n",
        "def original_print_datasets(train : tf.data.Dataset, test: tf.data.Dataset ) -> None:\n",
        "  print ('train:', end=' ')\n",
        "  print (train, br)\n",
        "  print ('test:', end=' ')\n",
        "  print (test)\n",
        "# can not show whole picture of train and test tensors."
      ],
      "execution_count": 86,
      "outputs": []
    },
    {
      "cell_type": "code",
      "metadata": {
        "id": "bXdrtrfpFgf2"
      },
      "source": [
        "import tensorflow as tf\n",
        "\n",
        "def original_print_input_datasets_standard_scaled(X_train_std : tf.data.Dataset, X_test_std: tf.data.Dataset) -> None:\n",
        "  print ('X_train_std:', end=' ')\n",
        "  print (X_train_std, br)\n",
        "  print ('X_test_std:', end=' ')\n",
        "  print (X_test_std)\n",
        "# this code is not necessary"
      ],
      "execution_count": 87,
      "outputs": []
    },
    {
      "cell_type": "code",
      "metadata": {
        "id": "h1ycjxAGFwx6"
      },
      "source": [
        "def see_samples(data, num = 5):\n",
        "  for feat, targ in data.take(num):\n",
        "    print ('Features: {}'.format(feat), br)\n",
        "    print ('Target: {}'.format(targ))\n",
        "# using this code can show the first five tensors of training set"
      ],
      "execution_count": 90,
      "outputs": []
    },
    {
      "cell_type": "code",
      "metadata": {
        "id": "DXShDCoYG3CB"
      },
      "source": [
        "\n",
        "def original_dataset_process(train : tf.data.Dataset, test: tf.data.Dataset) -> dict:\n",
        "  BATCH_SIZE, SHUFFLE_BUFFER_SIZE  = 10, 10\n",
        "  train_bs = train.shuffle(\n",
        "      SHUFFLE_BUFFER_SIZE).batch(BATCH_SIZE).prefetch(1)\n",
        "  test_bs = test.batch(BATCH_SIZE).prefetch(1)\n",
        "\n",
        "  data_sets = {\n",
        "      \"train_bs\" : train_bs,\n",
        "      \"test_bs\" : test_bs\n",
        "  }\n",
        "\n",
        "  return data_sets\n",
        "\n",
        "# same funcs, names are just to illustrate purpose\n",
        "def get_train_bs(data_sets, keyToTrain = \"train_bs\") -> tf.data.Dataset:\n",
        "  return data_sets[keyToTrain]\n",
        "\n",
        "def get_test_bs(data_sets, keyToTrain = \"test_bs\") -> tf.data.Dataset:\n",
        "  return data_sets[keyToTrain]\n",
        "# this code is necessary even our small data set does not need batch and shuffle\n",
        "\n"
      ],
      "execution_count": 91,
      "outputs": []
    },
    {
      "cell_type": "code",
      "source": [
        "import tensorflow as tf\n",
        "\n",
        "class DatasetProcessorInterface:\n",
        "  def process_data(self) -> tf.data.Dataset:\n",
        "    pass"
      ],
      "metadata": {
        "id": "ykxWAF2Murh8"
      },
      "execution_count": 92,
      "outputs": []
    },
    {
      "cell_type": "code",
      "source": [
        "import tensorflow as tf\n",
        "\n",
        "BATCH_SIZE, SHUFFLE_BUFFER_SIZE  = 10, 10\n",
        "\n",
        "class TrainingDatasetProcessor(DatasetProcessorInterface):\n",
        "  def __init__(self, datasetToGiveModel:tf.data.Dataset, batch_size = BATCH_SIZE, shuffle_buffer_size = SHUFFLE_BUFFER_SIZE , prefetch_buffer_size = 1) -> None:\n",
        "    self.__datasetToGiveModel = datasetToGiveModel\n",
        "    self.__batch_size = batch_size \n",
        "    self.__shuffle_buffer_size = shuffle_buffer_size\n",
        "    self.__prefetch_buffer_size = prefetch_buffer_size\n",
        "  \n",
        "  def process_data(self) -> tf.data.Dataset:\n",
        "     shuffled_dataset = self.__shuffle_dataset()\n",
        "     batched_dataset = self.__convert_dataset_to_batches_to_be_used_in_a_training_iteration(shuffled_dataset)\n",
        "     processed_data = self.__prefetch_elements_from_dataset(batched_dataset)\n",
        "     return processed_data\n",
        "  \n",
        "  def __shuffle_dataset(self) -> tf.data.Dataset:\n",
        "    shuffled_dataset = self.__datasetToGiveModel.shuffle(self.__shuffle_buffer_size)\n",
        "    return shuffled_dataset\n",
        "\n",
        "  def __convert_dataset_to_batches_to_be_used_in_a_training_iteration(self, shuffled_dataset: tf.data.Dataset) -> tf.data.Dataset:\n",
        "    batched_dataset = shuffled_dataset.batch(self.__batch_size)\n",
        "    return batched_dataset\n",
        "  \n",
        "  def __prefetch_elements_from_dataset (self, batched_dataset: tf.data.Dataset) -> tf.data.Dataset:\n",
        "    prefetched_dataset = batched_dataset.prefetch(self.__prefetch_buffer_size)\n",
        "    return prefetched_dataset\n",
        "    "
      ],
      "metadata": {
        "id": "42AqIfm4rL7I"
      },
      "execution_count": 93,
      "outputs": []
    },
    {
      "cell_type": "code",
      "source": [
        "import tensorflow as tf\n",
        "\n",
        "BATCH_SIZE, SHUFFLE_BUFFER_SIZE  = 10, 10\n",
        "\n",
        "\n",
        "class ValiationDatasetProcessor(DatasetProcessorInterface):\n",
        "  def __init__(self, datasetToGiveModel:tf.data.Dataset, batch_size = BATCH_SIZE , prefetch_buffer_size = 1) -> None:\n",
        "    self.__datasetToGiveModel = datasetToGiveModel\n",
        "    self.__batch_size = batch_size \n",
        "    self.__prefetch_buffer_size = prefetch_buffer_size\n",
        "  \n",
        "  def process_data(self) -> tf.data.Dataset:\n",
        "     batched_dataset = self.__convert_dataset_to_batches_to_be_used_in_a_training_iteration(self.__datasetToGiveModel)\n",
        "     processed_data = self.__prefetch_elements_from_dataset(batched_dataset)\n",
        "     return processed_data\n",
        "  \n",
        "\n",
        "  def __convert_dataset_to_batches_to_be_used_in_a_training_iteration(self, shuffled_dataset: tf.data.Dataset) -> tf.data.Dataset:\n",
        "    batched_dataset = shuffled_dataset.batch(self.__batch_size)\n",
        "    return batched_dataset\n",
        "  \n",
        "  def __prefetch_elements_from_dataset (self, batched_dataset: tf.data.Dataset) -> tf.data.Dataset:\n",
        "    prefetched_dataset = batched_dataset.prefetch(self.__prefetch_buffer_size)\n",
        "    return prefetched_dataset\n"
      ],
      "metadata": {
        "id": "NkNwza0wuo3f"
      },
      "execution_count": 94,
      "outputs": []
    },
    {
      "cell_type": "code",
      "source": [
        "import unittest\n",
        "\n",
        "class TestDatasetProcessor(unittest.TestCase):\n",
        "  def __init__(self):\n",
        "    self.__given_training_dataset = self.__get_training_dataset()\n",
        "    self.__given_test_dataset =  self.__get_test_dataset()\n",
        "    self.__batch_size = 10\n",
        "    self.__shuffle_buffer_size = 10\n",
        "    self.__prefetch_buffer_size = 1\n",
        "\n",
        "  \n",
        "  def run(self):\n",
        "    self.test_process_data()\n",
        "     \n",
        "  def test_process_data(self):\n",
        "    original_datasets = self.__original_code()\n",
        "    refactored_datasets = self.__refactored_code()\n",
        "\n",
        "    comparable_original  = self.__convert_to_comparable(original_datasets)\n",
        "    comparable_refactored  = self.__convert_to_comparable(refactored_datasets)\n",
        "\n",
        "    self.__comparison_operation(comparable_original, comparable_refactored)\n",
        "\n",
        "    \n",
        "\n",
        "  def __convert_to_comparable(self, dataset: tf.data.Dataset) -> str:\n",
        "    return str(dataset)\n",
        "  \n",
        "  def __comparison_operation(self, original_datasets : str, refactored_datasets:str) -> None:\n",
        "    if(not original_datasets == refactored_datasets):\n",
        "      raise Exception(\"the string representations of the processed datasets are not equal\")\n",
        "    else: \n",
        "      print(f\"{TestDatasetProcessor.__name__} test case passed\")\n",
        "    \n",
        "\n",
        "  def __original_code(self) -> dict:\n",
        "    return original_dataset_process(self.__given_training_dataset, self.__given_test_dataset)\n",
        "\n",
        "  def __refactored_code(self) -> tf.data.Dataset:\n",
        "    processor = ValiationDatasetProcessor(self.__given_test_dataset)\n",
        "    proccessed_test_data = processor.process_data()\n",
        "\n",
        "    processor = TrainingDatasetProcessor(self.__given_training_dataset)\n",
        "    processed_training_data = processor.process_data()\n",
        "\n",
        "    data_sets = { \n",
        "        \"train_bs\": processed_training_data,\n",
        "        \"test_bs\" : proccessed_test_data\n",
        "    }\n",
        "\n",
        "    return data_sets\n",
        "  \n",
        "  def __get_test_dataset(self):\n",
        "    labels = SINGLETON_TestConstants_OBJ.get_EXAMPLE_DATASETS()[\"labels\"]\n",
        "    features = SINGLETON_TestConstants_OBJ.get_EXAMPLE_DATASETS()[\"features\"]\n",
        "\n",
        "    return ValidationDataConvertToTensorDatasetBusiness(features, labels).convert()\n",
        "  \n",
        "  def __get_training_dataset(self):\n",
        "    labels = SINGLETON_TestConstants_OBJ.get_EXAMPLE_DATASETS()[\"labels\"]\n",
        "    features = SINGLETON_TestConstants_OBJ.get_EXAMPLE_DATASETS()[\"features\"]\n",
        "\n",
        "\n",
        "    return TrainingDataConverterToTensorDatasetBusiness(features,labels ).convert()\n",
        "\n",
        "    \n"
      ],
      "metadata": {
        "id": "n4x68kswr6Ya"
      },
      "execution_count": 95,
      "outputs": []
    },
    {
      "cell_type": "code",
      "metadata": {
        "id": "jX-gasZcHZCs"
      },
      "source": [
        "import tensorflow as tf \n",
        "def print_batch_datasets(train_bs : tf.data.Dataset, test_bs : tf.data.Dataset) -> None:\n",
        "  print(train_bs)\n",
        "  print(test_bs)\n",
        "# train_bs and test_bs will be used in training model and validating later, please make sure the results must be correct."
      ],
      "execution_count": 98,
      "outputs": []
    },
    {
      "cell_type": "code",
      "metadata": {
        "id": "qTXeeFr7ctSy"
      },
      "source": [
        "import matplotlib.pyplot as plt\n",
        "def plot_history(history, limit1, limit2):\n",
        " \n",
        "  hist = pd.DataFrame(history.history)\n",
        "  hist['epoch'] = history.epoch\n",
        "  plt.figure()\n",
        "  plt.xlabel('epoch')\n",
        "  plt.ylabel('MAPE [MPG]')\n",
        "  plt.plot(hist['epoch'], hist['mean_absolute_percentage_error'],    label='Train Error')\n",
        "  plt.plot(hist['epoch'], hist['val_mean_absolute_percentage_error'],    label = 'Val Error')\n",
        "  plt.ylim([0, limit1])\n",
        "  plt.legend()\n",
        "  plt.title('MAPE by Epoch')\n",
        "  plt.savefig(\"abc.png\")\n",
        "  plt.show()\n",
        "  return plt\n",
        "\n",
        "  \n",
        "  \n",
        "# set limits to make plot readable\n",
        "mean_absolute_percentage_error_limit, mae_limit = 200,200\n",
        "#plot_history(history, mean_absolute_percentage_error_limit, mae_limit)\n",
        "\n",
        "# change limit value can change the scale of vertical axis"
      ],
      "execution_count": 99,
      "outputs": []
    },
    {
      "cell_type": "code",
      "metadata": {
        "id": "leu4UVcor8wO"
      },
      "source": [
        "import tensorflow as tf\n",
        "\n",
        "def original_copy_data_set_for_prediction(test_bs : tf.data.Dataset ) -> tf.data.Dataset:\n",
        "  test_n=test_bs\n",
        "  return test_n\n",
        "\n",
        "#predictions = model.predict(test_n)\n",
        "# show prediction results of all testing set"
      ],
      "execution_count": 103,
      "outputs": []
    },
    {
      "cell_type": "code",
      "metadata": {
        "id": "sph3-cAkYfQB"
      },
      "source": [
        "\"\"\"\n",
        "NEW REFACTORED CODE\n",
        "\"\"\""
      ],
      "execution_count": null,
      "outputs": []
    },
    {
      "cell_type": "code",
      "metadata": {
        "id": "9dsq-i0Sd3Nz"
      },
      "source": [
        ""
      ],
      "execution_count": null,
      "outputs": []
    },
    {
      "cell_type": "code",
      "metadata": {
        "id": "ul9ED8QeeE7T"
      },
      "source": [
        "\n"
      ],
      "execution_count": null,
      "outputs": []
    },
    {
      "cell_type": "code",
      "metadata": {
        "id": "vz_spYuaBia2"
      },
      "source": [
        "import numpy as np\n",
        "\n",
        "class OptimizersManager:\n",
        "  def __init__ (self):\n",
        "    self.__optimizerArr = np.array([\n",
        "      'SGD',\n",
        "      'RMSprop',\n",
        "      'Adam',\n",
        "      'Adadelta',\n",
        "      'Adagrad',\n",
        "      'Adamax',\n",
        "      'Nadam',\n",
        "      'Ftrl'\n",
        "    ])\n",
        "  \n",
        "  def get_optimizerArr(self) -> np.ndarray:\n",
        "    return self.__optimizerArr\n",
        "\n"
      ],
      "execution_count": 127,
      "outputs": []
    },
    {
      "cell_type": "code",
      "metadata": {
        "id": "qQTzs4yI5EPw"
      },
      "source": [
        "class ActivationFunctionsManager:\n",
        "  def __init__(self):\n",
        "    self.__activationFunctionArr = np.array([\n",
        "      'Relu'\n",
        "      ,\n",
        "      'Sigmoid'\n",
        "      ,\n",
        "      'Softmax'\n",
        "      ,\n",
        "      'Softplus'\n",
        "      ,\n",
        "      'Tanh'\n",
        "      ,\n",
        "      'Selu'\n",
        "      ,\n",
        "      'Elu'\n",
        "      ,\n",
        "      'Exponential'                \n",
        "    ])\n",
        "\n",
        "  def get_activationFunctionArr(self) -> np.ndarray:\n",
        "    return self.__activationFunctionArr"
      ],
      "execution_count": 126,
      "outputs": []
    },
    {
      "cell_type": "code",
      "metadata": {
        "id": "O2K1Zm6L4qcW"
      },
      "source": [
        "class Input_Shape_Manager:\n",
        "  def __init__ (self, url, newDataUrl) -> None:\n",
        "    self.__url = url\n",
        "    self.__newDataUrl = newDataUrl\n",
        "  \n",
        "  def choose_input_shape(self) -> None:\n",
        "    global_input_shape=[]\n",
        "    if(url == newDataUrl):\n",
        "      global_input_shape=[19,]\n",
        "    else:\n",
        "      global_input_shape=[18,]\n",
        "    return global_input_shape\n",
        "\n"
      ],
      "execution_count": 104,
      "outputs": []
    },
    {
      "cell_type": "code",
      "metadata": {
        "id": "tMrxOB_U6ilY"
      },
      "source": [
        "def compile(optimizer, metricVal):\n",
        "  try:\n",
        "        model.compile(\n",
        "        optimizer=optimizer,\n",
        "        loss='mape', metrics=[mape, 'mae'])\n",
        "        return True\n",
        "  except Exception as e:\n",
        "    print(\"ERROR: \")\n",
        "    print(e)\n",
        "    return False\n"
      ],
      "execution_count": 105,
      "outputs": []
    },
    {
      "cell_type": "code",
      "metadata": {
        "id": "Rk3Oa98dJOoQ"
      },
      "source": [
        "import tensorflow as tf\n",
        "from tensorflow.keras.models import Sequential\n",
        "from tensorflow.keras.layers import Dense, Flatten\n",
        "import numpy as np\n",
        "\n",
        "rmse = tf.keras.metrics.RootMeanSquaredError()\n",
        "\n",
        "mape = tf.keras.losses.MeanAbsolutePercentageError()\n",
        "\n",
        "class ModelMaker:\n",
        "  def __init__ (self,inputShape: list,  neuronCnt=64, activationFunction = \"relu\", optimizer = \"RMSprop\", metrics = [mape, 'mae'], comiplationDone = False, seedOfExecutionResult = 0 ):\n",
        "    self.__neuronCnt = neuronCnt\n",
        "    self.__compilationDone = False\n",
        "    self.__activationFunction = activationFunction\n",
        "    self.__seedOfExecutionResult =  seedOfExecutionResult\n",
        "    self.__optimizer = optimizer\n",
        "    self.__metrics = metrics\n",
        "    self.__model = None\n",
        "    self.__inputShape=inputShape\n",
        "\n",
        "\n",
        "  def makeNewModel(self):\n",
        "\n",
        "    # clear any previous model\n",
        "    self.__clearAllModels()\n",
        "    # generate a seed for replication purposes\n",
        "    self.__generateSeedForModel()\n",
        "\n",
        "\n",
        "    # notice input shape accommodates 18 features!\n",
        "    self.__model = Sequential([\n",
        "      Dense(self.__neuronCnt, activation=self.__activationFunction, input_shape=self.__inputShape),#was 18\n",
        "      Dense(self.__neuronCnt, activation=self.__activationFunction),\n",
        "      Dense(1)\n",
        "    ])\n",
        "\n",
        "    self.__compile()\n",
        "    return self.__model\n",
        "  \n",
        "  def __clearAllModels(self):\n",
        "    tf.keras.backend.clear_session()\n",
        "  \n",
        "  def __generateSeedForModel(self):\n",
        "    np.random.seed(self.__seedOfExecutionResult)\n",
        "    tf.random.set_seed(self.__seedOfExecutionResult)\n",
        "  \n",
        "  \n",
        "  def set_activationFunction (self, activationFunction = \"relu\"):\n",
        "    self.activationFunction = activationFunction\n",
        "\n",
        "  def set_seedOfExecutionResult (self, seedNum = 0):\n",
        "    self._seedOfExecutionResult = seedNum \n",
        "\n",
        "  def set_optimizer(self, optimizer):\n",
        "    self.__optimizer = optimizer\n",
        "  \n",
        "  def __compile(self):\n",
        "      try:\n",
        "\n",
        "        self.__model.compile(\n",
        "        optimizer=self.__optimizer,\n",
        "        loss='mape', metrics = self.__metrics)\n",
        "\n",
        "        self.__compilationDone = True\n",
        "\n",
        "      except ValueError as e:\n",
        "        print(\"Value Error: A value was inputted in the compile method that isn't compatible for it's use in the method body. Most likely the optimizer wasn't compatible. The Run will continue\")\n",
        "        print(\"FULL ERROR BELOW\")\n",
        "        print(e)\n",
        "\n",
        "        self.__compilationDone = False\n",
        "  \n",
        "  def __isCompiled(self):\n",
        "    return self.__compilationDone\n",
        "\n",
        "  def get_model(self):\n",
        "    return self.__model\n",
        "    \n"
      ],
      "execution_count": 108,
      "outputs": []
    },
    {
      "cell_type": "code",
      "metadata": {
        "id": "LFW6F_Yuj69P"
      },
      "source": [
        "class ModelTrainer:\n",
        "  def __init__(self, model, validationData, trainingData, epochs = 1 ):\n",
        "    self.__model = model\n",
        "    self.__epochs = epochs\n",
        "    self.__validationData = validationData\n",
        "    self.__trainingData = trainingData\n",
        "  def train(self):\n",
        "    history = self.__model.fit(self.__trainingData, epochs=self.__epochs,\n",
        "                    validation_data=self.__validationData)\n",
        "    return history\n",
        "  \n",
        "  def set_model(self, model):\n",
        "    self.__model = model\n"
      ],
      "execution_count": 109,
      "outputs": []
    },
    {
      "cell_type": "code",
      "metadata": {
        "id": "5mL9lNn5DGrx"
      },
      "source": [
        "manager = ActivationFunctionsManager()\n",
        "activationFunctionArr = manager.get_activationFunctionArr()\n",
        "\n",
        "manager = OptimizersManager()\n",
        "optimizerArr = manager.get_optimizerArr()\n",
        "\n",
        "\n",
        "\n",
        "class HistoryCollectorOfModelCombinations:\n",
        "  def __init__(self, modelMakerObj : ModelMaker, modelTrainerObj : ModelTrainer, optimizers = optimizerArr, activationFunctions = activationFunctionArr ):\n",
        "    self.__optimizerArr = optimizers\n",
        "    \n",
        "    self.__activationFunctionArr = activationFunctions\n",
        "\n",
        "    self.__iterationsToSkipSet = set((\n",
        "        \"\"\"\n",
        "        FORMAT:\n",
        "        (activationName, Optmizer),\n",
        "        \"\"\"\n",
        "    ))\n",
        "\n",
        "    self.__activationFunctionsToSkipSet = set(\n",
        "\n",
        "    \"\"\"\n",
        "    FORMAT:\n",
        "    'NameOfFunc',\n",
        "    \"\"\"   \n",
        "    \n",
        "  )\n",
        "    self.__modelTrainer = modelTrainerObj\n",
        "    self.__modelMaker = modelMakerObj\n",
        "\n",
        "  def collectHistories(self):\n",
        "    self.__preprocessStep()\n",
        "    \n",
        "    globalGroupID = \"collectHistories\"\n",
        "\n",
        "    histories = []\n",
        "    \n",
        "    globalDL.print(\"ARR After preprocess:\\n\" + str(self.__activationFunctionArr), globalGroupID)\n",
        "\n",
        "    for activationFunction in self.__activationFunctionArr:\n",
        "\n",
        "\n",
        "      if(activationFunction in activationFunctionsToSkipSet):\n",
        "            continue\n",
        "\n",
        "      for optimizer in self.__optimizerArr:\n",
        "        activationFunctionToOptimizerTuple = (activationFunction, optimizer)\n",
        "        \n",
        "        globalDL.print(str(activationFunction) + str(optimizer) + \"\\n\", globalGroupID)\n",
        "\n",
        "        if(activationFunctionToOptimizerTuple in iterationsToSkipSet):\n",
        "          continue\n",
        "\n",
        "        histories.append(self.__makeHistory(activationFunction,optimizer))\n",
        "      \n",
        "    return histories\n",
        "\n",
        "  def __makeHistory(self, activationFunction, optimizer):\n",
        "    self.__modelMaker.set_activationFunction(activationFunction)\n",
        "    self.__modelMaker.set_optimizer(optimizer)\n",
        "\n",
        "    model = self.__modelMaker.makeNewModel()\n",
        "    \n",
        "    self.__modelTrainer.set_model(model)\n",
        "\n",
        "    history = self.__modelTrainer.train()\n",
        "\n",
        "    return history\n",
        "\n",
        "    \n",
        "\n",
        "  def __preprocessStep(self):\n",
        "    self.__activationFunctionArr = np.char.lower(self.__activationFunctionArr)\n"
      ],
      "execution_count": 129,
      "outputs": []
    },
    {
      "cell_type": "code",
      "metadata": {
        "id": "iV0s6dMDFZNY"
      },
      "source": [
        "import matplotlib.pyplot as plt\n",
        "\n",
        "class HistoryPlotter:\n",
        "  def __init__ (self, history=None, limit1=mean_absolute_percentage_error_limit, limit2=mae_limit):\n",
        "    self.__plt = plt\n",
        "    self.__limit1 = limit1\n",
        "    self.__limit2 = limit2 #NOT USED BUT PRESENT IN ORIGINAL (2021/11/3)\n",
        "    self.__history = history\n",
        "  def makePlot(self):\n",
        "    plt = self.__plt \n",
        "    history = self.__history\n",
        "    limit1 = self.__limit1\n",
        "\n",
        "    hist = pd.DataFrame(history.history)\n",
        "    hist['epoch'] = history.epoch\n",
        "    plt.figure()\n",
        "    plt.xlabel('epoch')\n",
        "    plt.ylabel('MAPE [MPG]')\n",
        "    plt.plot(hist['epoch'], hist['mean_absolute_percentage_error'],    label='Train Error')\n",
        "    plt.plot(hist['epoch'], hist['val_mean_absolute_percentage_error'],    label = 'Val Error')\n",
        "    plt.ylim([0, limit1])\n",
        "    plt.legend()\n",
        "    plt.title('MAPE by Epoch')\n",
        "    \n",
        "    self.__plt = plt\n",
        "\n",
        "  def showPlot(self):\n",
        "    self.__plt.show()\n",
        "\n",
        "  def savePlot(self, strFileName : str):\n",
        "    self.__plt.savefig(strFileName)    \n",
        "\n",
        "  def set_history(self, history):\n",
        "    self.__history = history\n",
        "  \n",
        "\n",
        "\n",
        "\n"
      ],
      "execution_count": 116,
      "outputs": []
    },
    {
      "cell_type": "code",
      "source": [
        "class TestRunner:\n",
        "  def __init__(self) -> None:\n",
        "    self.__testClasses = {\n",
        "          0: TestConverterToTensorDatasetBusiness,\n",
        "          1: TestDatasetProcessor\n",
        "    }\n",
        "\n",
        "    self.__totalNumOfTestClasses = 2\n",
        "\n",
        "  def runOne(self, index :int):\n",
        "    testObj = self.__testClasses[index]()\n",
        "    testObj.run() \n",
        "\n",
        "  def runAll(self):\n",
        "    for index in range(0, self.__totalNumOfTestClasses):\n",
        "       self.runOne(index)\n"
      ],
      "metadata": {
        "id": "cy4iPwCK_oxj"
      },
      "execution_count": 130,
      "outputs": []
    },
    {
      "cell_type": "code",
      "metadata": {
        "id": "RHqjTvwScvHn"
      },
      "source": [
        "def runUnitTests():\n",
        "  Tobj = TestSameHistoryDifferentSessions()\n",
        "  print(Tobj.isEqual())"
      ],
      "execution_count": 131,
      "outputs": []
    },
    {
      "cell_type": "code",
      "source": [
        "from datetime import date\n",
        "\n",
        "def runEachModelForEachSample():\n",
        "  epochs = 50\n",
        "  validationTargetValues = y_test\n",
        "  for sample in validationTargetValues:\n",
        "    modelMakerObj = ModelMaker()\n",
        "    model = modelMakerObj.makeNewModel()\n",
        "    modelTrainerObj = ModelTrainer(model, test_bs, train_bs, epochs)\n",
        "    history = modelTrainerObj.train()\n",
        "    obj = HistoryPlotter()\n",
        "    obj.set_history(history)\n",
        "    obj.makePlot()\n",
        "    name = f\"Data_time:{date.today()}_epochs:{epochs}_.png\"\n",
        "    obj.savePlot(name)\n",
        "    files.download(name)\n"
      ],
      "metadata": {
        "id": "_4YF-3GpLn_U"
      },
      "execution_count": 132,
      "outputs": []
    },
    {
      "cell_type": "code",
      "metadata": {
        "id": "166jHy352IWL"
      },
      "source": [
        "from google.colab import files #for downloading browser\n",
        "def runOne():\n",
        "  epochs = 10000\n",
        "  modelMakerObj = ModelMaker()\n",
        "  model = modelMakerObj.makeNewModel()\n",
        "  modelTrainerObj = ModelTrainer(model, test_bs, train_bs, epochs)\n",
        "  history = modelTrainerObj.train()\n",
        "  obj = HistoryPlotter()\n",
        "  obj.set_history(history)\n",
        "  obj.makePlot()\n",
        "  name = \"newData_10000_epochs.png\"\n",
        "  obj.savePlot(name)\n",
        "  files.download(name)"
      ],
      "execution_count": 133,
      "outputs": []
    },
    {
      "cell_type": "code",
      "metadata": {
        "id": "75ox1PJwwOju"
      },
      "source": [
        "def getHistoriesOfAllModelCombinations():\n",
        "  modelMakerObj = ModelMaker()\n",
        "  model = modelMakerObj.makeNewModel()\n",
        "  modelTrainerObj = ModelTrainer(model, test_bs, train_bs, 1)\n",
        "\n",
        "  HistoryCollectorObj = HistoryCollectorOfModelCombinations(modelMakerObj, modelTrainerObj)\n",
        "  histories = HistoryCollectorObj.collectHistories()\n",
        "\n",
        "  return histories\n",
        "\n",
        "\n"
      ],
      "execution_count": 134,
      "outputs": []
    },
    {
      "cell_type": "markdown",
      "metadata": {
        "id": "Oxmj89vDGjGu"
      },
      "source": [
        ""
      ]
    },
    {
      "cell_type": "code",
      "metadata": {
        "id": "Yn467D6CJJ3P"
      },
      "source": [
        "def makePlotNames():\n",
        "  plotNames = [ ]\n",
        "  for activationFunction in activationFunctionArr:\n",
        "    if(activationFunction in activationFunctionsToSkipSet):\n",
        "          continue\n",
        "\n",
        "    for optimizer in optimizerArr:\n",
        "      activationFunctionToOptimizerTuple = (activationFunction, optimizer)\n",
        "      \n",
        "      plotNames.append(\"ActivationFunction : \" + str(activationFunction) + \", Optimizer: \" + str(optimizer))\n",
        "  \n",
        "      if(activationFunctionToOptimizerTuple in iterationsToSkipSet):\n",
        "        continue\n",
        "\n",
        "  return plotNames \n"
      ],
      "execution_count": null,
      "outputs": []
    },
    {
      "cell_type": "code",
      "metadata": {
        "id": "t-Z8GxN_zvWo"
      },
      "source": [
        "def plotHistories( historiesContainer: list , nameOfFigures : list) -> None:\n",
        "  historyPlotterObj = HistoryPlotter()\n",
        "  nameOfFiguresSz = len(nameOfFigures)\n",
        "  nameOfFiguresIndex = 0\n",
        "\n",
        "  for history in historiesContainer:\n",
        "\n",
        "    historyPlotterObj.set_history(history)\n",
        "    historyPlotterObj.makePlot()\n",
        "    historyPlotterObj.showPlot()\n",
        "    historyPlotterObj.savePlot(nameOfFigures[nameOfFiguresIndex]+\".png\")\n",
        "    if(nameOfFiguresIndex < nameOfFiguresSz - 1): #\n",
        "      nameOfFiguresIndex += 1\n",
        "\n",
        "    "
      ],
      "execution_count": null,
      "outputs": []
    },
    {
      "cell_type": "code",
      "metadata": {
        "id": "-KMq3LMTsGE3"
      },
      "source": [
        "class ModelPredictor:\n",
        "  def __init__ (self, y_test, inputSample,model):\n",
        "    self.__inputSample = test_n\n",
        "    self.__model = model\n",
        "  def predict(self):\n",
        "    #Tensorflow recommends __call__ to be used for \"smaller\" batch sizes\n",
        "    return self.__model.predict(self.__inputSample)"
      ],
      "execution_count": null,
      "outputs": []
    },
    {
      "cell_type": "code",
      "metadata": {
        "id": "tfnyt2xjND_e"
      },
      "source": [
        "from google.colab import files #for downloading browser\n",
        "def downloadAllFigures(nameOfFigures):\n",
        "  for name in nameOfFigures:\n",
        "    files.download(name+\".png\")"
      ],
      "execution_count": null,
      "outputs": []
    },
    {
      "cell_type": "code",
      "metadata": {
        "id": "c-47rl7SuEUw"
      },
      "source": [
        "class PredictorResultsView:\n",
        "  def __init__(self, testingSetLabels, predictions):\n",
        "    self.__eight = predictions[:8]\n",
        "    self.__actuals = testingSetLabels[:8]\n",
        "  def showPredictions(self):\n",
        "    eight = self.__eight\n",
        "    actuals = self.__actuals \n",
        "    eight = predictions[:8]\n",
        "    actuals = testingSetLabels[:8]\n",
        "    print ('pred', 'actual')\n",
        "    for i, p in enumerate(range(8)):\n",
        "      print (np.round(eight[i][0],1), actuals[i])\n",
        "\n"
      ],
      "execution_count": null,
      "outputs": []
    },
    {
      "cell_type": "code",
      "metadata": {
        "id": "uu1GQWvo8EGk"
      },
      "source": [
        "import numpy as np\n",
        "import tensorflow as tf\n",
        "#optimizerArr = np.char.lower(optimizerArr)\n",
        "def original_run_all_combinations_code(activationFunctionArr : np.array, activationFunctionsToSkipSet: set, iterationsToSkipSet : set ):\n",
        "  activationFunctionArr = np.char.lower(activationFunctionArr)\n",
        "\n",
        "\n",
        "  for activationFunction in activationFunctionArr:\n",
        "    if(activationFunction in activationFunctionsToSkipSet):\n",
        "          continue\n",
        "\n",
        "    for optimizer in optimizerArr:\n",
        "      activationFunctionToOptimizerTuple = (activationFunction, optimizer)\n",
        "\n",
        "      if(activationFunctionToOptimizerTuple in iterationsToSkipSet):\n",
        "        continue\n",
        "      #NOTE: need to encapsulate in try/catch\n",
        "      #keras\n",
        "      tf.keras.backend.clear_session()\n",
        "\n",
        "      # generate a seed for replication purposes\n",
        "      np.random.seed(0)\n",
        "      tf.random.set_seed(0)\n",
        "\n",
        "      # notice input shape accommodates 18 features!\n",
        "      #error: Relu =/= relu (correct)\n",
        "      model = Sequential([\n",
        "        Dense(64, activation=activationFunction, input_shape=[18,]),\n",
        "        Dense(64, activation=activationFunction),\n",
        "        Dense(1)\n",
        "      ])\n",
        "\n",
        "    \n",
        "\n",
        "      rmse = tf.keras.metrics.RootMeanSquaredError()\n",
        "\n",
        "      mape = tf.keras.losses.MeanAbsolutePercentageError()\n",
        "\n",
        "      print(\"acitvationFunc \" + activationFunction)\n",
        "      print(\"optimizer \" + optimizer)\n",
        "      isCompilationDone = compile(optimizer, mape)\n",
        "      if(isCompilationDone):\n",
        "        print(\"compileIsDone\")\n",
        "        history = model.fit(train_bs, epochs=20,\n",
        "                      validation_data=test_bs)\n",
        "  # create a model with one input layer, one hidden layer, and on outpur layer. Both input and hidden layers have 64 neuros. Activation using Relu.\n",
        "      #plot results \n",
        "        plt = plot_history(history, mean_absolute_percentage_error_limit, mae_limit)\n",
        "        fileNameStr=activationFunction+optimizer+\".png\"\n",
        "    #export\n",
        "        plt.savefig(fileNameStr)\n",
        "\n"
      ],
      "execution_count": null,
      "outputs": []
    },
    {
      "cell_type": "code",
      "metadata": {
        "id": "_6IFkJW_IQJM"
      },
      "source": [
        "import tensorflow as tf \n",
        "\n",
        "def original_train_model(model : tf.keras.Sequential, test_bs : tf.data.Dataset) -> tf.keras.callbacks.History:\n",
        "  history = model.fit(train_bs, epochs=2000,\n",
        "                      validation_data=test_bs)\n",
        "  return history\n",
        "# epoch ( iteration of training) can start from 50\n",
        "# about 10 ms for each epoch, keep watching the loss value (for traqining set) and val_loss value ( for testing set)"
      ],
      "execution_count": null,
      "outputs": []
    },
    {
      "cell_type": "code",
      "metadata": {
        "id": "E-JnxDb5cqrR"
      },
      "source": [
        "import pandas as pd\n",
        "import tensorflow as tf\n",
        "\n",
        "def original_show_last_five_epoch(history:  tf.keras.callbacks.History) -> pd.DataFrame:\n",
        "  hist = pd.DataFrame(history.history)\n",
        "  hist['epoch'] = history.epoch\n",
        "  hist.head()\n",
        "  print\n",
        "  hist.tail()\n",
        "  return hist\n",
        "# show the result of last five epoch"
      ],
      "execution_count": null,
      "outputs": []
    },
    {
      "cell_type": "code",
      "metadata": {
        "id": "4v2WNLGn0go9"
      },
      "source": [
        "import tensorflow as tf\n",
        "\n",
        "def original_compile(model: tf.keras.Sequential) -> tf.keras.Sequential:\n",
        "\n",
        "  rmse = tf.keras.metrics.RootMeanSquaredError()\n",
        "\n",
        "  mape = tf.keras.losses.MeanAbsolutePercentageError()\n",
        "\n",
        "  model.compile(\n",
        "      optimizer='RMSProp',\n",
        "      loss='mape', metrics=[mape, 'mae'])\n",
        "  \n",
        "  return model\n",
        "\n",
        "# use mape (mean absolute percentage error) as loss function"
      ],
      "execution_count": null,
      "outputs": []
    },
    {
      "cell_type": "code",
      "metadata": {
        "id": "guR97iNB8WaY"
      },
      "source": [
        ""
      ],
      "execution_count": null,
      "outputs": []
    },
    {
      "cell_type": "code",
      "metadata": {
        "id": "kF070EKn0VHW"
      },
      "source": [
        "import tensorflow as tf\n",
        "\n",
        "def original_model_summary(model : tf.keras.Sequential ) -> None:\n",
        "  model.summary()\n",
        "# number of params in input layer \"dense\" = (number of feaures +1) * number of neuros = (18+1) * 64 = 1216\n",
        "# number of params in hidden layer \"dense_1\" = (number of outputs from input layer +1) * number of neuros = (64+1) * 64 = 4196\n",
        "# number of params in ouput layer \"dense2\" = (number of outputs from hidden layer +1) * number of neuros = (64+1) * 1 = 65"
      ],
      "execution_count": null,
      "outputs": []
    },
    {
      "cell_type": "code",
      "metadata": {
        "id": "f92pOalK0OZu"
      },
      "source": [
        "\n",
        "import tensorflow as tf\n",
        "from tensorflow.keras.models import Sequential\n",
        "from tensorflow.keras.layers import Dense, Flatten\n",
        "import numpy as np\n",
        "\n",
        "def clear_any_previous_model():\n",
        "  tf.keras.backend.clear_session()\n",
        "\n",
        "# generate a seed for replication purposes\n",
        "def original_generate_a_seed_for_replication_purposes():\n",
        "  np.random.seed(0)\n",
        "  tf.random.set_seed(0)\n",
        "\n",
        "# notice input shape accommodates 18 features!\n",
        "\n",
        "def original_create_model():\n",
        "  model = Sequential([\n",
        "    Dense(64, activation='relu', input_shape=[18,]),\n",
        "    Dense(64, activation='relu'),\n",
        "    Dense(1)\n",
        "  ])\n",
        "# create a model with one input layer, one hidden layer, and on outpur layer. Both input and hidden layers have 64 neuros. Activation using Relu."
      ],
      "execution_count": null,
      "outputs": []
    },
    {
      "cell_type": "code",
      "metadata": {
        "id": "gcheS1pYcW3x"
      },
      "source": [
        "\n",
        "class TestSameHistoryDifferentSessions(unittest.TestCase):\n",
        "  def __init__ (self):\n",
        "    self.__epochs = 5\n",
        "    self.__expectedHistory = self.__getHistoryFromGivenCode()\n",
        "    self.__experimentHistory = self.__getHistoryFromGivenCode()\n",
        "\n",
        "\n",
        "  # code doesn't work\n",
        "  def __getHistoryFromGivenCode(self):\n",
        "    import tensorflow as tf\n",
        "    from tensorflow.keras.models import Sequential\n",
        "    from tensorflow.keras.layers import Dense, Flatten\n",
        "    import numpy as np\n",
        "\n",
        "    # clear any previous model\n",
        "    tf.keras.backend.clear_session()\n",
        "\n",
        "    # generate a seed for replication purposes\n",
        "    np.random.seed(0)\n",
        "    tf.random.set_seed(0)\n",
        "\n",
        "    # notice input shape accommodates 18 features!\n",
        "    model = Sequential([\n",
        "      Dense(64, activation='relu', input_shape=global_input_shape),#shape was 18\n",
        "      Dense(64, activation='relu'),\n",
        "      Dense(1)\n",
        "    ])\n",
        "    # create a model with one input layer, one hidden layer, and on outpur layer. Both input and hidden layers have 64 neuros. Activation using Relu.\n",
        "    rmse = tf.keras.metrics.RootMeanSquaredError()\n",
        "\n",
        "    mape = tf.keras.losses.MeanAbsolutePercentageError()\n",
        "\n",
        "\n",
        "\n",
        "    model.compile(\n",
        "        optimizer='RMSProp',\n",
        "        loss='mape', metrics=[mape, 'mae'])\n",
        "    \n",
        "    #given by above code\n",
        "    history = model.fit(train_bs, epochs = self.__epochs,\n",
        "                    validation_data=test_bs)\n",
        "    # epoch ( iteration of training) can start from 50\n",
        "    # about 10 ms for each epoch, keep watching the loss value (for training set) and val_loss value ( for testing set)\n",
        "\n",
        "    tf.keras.backend.clear_session()\n",
        "\n",
        "    return history\n",
        "      \n",
        "  def isEqual(self):\n",
        "    #NOTE: Equality may be too exact. I need to understand how much variance of \"loss\" values is expected between two different model runs. The model run seems to be dependent on library imports (the objects)\n",
        "    # because that removed the \"continuation\" pattern. As of 2021/11/4, the result is False although some values from the histories overlap\n",
        "    return (self.__expectedHistory == self.__experimentHistory)\n",
        "  def test(self):\n",
        "    self.assertEqual(self.__experimentHistory, self.__expectedHistory)\n",
        "    #Should pause program if fails"
      ],
      "execution_count": null,
      "outputs": []
    },
    {
      "cell_type": "code",
      "metadata": {
        "id": "o9gD42S66AiQ"
      },
      "source": [
        "\n",
        "#test is broken right now because of inherit problem.\n",
        "def runAllUnitTests():\n",
        "  tObj = TestHistoryFromGivenCode()\n",
        "  tObj.test()\n",
        "\n"
      ],
      "execution_count": null,
      "outputs": []
    },
    {
      "cell_type": "code",
      "metadata": {
        "id": "Kju3zvz725tQ"
      },
      "source": [
        "import unittest\n",
        "\n",
        "class TestHistoryFromGivenCode(unittest.TestCase):\n",
        "  def __init__ (self):\n",
        "    self.__epochs = 5\n",
        "    self.__expectedHistory = self.__getHistoryFromGivenCode()\n",
        "    self.__experimentHistory = self.__getHistoryFromRefactoredCode()\n",
        "\n",
        "\n",
        "  # code doesn't work\n",
        "  def __getHistoryFromGivenCode(self):\n",
        "    import tensorflow as tf\n",
        "    from tensorflow.keras.models import Sequential\n",
        "    from tensorflow.keras.layers import Dense, Flatten\n",
        "    import numpy as np\n",
        "\n",
        "    # clear any previous model\n",
        "    tf.keras.backend.clear_session()\n",
        "\n",
        "    # generate a seed for replication purposes\n",
        "    np.random.seed(0)\n",
        "    tf.random.set_seed(0)\n",
        "\n",
        "    # notice input shape accommodates 18 features!\n",
        "    model = Sequential([\n",
        "      Dense(64, activation='relu', input_shape=global_input_shape),#shape was 18\n",
        "      Dense(64, activation='relu'),\n",
        "      Dense(1)\n",
        "    ])\n",
        "    # create a model with one input layer, one hidden layer, and on outpur layer. Both input and hidden layers have 64 neuros. Activation using Relu.\n",
        "    rmse = tf.keras.metrics.RootMeanSquaredError()\n",
        "\n",
        "    mape = tf.keras.losses.MeanAbsolutePercentageError()\n",
        "\n",
        "\n",
        "\n",
        "    model.compile(\n",
        "        optimizer='RMSProp',\n",
        "        loss='mape', metrics=[mape, 'mae'])\n",
        "    \n",
        "    #given by above code\n",
        "    history = model.fit(train_bs, epochs = self.__epochs,\n",
        "                    validation_data=test_bs)\n",
        "    # epoch ( iteration of training) can start from 50\n",
        "    # about 10 ms for each epoch, keep watching the loss value (for training set) and val_loss value ( for testing set)\n",
        "\n",
        "    tf.keras.backend.clear_session()\n",
        "\n",
        "    return history\n",
        "\n",
        "  def __getHistoryFromRefactoredCode(self):\n",
        "    import tensorflow as tf\n",
        "    from tensorflow.keras.models import Sequential\n",
        "    from tensorflow.keras.layers import Dense, Flatten\n",
        "    import numpy as np\n",
        "\n",
        "    rmse = tf.keras.metrics.RootMeanSquaredError()\n",
        "\n",
        "    mape = tf.keras.losses.MeanAbsolutePercentageError()\n",
        "\n",
        "    modelMakerObj = ModelMaker()\n",
        "    model = modelMakerObj.makeNewModel()\n",
        "    modelTrainerObj = ModelTrainer(model, test_bs, train_bs, self.__epochs)\n",
        "    return modelTrainerObj.train()\n",
        "\n",
        "      \n",
        "  def isEqual(self):\n",
        "    #NOTE: Equality may be too exact. I need to understand how much variance of \"loss\" values is expected between two different model runs. The model run seems to be dependent on library imports (the objects)\n",
        "    # because that removed the \"continuation\" pattern. As of 2021/11/4, the result is False although some values from the histories overlap\n",
        "    return (self.__expectedHistory == self.__experimentHistory)\n",
        "  def test(self):\n",
        "    self.assertEqual(self.__experimentHistory, self.__expectedHistory)\n",
        "    #Should pause program if fails\n",
        "  \n",
        "      \n",
        "\n",
        "\n",
        "\n",
        "  "
      ],
      "execution_count": null,
      "outputs": []
    },
    {
      "cell_type": "code",
      "source": [
        "def testRunnerExec():\n",
        "  testRunnerObj = TestRunner()\n",
        "  testRunnerObj.runOne(1)\n",
        "  testRunnerObj.runAll()"
      ],
      "metadata": {
        "id": "FFDxLPYCCVIi"
      },
      "execution_count": null,
      "outputs": []
    },
    {
      "cell_type": "code",
      "source": [
        "import pandas as pd\n",
        "import tensorflow as tf\n",
        "\n",
        "class InvidualTestSampleExecutor:\n",
        "  def __init__(self):\n",
        "    pass\n",
        "  \n",
        "  def main(self):\n",
        "    url = self.get_raw_data()\n",
        "\n",
        "  def get_raw_data(self)  -> pd.DataFrame:\n",
        "    manager = UrlManager()\n",
        "    url = manager.get_newDataUrl()\n",
        "    return original_read_csv(url)\n",
        "    \n",
        "  def get_raw_model_dataset(self, raw_data : pd.DataFrame ) ->  dict:\n",
        "    TrainingDataConverterToTensorDatasetBusiness()\n",
        "\n",
        "  def create_tensor_dataset(self, raw_model_dataset: dict)-> dict:  \n",
        "    pass \n",
        "  \n",
        "  def process_tensor_dataset(self, tensor_dataset: dict) -> dict:\n",
        "    pass\n",
        "\n",
        "  def train_model(self):\n",
        "    pass \n",
        "  def __create_model(self, proccessed_tensor_dataset: dict)-> tf.keras.Model:\n",
        "    pass\n",
        "       "
      ],
      "metadata": {
        "id": "KniwbejPqqN2"
      },
      "execution_count": 142,
      "outputs": []
    }
  ]
}
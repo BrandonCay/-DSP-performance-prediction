{
  "nbformat": 4,
  "nbformat_minor": 0,
  "metadata": {
    "colab": {
      "name": "DSP performance prediction",
      "provenance": [],
      "collapsed_sections": [],
      "include_colab_link": true
    },
    "kernelspec": {
      "display_name": "Python 3",
      "name": "python3"
    },
    "accelerator": "GPU"
  },
  "cells": [
    {
      "cell_type": "markdown",
      "metadata": {
        "id": "view-in-github",
        "colab_type": "text"
      },
      "source": [
        "<a href=\"https://colab.research.google.com/github/BrandonCay/-DSP-performance-prediction/blob/useNewData/DSP_performance_prediction.ipynb\" target=\"_parent\"><img src=\"https://colab.research.google.com/assets/colab-badge.svg\" alt=\"Open In Colab\"/></a>"
      ]
    },
    {
      "cell_type": "markdown",
      "metadata": {
        "id": "5fCEDCU_qrC0"
      },
      "source": [
        "<p><img alt=\"Colaboratory logo\" height=\"45px\" src=\"/img/colab_favicon.ico\" align=\"left\" hspace=\"10px\" vspace=\"0px\"></p>\n",
        "\n",
        "<h1>What is Colaboratory?</h1>\n",
        "\n",
        "Colaboratory, or \"Colab\" for short, allows you to write and execute Python in your browser, with \n",
        "- Zero configuration required\n",
        "- Free access to GPUs\n",
        "- Easy sharing\n",
        "\n",
        "Whether you're a **student**, a **data scientist** or an **AI researcher**, Colab can make your work easier. Watch [Introduction to Colab](https://www.youtube.com/watch?v=inN8seMm7UI) to learn more, or just get started below!"
      ]
    },
    {
      "cell_type": "code",
      "metadata": {
        "id": "qIyqFyP4YiBT"
      },
      "source": [
        ""
      ],
      "execution_count": null,
      "outputs": []
    },
    {
      "cell_type": "markdown",
      "metadata": {
        "id": "GJBs_flRovLc"
      },
      "source": [
        "## **Getting started**\n",
        "\n",
        "The document you are reading is not a static web page, but an interactive environment called a **Colab notebook** that lets you write and execute code.\n",
        "\n",
        "For example, here is a **code cell** with a short Python script that computes a value, stores it in a variable, and prints the result:"
      ]
    },
    {
      "cell_type": "code",
      "metadata": {
        "colab": {
          "base_uri": "https://localhost:8080/"
        },
        "id": "gJr_9dXGpJ05",
        "outputId": "61d1b506-cb13-4c6d-af83-9173ffe3908c"
      },
      "source": [
        "seconds_in_a_day = 24 * 60 * 60\n",
        "seconds_in_a_day"
      ],
      "execution_count": null,
      "outputs": [
        {
          "output_type": "execute_result",
          "data": {
            "text/plain": [
              "86400"
            ]
          },
          "metadata": {},
          "execution_count": 219
        }
      ]
    },
    {
      "cell_type": "markdown",
      "metadata": {
        "id": "2fhs6GZ4qFMx"
      },
      "source": [
        "To execute the code in the above cell, select it with a click and then either press the play button to the left of the code, or use the keyboard shortcut \"Command/Ctrl+Enter\". To edit the code, just click the cell and start editing.\n",
        "\n",
        "Variables that you define in one cell can later be used in other cells:"
      ]
    },
    {
      "cell_type": "code",
      "metadata": {
        "colab": {
          "base_uri": "https://localhost:8080/"
        },
        "id": "-gE-Ez1qtyIA",
        "outputId": "59e933f4-c0ff-41d0-b44e-8352d7bf999d"
      },
      "source": [
        "seconds_in_a_week = 7 * seconds_in_a_day\n",
        "seconds_in_a_week"
      ],
      "execution_count": null,
      "outputs": [
        {
          "output_type": "execute_result",
          "data": {
            "text/plain": [
              "604800"
            ]
          },
          "metadata": {},
          "execution_count": 220
        }
      ]
    },
    {
      "cell_type": "markdown",
      "metadata": {
        "id": "lSrWNr3MuFUS"
      },
      "source": [
        "Colab notebooks allow you to combine **executable code** and **rich text** in a single document, along with **images**, **HTML**, **LaTeX** and more. When you create your own Colab notebooks, they are stored in your Google Drive account. You can easily share your Colab notebooks with co-workers or friends, allowing them to comment on your notebooks or even edit them. To learn more, see [Overview of Colab](/notebooks/basic_features_overview.ipynb). To create a new Colab notebook you can use the File menu above, or use the following link: [create a new Colab notebook](http://colab.research.google.com#create=true).\n",
        "\n",
        "Colab notebooks are Jupyter notebooks that are hosted by Colab. To learn more about the Jupyter project, see [jupyter.org](https://www.jupyter.org)."
      ]
    },
    {
      "cell_type": "markdown",
      "metadata": {
        "id": "UdRyKR44dcNI"
      },
      "source": [
        "## Data science\n",
        "\n",
        "With Colab you can harness the full power of popular Python libraries to analyze and visualize data. The code cell below uses **numpy** to generate some random data, and uses **matplotlib** to visualize it. To edit the code, just click the cell and start editing."
      ]
    },
    {
      "cell_type": "code",
      "metadata": {
        "colab": {
          "base_uri": "https://localhost:8080/",
          "height": 281
        },
        "id": "C4HZx7Gndbrh",
        "outputId": "4ba3169f-db20-4d4a-fe34-30509d82f6c5"
      },
      "source": [
        "import numpy as np\n",
        "from matplotlib import pyplot as plt\n",
        "\n",
        "ys = 200 + np.random.randn(100)\n",
        "x = [x for x in range(len(ys))]\n",
        "\n",
        "plt.plot(x, ys, '-')\n",
        "plt.fill_between(x, ys, 195, where=(ys > 195), facecolor='g', alpha=0.6)\n",
        "\n",
        "plt.title(\"Sample Visualization\")\n",
        "plt.show()"
      ],
      "execution_count": null,
      "outputs": [
        {
          "output_type": "display_data",
          "data": {
            "image/png": "[encoded data removed]",
            "text/plain": [
              "<Figure size 432x288 with 1 Axes>"
            ]
          },
          "metadata": {
            "needs_background": "light"
          }
        }
      ]
    },
    {
      "cell_type": "markdown",
      "metadata": {
        "id": "4_kCnsPUqS6o"
      },
      "source": [
        "You can import your own data into Colab notebooks from your Google Drive account, including from spreadsheets, as well as from Github and many other sources. To learn more about importing data, and how Colab can be used for data science, see the links below under [Working with Data](#working-with-data)."
      ]
    },
    {
      "cell_type": "markdown",
      "metadata": {
        "id": "OwuxHmxllTwN"
      },
      "source": [
        "## Machine learning\n",
        "\n",
        "With Colab you can import an image dataset, train an image classifier on it, and evaluate the model, all in just [a few lines of code](https://colab.research.google.com/github/tensorflow/docs/blob/master/site/en/tutorials/quickstart/beginner.ipynb). Colab notebooks execute code on Google's cloud servers, meaning you can leverage the power of Google hardware, including [GPUs and TPUs](#using-accelerated-hardware), regardless of the power of your machine. All you need is a browser."
      ]
    },
    {
      "cell_type": "markdown",
      "metadata": {
        "id": "ufxBm1yRnruN"
      },
      "source": [
        "Colab is used extensively in the machine learning community with applications including:\n",
        "- Getting started with TensorFlow\n",
        "- Developing and training neural networks\n",
        "- Experimenting with TPUs\n",
        "- Disseminating AI research\n",
        "- Creating tutorials\n",
        "\n",
        "To see sample Colab notebooks that demonstrate machine learning applications, see the [machine learning examples](#machine-learning-examples) below."
      ]
    },
    {
      "cell_type": "markdown",
      "metadata": {
        "id": "-Rh3-Vt9Nev9"
      },
      "source": [
        "## More Resources\n",
        "\n",
        "### Working with Notebooks in Colab\n",
        "- [Overview of Colaboratory](/notebooks/basic_features_overview.ipynb)\n",
        "- [Guide to Markdown](/notebooks/markdown_guide.ipynb)\n",
        "- [Importing libraries and installing dependencies](/notebooks/snippets/importing_libraries.ipynb)\n",
        "- [Saving and loading notebooks in GitHub](https://colab.research.google.com/github/googlecolab/colabtools/blob/master/notebooks/colab-github-demo.ipynb)\n",
        "- [Interactive forms](/notebooks/forms.ipynb)\n",
        "- [Interactive widgets](/notebooks/widgets.ipynb)\n",
        "- <img src=\"/img/new.png\" height=\"20px\" align=\"left\" hspace=\"4px\" alt=\"New\"></img>\n",
        " [TensorFlow 2 in Colab](/notebooks/tensorflow_version.ipynb)\n",
        "\n",
        "<a name=\"working-with-data\"></a>\n",
        "### Working with Data\n",
        "- [Loading data: Drive, Sheets, and Google Cloud Storage](/notebooks/io.ipynb) \n",
        "- [Charts: visualizing data](/notebooks/charts.ipynb)\n",
        "- [Getting started with BigQuery](/notebooks/bigquery.ipynb)\n",
        "\n",
        "### Machine Learning Crash Course\n",
        "These are a few of the notebooks from Google's online Machine Learning course. See the [full course website](https://developers.google.com/machine-learning/crash-course/) for more.\n",
        "- [Intro to Pandas](/notebooks/mlcc/intro_to_pandas.ipynb)\n",
        "- [Tensorflow concepts](/notebooks/mlcc/tensorflow_programming_concepts.ipynb)\n",
        "- [First steps with TensorFlow](/notebooks/mlcc/first_steps_with_tensor_flow.ipynb)\n",
        "- [Intro to neural nets](/notebooks/mlcc/intro_to_neural_nets.ipynb)\n",
        "- [Intro to sparse data and embeddings](/notebooks/mlcc/intro_to_sparse_data_and_embeddings.ipynb)\n",
        "\n",
        "<a name=\"using-accelerated-hardware\"></a>\n",
        "### Using Accelerated Hardware\n",
        "- [TensorFlow with GPUs](/notebooks/gpu.ipynb)\n",
        "- [TensorFlow with TPUs](/notebooks/tpu.ipynb)"
      ]
    },
    {
      "cell_type": "markdown",
      "metadata": {
        "id": "P-H6Lw1vyNNd"
      },
      "source": [
        "<a name=\"machine-learning-examples\"></a>\n",
        "\n",
        "## Machine Learning Examples\n",
        "\n",
        "To see end-to-end examples of the interactive machine learning analyses that Colaboratory makes possible, check out these  tutorials using models from [TensorFlow Hub](https://tfhub.dev).\n",
        "\n",
        "A few featured examples:\n",
        "\n",
        "- [Retraining an Image Classifier](https://tensorflow.org/hub/tutorials/tf2_image_retraining): Build a Keras model on top of a pre-trained image classifier to distinguish flowers.\n",
        "- [Text Classification](https://tensorflow.org/hub/tutorials/tf2_text_classification): Classify IMDB movie reviews as either *positive* or *negative*.\n",
        "- [Style Transfer](https://tensorflow.org/hub/tutorials/tf2_arbitrary_image_stylization): Use deep learning to transfer style between images.\n",
        "- [Multilingual Universal Sentence Encoder Q&A](https://tensorflow.org/hub/tutorials/retrieval_with_tf_hub_universal_encoder_qa): Use a machine learning model to answer questions from the SQuAD dataset.\n",
        "- [Video Interpolation](https://tensorflow.org/hub/tutorials/tweening_conv3d): Predict what happened in a video between the first and the last frame.\n"
      ]
    },
    {
      "cell_type": "code",
      "metadata": {
        "id": "YoaGx4yZGX3U",
        "colab": {
          "base_uri": "https://localhost:8080/",
          "height": 35
        },
        "outputId": "2d37d9d6-3ffc-4aa6-d34a-129f4737102d"
      },
      "source": [
        "string = 'Peter picked a pail of pickled peppers'\n",
        "string"
      ],
      "execution_count": null,
      "outputs": [
        {
          "output_type": "execute_result",
          "data": {
            "application/vnd.google.colaboratory.intrinsic+json": {
              "type": "string"
            },
            "text/plain": [
              "'Peter picked a pail of pickled peppers'"
            ]
          },
          "metadata": {},
          "execution_count": 222
        }
      ]
    },
    {
      "cell_type": "code",
      "metadata": {
        "colab": {
          "base_uri": "https://localhost:8080/"
        },
        "id": "IVNvKnFNUsFE",
        "outputId": "b337739c-b7f5-4e0d-84b2-bad6cfeedfbe"
      },
      "source": [
        "# This is the first code you should start from\n",
        "import tensorflow as tf\n",
        "print(tf.__version__)"
      ],
      "execution_count": null,
      "outputs": [
        {
          "output_type": "stream",
          "name": "stdout",
          "text": [
            "2.7.0\n"
          ]
        }
      ]
    },
    {
      "cell_type": "code",
      "metadata": {
        "id": "XTEF949BBo0K"
      },
      "source": [
        "# Our data are stored in GITHUB, goto  https://github.com/bsuwpc/DSP click correct pure normalized data.csv, then click RAW. Copy its link address and paste to URL below, that link address of RAW data is temporary (expired in 5 minutes)\n",
        "url='https://raw.githubusercontent.com/bsuwpc/DSP/main/new%20attributes%20for%20DNN%20normalized%20without%20number%20headers.csv?token=ARTBCIJP7CYYLWCVHRFCKLTBRL55U'"
      ],
      "execution_count": null,
      "outputs": []
    },
    {
      "cell_type": "code",
      "metadata": {
        "id": "d97Vu26qCLDZ"
      },
      "source": [
        "import pandas as pd\n",
        "data = pd.read_csv(url)\n",
        "# If some error, redo above code to get data from GITHUB\n"
      ],
      "execution_count": null,
      "outputs": []
    },
    {
      "cell_type": "code",
      "metadata": {
        "colab": {
          "base_uri": "https://localhost:8080/",
          "height": 294
        },
        "id": "m1Xr1vKYDfVe",
        "outputId": "34083dd1-4a7f-4846-d3b1-cee60b4b1ab7"
      },
      "source": [
        "data.head()\n",
        "# compare this result with our normalized data to confirm."
      ],
      "execution_count": null,
      "outputs": [
        {
          "output_type": "execute_result",
          "data": {
            "text/html": [
              "<div>\n",
              "<style scoped>\n",
              "    .dataframe tbody tr th:only-of-type {\n",
              "        vertical-align: middle;\n",
              "    }\n",
              "\n",
              "    .dataframe tbody tr th {\n",
              "        vertical-align: top;\n",
              "    }\n",
              "\n",
              "    .dataframe thead th {\n",
              "        text-align: right;\n",
              "    }\n",
              "</style>\n",
              "<table border=\"1\" class=\"dataframe\">\n",
              "  <thead>\n",
              "    <tr style=\"text-align: right;\">\n",
              "      <th></th>\n",
              "      <th>Number of statements</th>\n",
              "      <th>No. of  iterations in outer</th>\n",
              "      <th>No. of  iterations in inner</th>\n",
              "      <th>No. of statements in outer</th>\n",
              "      <th>No. of statements in inner</th>\n",
              "      <th>Number of loops</th>\n",
              "      <th>levels of nested loops</th>\n",
              "      <th>total  iterations</th>\n",
              "      <th># of Complex Variables</th>\n",
              "      <th>CC*</th>\n",
              "      <th>function calls</th>\n",
              "      <th>branches</th>\n",
              "      <th>SWPP</th>\n",
              "      <th>Number of inputs</th>\n",
              "      <th>Number of outputs</th>\n",
              "      <th>Sizes of input data (byte)</th>\n",
              "      <th>Sizes of output data (byte)</th>\n",
              "      <th>No. 0f iterations* statement inner</th>\n",
              "      <th>Repeating times</th>\n",
              "      <th>adjusted execution time</th>\n",
              "      <th>Unnamed: 20</th>\n",
              "      <th>execution time</th>\n",
              "    </tr>\n",
              "  </thead>\n",
              "  <tbody>\n",
              "    <tr>\n",
              "      <th>0</th>\n",
              "      <td>0.000000</td>\n",
              "      <td>0.000122</td>\n",
              "      <td>0.007937</td>\n",
              "      <td>0.096774</td>\n",
              "      <td>0.000000</td>\n",
              "      <td>0.00</td>\n",
              "      <td>0.5</td>\n",
              "      <td>0.000374</td>\n",
              "      <td>0.0</td>\n",
              "      <td>0.064516</td>\n",
              "      <td>0.0</td>\n",
              "      <td>0.000000</td>\n",
              "      <td>1</td>\n",
              "      <td>0.1</td>\n",
              "      <td>0.0</td>\n",
              "      <td>0.000000</td>\n",
              "      <td>0.001065</td>\n",
              "      <td>0.000038</td>\n",
              "      <td>0.149149</td>\n",
              "      <td>76</td>\n",
              "      <td>NaN</td>\n",
              "      <td>509</td>\n",
              "    </tr>\n",
              "    <tr>\n",
              "      <th>1</th>\n",
              "      <td>0.000000</td>\n",
              "      <td>0.000260</td>\n",
              "      <td>0.847118</td>\n",
              "      <td>0.096774</td>\n",
              "      <td>0.000000</td>\n",
              "      <td>0.00</td>\n",
              "      <td>0.5</td>\n",
              "      <td>0.062767</td>\n",
              "      <td>0.0</td>\n",
              "      <td>0.064516</td>\n",
              "      <td>0.0</td>\n",
              "      <td>0.000000</td>\n",
              "      <td>1</td>\n",
              "      <td>0.1</td>\n",
              "      <td>0.0</td>\n",
              "      <td>0.105175</td>\n",
              "      <td>0.002485</td>\n",
              "      <td>0.006971</td>\n",
              "      <td>0.001001</td>\n",
              "      <td>49</td>\n",
              "      <td>NaN</td>\n",
              "      <td>49193</td>\n",
              "    </tr>\n",
              "    <tr>\n",
              "      <th>2</th>\n",
              "      <td>0.000000</td>\n",
              "      <td>0.000538</td>\n",
              "      <td>0.402673</td>\n",
              "      <td>0.096774</td>\n",
              "      <td>0.000000</td>\n",
              "      <td>0.00</td>\n",
              "      <td>0.5</td>\n",
              "      <td>0.059866</td>\n",
              "      <td>0.0</td>\n",
              "      <td>0.064516</td>\n",
              "      <td>0.0</td>\n",
              "      <td>0.000000</td>\n",
              "      <td>1</td>\n",
              "      <td>0.1</td>\n",
              "      <td>0.0</td>\n",
              "      <td>0.050501</td>\n",
              "      <td>0.005326</td>\n",
              "      <td>0.006648</td>\n",
              "      <td>0.000000</td>\n",
              "      <td>0</td>\n",
              "      <td>NaN</td>\n",
              "      <td>47297</td>\n",
              "    </tr>\n",
              "    <tr>\n",
              "      <th>3</th>\n",
              "      <td>0.049383</td>\n",
              "      <td>0.017761</td>\n",
              "      <td>0.001671</td>\n",
              "      <td>0.161290</td>\n",
              "      <td>0.020833</td>\n",
              "      <td>0.25</td>\n",
              "      <td>1.0</td>\n",
              "      <td>0.019742</td>\n",
              "      <td>0.0</td>\n",
              "      <td>0.129032</td>\n",
              "      <td>0.0</td>\n",
              "      <td>0.333333</td>\n",
              "      <td>1</td>\n",
              "      <td>0.4</td>\n",
              "      <td>0.0</td>\n",
              "      <td>0.051753</td>\n",
              "      <td>0.090538</td>\n",
              "      <td>0.003288</td>\n",
              "      <td>0.000000</td>\n",
              "      <td>0</td>\n",
              "      <td>NaN</td>\n",
              "      <td>42014</td>\n",
              "    </tr>\n",
              "    <tr>\n",
              "      <th>4</th>\n",
              "      <td>0.049383</td>\n",
              "      <td>0.017761</td>\n",
              "      <td>0.000835</td>\n",
              "      <td>0.161290</td>\n",
              "      <td>0.020833</td>\n",
              "      <td>0.25</td>\n",
              "      <td>1.0</td>\n",
              "      <td>0.015791</td>\n",
              "      <td>0.0</td>\n",
              "      <td>0.129032</td>\n",
              "      <td>0.0</td>\n",
              "      <td>0.333333</td>\n",
              "      <td>1</td>\n",
              "      <td>0.4</td>\n",
              "      <td>0.0</td>\n",
              "      <td>0.051753</td>\n",
              "      <td>0.090538</td>\n",
              "      <td>0.002629</td>\n",
              "      <td>0.000000</td>\n",
              "      <td>0</td>\n",
              "      <td>NaN</td>\n",
              "      <td>41501</td>\n",
              "    </tr>\n",
              "  </tbody>\n",
              "</table>\n",
              "</div>"
            ],
            "text/plain": [
              "   Number of statements  ...  execution time\n",
              "0              0.000000  ...             509\n",
              "1              0.000000  ...           49193\n",
              "2              0.000000  ...           47297\n",
              "3              0.049383  ...           42014\n",
              "4              0.049383  ...           41501\n",
              "\n",
              "[5 rows x 22 columns]"
            ]
          },
          "metadata": {},
          "execution_count": 226
        }
      ]
    },
    {
      "cell_type": "code",
      "metadata": {
        "colab": {
          "base_uri": "https://localhost:8080/"
        },
        "id": "CAPQzLvOQVPH",
        "outputId": "13cd4dc9-b334-401d-e86c-684cce646dba"
      },
      "source": [
        "data.info()\n",
        "# for confirmation"
      ],
      "execution_count": null,
      "outputs": [
        {
          "output_type": "stream",
          "name": "stdout",
          "text": [
            "<class 'pandas.core.frame.DataFrame'>\n",
            "RangeIndex: 33 entries, 0 to 32\n",
            "Data columns (total 22 columns):\n",
            " #   Column                              Non-Null Count  Dtype  \n",
            "---  ------                              --------------  -----  \n",
            " 0   Number of statements                33 non-null     float64\n",
            " 1   No. of  iterations in outer         33 non-null     float64\n",
            " 2   No. of  iterations in inner         33 non-null     float64\n",
            " 3   No. of statements in outer          33 non-null     float64\n",
            " 4   No. of statements in inner          33 non-null     float64\n",
            " 5   Number of loops                     33 non-null     float64\n",
            " 6   levels of nested loops              33 non-null     float64\n",
            " 7   total  iterations                   33 non-null     float64\n",
            " 8   # of Complex Variables              33 non-null     float64\n",
            " 9   CC*                                 33 non-null     float64\n",
            " 10  function calls                      33 non-null     float64\n",
            " 11  branches                            33 non-null     float64\n",
            " 12  SWPP                                33 non-null     int64  \n",
            " 13  Number of inputs                    33 non-null     float64\n",
            " 14  Number of outputs                   33 non-null     float64\n",
            " 15  Sizes of input data (byte)          33 non-null     float64\n",
            " 16  Sizes of output data (byte)         33 non-null     float64\n",
            " 17  No. 0f iterations* statement inner  33 non-null     float64\n",
            " 18  Repeating times                     33 non-null     float64\n",
            " 19   adjusted execution time            33 non-null     int64  \n",
            " 20  Unnamed: 20                         0 non-null      float64\n",
            " 21  execution time                      33 non-null     int64  \n",
            "dtypes: float64(19), int64(3)\n",
            "memory usage: 5.8 KB\n"
          ]
        }
      ]
    },
    {
      "cell_type": "code",
      "metadata": {
        "id": "x2Eqn_KE4KmU"
      },
      "source": [
        "def removeCols():\n",
        "  return data.drop('Unnamed: 20', axis=1)\n",
        "\n",
        "data = removeCols()"
      ],
      "execution_count": null,
      "outputs": []
    },
    {
      "cell_type": "code",
      "metadata": {
        "colab": {
          "base_uri": "https://localhost:8080/",
          "height": 705
        },
        "id": "vq4s6wcpPsVD",
        "outputId": "d3815a86-8f1c-4126-cbef-6d222b629f46"
      },
      "source": [
        "data_t = data.describe()\n",
        "desc = data_t.T\n",
        "desc\n",
        "# count = 33, which means our data contain 33 samples "
      ],
      "execution_count": null,
      "outputs": [
        {
          "output_type": "execute_result",
          "data": {
            "text/html": [
              "<div>\n",
              "<style scoped>\n",
              "    .dataframe tbody tr th:only-of-type {\n",
              "        vertical-align: middle;\n",
              "    }\n",
              "\n",
              "    .dataframe tbody tr th {\n",
              "        vertical-align: top;\n",
              "    }\n",
              "\n",
              "    .dataframe thead th {\n",
              "        text-align: right;\n",
              "    }\n",
              "</style>\n",
              "<table border=\"1\" class=\"dataframe\">\n",
              "  <thead>\n",
              "    <tr style=\"text-align: right;\">\n",
              "      <th></th>\n",
              "      <th>count</th>\n",
              "      <th>mean</th>\n",
              "      <th>std</th>\n",
              "      <th>min</th>\n",
              "      <th>25%</th>\n",
              "      <th>50%</th>\n",
              "      <th>75%</th>\n",
              "      <th>max</th>\n",
              "    </tr>\n",
              "  </thead>\n",
              "  <tbody>\n",
              "    <tr>\n",
              "      <th>Number of statements</th>\n",
              "      <td>33.0</td>\n",
              "      <td>0.212308</td>\n",
              "      <td>3.067067e-01</td>\n",
              "      <td>0.0</td>\n",
              "      <td>0.049383</td>\n",
              "      <td>0.104938</td>\n",
              "      <td>0.179012</td>\n",
              "      <td>1.0</td>\n",
              "    </tr>\n",
              "    <tr>\n",
              "      <th>No. of  iterations in outer</th>\n",
              "      <td>33.0</td>\n",
              "      <td>0.032984</td>\n",
              "      <td>1.736975e-01</td>\n",
              "      <td>0.0</td>\n",
              "      <td>0.000087</td>\n",
              "      <td>0.000278</td>\n",
              "      <td>0.001372</td>\n",
              "      <td>1.0</td>\n",
              "    </tr>\n",
              "    <tr>\n",
              "      <th>No. of  iterations in inner</th>\n",
              "      <td>33.0</td>\n",
              "      <td>0.195856</td>\n",
              "      <td>2.811085e-01</td>\n",
              "      <td>0.0</td>\n",
              "      <td>0.004177</td>\n",
              "      <td>0.104428</td>\n",
              "      <td>0.291562</td>\n",
              "      <td>1.0</td>\n",
              "    </tr>\n",
              "    <tr>\n",
              "      <th>No. of statements in outer</th>\n",
              "      <td>33.0</td>\n",
              "      <td>0.203324</td>\n",
              "      <td>2.007214e-01</td>\n",
              "      <td>0.0</td>\n",
              "      <td>0.096774</td>\n",
              "      <td>0.161290</td>\n",
              "      <td>0.290323</td>\n",
              "      <td>1.0</td>\n",
              "    </tr>\n",
              "    <tr>\n",
              "      <th>No. of statements in inner</th>\n",
              "      <td>33.0</td>\n",
              "      <td>0.287247</td>\n",
              "      <td>3.265819e-01</td>\n",
              "      <td>0.0</td>\n",
              "      <td>0.020833</td>\n",
              "      <td>0.187500</td>\n",
              "      <td>0.333333</td>\n",
              "      <td>1.0</td>\n",
              "    </tr>\n",
              "    <tr>\n",
              "      <th>Number of loops</th>\n",
              "      <td>33.0</td>\n",
              "      <td>0.181818</td>\n",
              "      <td>2.189528e-01</td>\n",
              "      <td>0.0</td>\n",
              "      <td>0.000000</td>\n",
              "      <td>0.250000</td>\n",
              "      <td>0.250000</td>\n",
              "      <td>1.0</td>\n",
              "    </tr>\n",
              "    <tr>\n",
              "      <th>levels of nested loops</th>\n",
              "      <td>33.0</td>\n",
              "      <td>0.590909</td>\n",
              "      <td>3.634588e-01</td>\n",
              "      <td>0.0</td>\n",
              "      <td>0.500000</td>\n",
              "      <td>0.500000</td>\n",
              "      <td>1.000000</td>\n",
              "      <td>1.0</td>\n",
              "    </tr>\n",
              "    <tr>\n",
              "      <th>total  iterations</th>\n",
              "      <td>33.0</td>\n",
              "      <td>0.047681</td>\n",
              "      <td>1.721096e-01</td>\n",
              "      <td>0.0</td>\n",
              "      <td>0.004618</td>\n",
              "      <td>0.011840</td>\n",
              "      <td>0.020976</td>\n",
              "      <td>1.0</td>\n",
              "    </tr>\n",
              "    <tr>\n",
              "      <th># of Complex Variables</th>\n",
              "      <td>33.0</td>\n",
              "      <td>0.106061</td>\n",
              "      <td>2.331032e-01</td>\n",
              "      <td>0.0</td>\n",
              "      <td>0.000000</td>\n",
              "      <td>0.000000</td>\n",
              "      <td>0.100000</td>\n",
              "      <td>1.0</td>\n",
              "    </tr>\n",
              "    <tr>\n",
              "      <th>CC*</th>\n",
              "      <td>33.0</td>\n",
              "      <td>0.235582</td>\n",
              "      <td>2.125248e-01</td>\n",
              "      <td>0.0</td>\n",
              "      <td>0.129032</td>\n",
              "      <td>0.129032</td>\n",
              "      <td>0.290323</td>\n",
              "      <td>1.0</td>\n",
              "    </tr>\n",
              "    <tr>\n",
              "      <th>function calls</th>\n",
              "      <td>33.0</td>\n",
              "      <td>0.195592</td>\n",
              "      <td>3.198989e-01</td>\n",
              "      <td>0.0</td>\n",
              "      <td>0.000000</td>\n",
              "      <td>0.000000</td>\n",
              "      <td>0.181818</td>\n",
              "      <td>1.0</td>\n",
              "    </tr>\n",
              "    <tr>\n",
              "      <th>branches</th>\n",
              "      <td>33.0</td>\n",
              "      <td>0.313131</td>\n",
              "      <td>4.244228e-01</td>\n",
              "      <td>0.0</td>\n",
              "      <td>0.000000</td>\n",
              "      <td>0.000000</td>\n",
              "      <td>0.666667</td>\n",
              "      <td>1.0</td>\n",
              "    </tr>\n",
              "    <tr>\n",
              "      <th>SWPP</th>\n",
              "      <td>33.0</td>\n",
              "      <td>0.454545</td>\n",
              "      <td>5.056499e-01</td>\n",
              "      <td>0.0</td>\n",
              "      <td>0.000000</td>\n",
              "      <td>0.000000</td>\n",
              "      <td>1.000000</td>\n",
              "      <td>1.0</td>\n",
              "    </tr>\n",
              "    <tr>\n",
              "      <th>Number of inputs</th>\n",
              "      <td>33.0</td>\n",
              "      <td>0.312121</td>\n",
              "      <td>2.394754e-01</td>\n",
              "      <td>0.0</td>\n",
              "      <td>0.100000</td>\n",
              "      <td>0.300000</td>\n",
              "      <td>0.400000</td>\n",
              "      <td>1.0</td>\n",
              "    </tr>\n",
              "    <tr>\n",
              "      <th>Number of outputs</th>\n",
              "      <td>33.0</td>\n",
              "      <td>0.121212</td>\n",
              "      <td>2.803542e-01</td>\n",
              "      <td>0.0</td>\n",
              "      <td>0.000000</td>\n",
              "      <td>0.000000</td>\n",
              "      <td>0.000000</td>\n",
              "      <td>1.0</td>\n",
              "    </tr>\n",
              "    <tr>\n",
              "      <th>Sizes of input data (byte)</th>\n",
              "      <td>33.0</td>\n",
              "      <td>0.178992</td>\n",
              "      <td>2.120778e-01</td>\n",
              "      <td>0.0</td>\n",
              "      <td>0.039858</td>\n",
              "      <td>0.086811</td>\n",
              "      <td>0.248748</td>\n",
              "      <td>1.0</td>\n",
              "    </tr>\n",
              "    <tr>\n",
              "      <th>Sizes of output data (byte)</th>\n",
              "      <td>33.0</td>\n",
              "      <td>0.266503</td>\n",
              "      <td>3.447269e-01</td>\n",
              "      <td>0.0</td>\n",
              "      <td>0.005681</td>\n",
              "      <td>0.067105</td>\n",
              "      <td>0.425706</td>\n",
              "      <td>1.0</td>\n",
              "    </tr>\n",
              "    <tr>\n",
              "      <th>No. 0f iterations* statement inner</th>\n",
              "      <td>33.0</td>\n",
              "      <td>0.043079</td>\n",
              "      <td>1.728108e-01</td>\n",
              "      <td>0.0</td>\n",
              "      <td>0.001744</td>\n",
              "      <td>0.003296</td>\n",
              "      <td>0.020692</td>\n",
              "      <td>1.0</td>\n",
              "    </tr>\n",
              "    <tr>\n",
              "      <th>Repeating times</th>\n",
              "      <td>33.0</td>\n",
              "      <td>0.063336</td>\n",
              "      <td>1.922670e-01</td>\n",
              "      <td>0.0</td>\n",
              "      <td>0.000000</td>\n",
              "      <td>0.001001</td>\n",
              "      <td>0.024024</td>\n",
              "      <td>1.0</td>\n",
              "    </tr>\n",
              "    <tr>\n",
              "      <th>adjusted execution time</th>\n",
              "      <td>33.0</td>\n",
              "      <td>736.212121</td>\n",
              "      <td>3.418792e+03</td>\n",
              "      <td>0.0</td>\n",
              "      <td>0.000000</td>\n",
              "      <td>39.000000</td>\n",
              "      <td>125.000000</td>\n",
              "      <td>19669.0</td>\n",
              "    </tr>\n",
              "    <tr>\n",
              "      <th>execution time</th>\n",
              "      <td>33.0</td>\n",
              "      <td>389141.424242</td>\n",
              "      <td>1.795625e+06</td>\n",
              "      <td>56.0</td>\n",
              "      <td>7965.000000</td>\n",
              "      <td>45218.000000</td>\n",
              "      <td>110922.000000</td>\n",
              "      <td>10374917.0</td>\n",
              "    </tr>\n",
              "  </tbody>\n",
              "</table>\n",
              "</div>"
            ],
            "text/plain": [
              "                                    count  ...         max\n",
              "Number of statements                 33.0  ...         1.0\n",
              "No. of  iterations in outer          33.0  ...         1.0\n",
              "No. of  iterations in inner          33.0  ...         1.0\n",
              "No. of statements in outer           33.0  ...         1.0\n",
              "No. of statements in inner           33.0  ...         1.0\n",
              "Number of loops                      33.0  ...         1.0\n",
              "levels of nested loops               33.0  ...         1.0\n",
              "total  iterations                    33.0  ...         1.0\n",
              "# of Complex Variables               33.0  ...         1.0\n",
              "CC*                                  33.0  ...         1.0\n",
              "function calls                       33.0  ...         1.0\n",
              "branches                             33.0  ...         1.0\n",
              "SWPP                                 33.0  ...         1.0\n",
              "Number of inputs                     33.0  ...         1.0\n",
              "Number of outputs                    33.0  ...         1.0\n",
              "Sizes of input data (byte)           33.0  ...         1.0\n",
              "Sizes of output data (byte)          33.0  ...         1.0\n",
              "No. 0f iterations* statement inner   33.0  ...         1.0\n",
              "Repeating times                      33.0  ...         1.0\n",
              " adjusted execution time             33.0  ...     19669.0\n",
              "execution time                       33.0  ...  10374917.0\n",
              "\n",
              "[21 rows x 8 columns]"
            ]
          },
          "metadata": {},
          "execution_count": 229
        }
      ]
    },
    {
      "cell_type": "code",
      "metadata": {
        "id": "RiscujXcwPFo",
        "colab": {
          "base_uri": "https://localhost:8080/",
          "height": 705
        },
        "outputId": "5774a19e-16ac-4edc-b585-771a650518c7"
      },
      "source": [
        "desc[['mean', 'std']]\n",
        "# this results show that all features (attributes in uur papers) vary over a wide range"
      ],
      "execution_count": null,
      "outputs": [
        {
          "output_type": "execute_result",
          "data": {
            "text/html": [
              "<div>\n",
              "<style scoped>\n",
              "    .dataframe tbody tr th:only-of-type {\n",
              "        vertical-align: middle;\n",
              "    }\n",
              "\n",
              "    .dataframe tbody tr th {\n",
              "        vertical-align: top;\n",
              "    }\n",
              "\n",
              "    .dataframe thead th {\n",
              "        text-align: right;\n",
              "    }\n",
              "</style>\n",
              "<table border=\"1\" class=\"dataframe\">\n",
              "  <thead>\n",
              "    <tr style=\"text-align: right;\">\n",
              "      <th></th>\n",
              "      <th>mean</th>\n",
              "      <th>std</th>\n",
              "    </tr>\n",
              "  </thead>\n",
              "  <tbody>\n",
              "    <tr>\n",
              "      <th>Number of statements</th>\n",
              "      <td>0.212308</td>\n",
              "      <td>3.067067e-01</td>\n",
              "    </tr>\n",
              "    <tr>\n",
              "      <th>No. of  iterations in outer</th>\n",
              "      <td>0.032984</td>\n",
              "      <td>1.736975e-01</td>\n",
              "    </tr>\n",
              "    <tr>\n",
              "      <th>No. of  iterations in inner</th>\n",
              "      <td>0.195856</td>\n",
              "      <td>2.811085e-01</td>\n",
              "    </tr>\n",
              "    <tr>\n",
              "      <th>No. of statements in outer</th>\n",
              "      <td>0.203324</td>\n",
              "      <td>2.007214e-01</td>\n",
              "    </tr>\n",
              "    <tr>\n",
              "      <th>No. of statements in inner</th>\n",
              "      <td>0.287247</td>\n",
              "      <td>3.265819e-01</td>\n",
              "    </tr>\n",
              "    <tr>\n",
              "      <th>Number of loops</th>\n",
              "      <td>0.181818</td>\n",
              "      <td>2.189528e-01</td>\n",
              "    </tr>\n",
              "    <tr>\n",
              "      <th>levels of nested loops</th>\n",
              "      <td>0.590909</td>\n",
              "      <td>3.634588e-01</td>\n",
              "    </tr>\n",
              "    <tr>\n",
              "      <th>total  iterations</th>\n",
              "      <td>0.047681</td>\n",
              "      <td>1.721096e-01</td>\n",
              "    </tr>\n",
              "    <tr>\n",
              "      <th># of Complex Variables</th>\n",
              "      <td>0.106061</td>\n",
              "      <td>2.331032e-01</td>\n",
              "    </tr>\n",
              "    <tr>\n",
              "      <th>CC*</th>\n",
              "      <td>0.235582</td>\n",
              "      <td>2.125248e-01</td>\n",
              "    </tr>\n",
              "    <tr>\n",
              "      <th>function calls</th>\n",
              "      <td>0.195592</td>\n",
              "      <td>3.198989e-01</td>\n",
              "    </tr>\n",
              "    <tr>\n",
              "      <th>branches</th>\n",
              "      <td>0.313131</td>\n",
              "      <td>4.244228e-01</td>\n",
              "    </tr>\n",
              "    <tr>\n",
              "      <th>SWPP</th>\n",
              "      <td>0.454545</td>\n",
              "      <td>5.056499e-01</td>\n",
              "    </tr>\n",
              "    <tr>\n",
              "      <th>Number of inputs</th>\n",
              "      <td>0.312121</td>\n",
              "      <td>2.394754e-01</td>\n",
              "    </tr>\n",
              "    <tr>\n",
              "      <th>Number of outputs</th>\n",
              "      <td>0.121212</td>\n",
              "      <td>2.803542e-01</td>\n",
              "    </tr>\n",
              "    <tr>\n",
              "      <th>Sizes of input data (byte)</th>\n",
              "      <td>0.178992</td>\n",
              "      <td>2.120778e-01</td>\n",
              "    </tr>\n",
              "    <tr>\n",
              "      <th>Sizes of output data (byte)</th>\n",
              "      <td>0.266503</td>\n",
              "      <td>3.447269e-01</td>\n",
              "    </tr>\n",
              "    <tr>\n",
              "      <th>No. 0f iterations* statement inner</th>\n",
              "      <td>0.043079</td>\n",
              "      <td>1.728108e-01</td>\n",
              "    </tr>\n",
              "    <tr>\n",
              "      <th>Repeating times</th>\n",
              "      <td>0.063336</td>\n",
              "      <td>1.922670e-01</td>\n",
              "    </tr>\n",
              "    <tr>\n",
              "      <th>adjusted execution time</th>\n",
              "      <td>736.212121</td>\n",
              "      <td>3.418792e+03</td>\n",
              "    </tr>\n",
              "    <tr>\n",
              "      <th>execution time</th>\n",
              "      <td>389141.424242</td>\n",
              "      <td>1.795625e+06</td>\n",
              "    </tr>\n",
              "  </tbody>\n",
              "</table>\n",
              "</div>"
            ],
            "text/plain": [
              "                                             mean           std\n",
              "Number of statements                     0.212308  3.067067e-01\n",
              "No. of  iterations in outer              0.032984  1.736975e-01\n",
              "No. of  iterations in inner              0.195856  2.811085e-01\n",
              "No. of statements in outer               0.203324  2.007214e-01\n",
              "No. of statements in inner               0.287247  3.265819e-01\n",
              "Number of loops                          0.181818  2.189528e-01\n",
              "levels of nested loops                   0.590909  3.634588e-01\n",
              "total  iterations                        0.047681  1.721096e-01\n",
              "# of Complex Variables                   0.106061  2.331032e-01\n",
              "CC*                                      0.235582  2.125248e-01\n",
              "function calls                           0.195592  3.198989e-01\n",
              "branches                                 0.313131  4.244228e-01\n",
              "SWPP                                     0.454545  5.056499e-01\n",
              "Number of inputs                         0.312121  2.394754e-01\n",
              "Number of outputs                        0.121212  2.803542e-01\n",
              "Sizes of input data (byte)               0.178992  2.120778e-01\n",
              "Sizes of output data (byte)              0.266503  3.447269e-01\n",
              "No. 0f iterations* statement inner       0.043079  1.728108e-01\n",
              "Repeating times                          0.063336  1.922670e-01\n",
              " adjusted execution time               736.212121  3.418792e+03\n",
              "execution time                      389141.424242  1.795625e+06"
            ]
          },
          "metadata": {},
          "execution_count": 230
        }
      ]
    },
    {
      "cell_type": "code",
      "metadata": {
        "colab": {
          "base_uri": "https://localhost:8080/"
        },
        "id": "Bg3ZsVCheXWK",
        "outputId": "77e60e32-dc7a-45f1-9dda-f69e5305e292"
      },
      "source": [
        "cols = list(data)\n",
        "cols\n",
        "# this code is not necessary"
      ],
      "execution_count": null,
      "outputs": [
        {
          "output_type": "execute_result",
          "data": {
            "text/plain": [
              "['Number of statements',\n",
              " 'No. of  iterations in outer',\n",
              " 'No. of  iterations in inner',\n",
              " 'No. of statements in outer ',\n",
              " 'No. of statements in inner',\n",
              " 'Number of loops',\n",
              " 'levels of nested loops',\n",
              " 'total  iterations ',\n",
              " '# of Complex Variables',\n",
              " 'CC*',\n",
              " 'function calls',\n",
              " 'branches ',\n",
              " 'SWPP',\n",
              " 'Number of inputs',\n",
              " 'Number of outputs',\n",
              " 'Sizes of input data (byte)',\n",
              " 'Sizes of output data (byte)',\n",
              " 'No. 0f iterations* statement inner',\n",
              " 'Repeating times',\n",
              " ' adjusted execution time',\n",
              " 'execution time']"
            ]
          },
          "metadata": {},
          "execution_count": 231
        }
      ]
    },
    {
      "cell_type": "code",
      "metadata": {
        "colab": {
          "base_uri": "https://localhost:8080/"
        },
        "id": "xzycqBrN_HVW",
        "outputId": "e8ec50ff-a40e-416c-a98a-2ef1fec4e94c"
      },
      "source": [
        "# create a copy of the DataFrame\n",
        "df = data.copy()\n",
        "# create the target\n",
        "target = df.pop('execution time')\n",
        "print (target.head())\n",
        "# execution time is the target of prediction, using df.pop to create the target set; rest of df are feature sets. target.head shows the first 5 samples' target values\n"
      ],
      "execution_count": null,
      "outputs": [
        {
          "output_type": "stream",
          "name": "stdout",
          "text": [
            "0      509\n",
            "1    49193\n",
            "2    47297\n",
            "3    42014\n",
            "4    41501\n",
            "Name: execution time, dtype: int64\n"
          ]
        }
      ]
    },
    {
      "cell_type": "code",
      "metadata": {
        "colab": {
          "base_uri": "https://localhost:8080/",
          "height": 294
        },
        "id": "aGOJJjHJ_nyK",
        "outputId": "60c991d1-5b4b-4d76-e0e8-54b3ed4d2198"
      },
      "source": [
        "df.head()\n",
        "# check the first five feature sets"
      ],
      "execution_count": null,
      "outputs": [
        {
          "output_type": "execute_result",
          "data": {
            "text/html": [
              "<div>\n",
              "<style scoped>\n",
              "    .dataframe tbody tr th:only-of-type {\n",
              "        vertical-align: middle;\n",
              "    }\n",
              "\n",
              "    .dataframe tbody tr th {\n",
              "        vertical-align: top;\n",
              "    }\n",
              "\n",
              "    .dataframe thead th {\n",
              "        text-align: right;\n",
              "    }\n",
              "</style>\n",
              "<table border=\"1\" class=\"dataframe\">\n",
              "  <thead>\n",
              "    <tr style=\"text-align: right;\">\n",
              "      <th></th>\n",
              "      <th>Number of statements</th>\n",
              "      <th>No. of  iterations in outer</th>\n",
              "      <th>No. of  iterations in inner</th>\n",
              "      <th>No. of statements in outer</th>\n",
              "      <th>No. of statements in inner</th>\n",
              "      <th>Number of loops</th>\n",
              "      <th>levels of nested loops</th>\n",
              "      <th>total  iterations</th>\n",
              "      <th># of Complex Variables</th>\n",
              "      <th>CC*</th>\n",
              "      <th>function calls</th>\n",
              "      <th>branches</th>\n",
              "      <th>SWPP</th>\n",
              "      <th>Number of inputs</th>\n",
              "      <th>Number of outputs</th>\n",
              "      <th>Sizes of input data (byte)</th>\n",
              "      <th>Sizes of output data (byte)</th>\n",
              "      <th>No. 0f iterations* statement inner</th>\n",
              "      <th>Repeating times</th>\n",
              "      <th>adjusted execution time</th>\n",
              "    </tr>\n",
              "  </thead>\n",
              "  <tbody>\n",
              "    <tr>\n",
              "      <th>0</th>\n",
              "      <td>0.000000</td>\n",
              "      <td>0.000122</td>\n",
              "      <td>0.007937</td>\n",
              "      <td>0.096774</td>\n",
              "      <td>0.000000</td>\n",
              "      <td>0.00</td>\n",
              "      <td>0.5</td>\n",
              "      <td>0.000374</td>\n",
              "      <td>0.0</td>\n",
              "      <td>0.064516</td>\n",
              "      <td>0.0</td>\n",
              "      <td>0.000000</td>\n",
              "      <td>1</td>\n",
              "      <td>0.1</td>\n",
              "      <td>0.0</td>\n",
              "      <td>0.000000</td>\n",
              "      <td>0.001065</td>\n",
              "      <td>0.000038</td>\n",
              "      <td>0.149149</td>\n",
              "      <td>76</td>\n",
              "    </tr>\n",
              "    <tr>\n",
              "      <th>1</th>\n",
              "      <td>0.000000</td>\n",
              "      <td>0.000260</td>\n",
              "      <td>0.847118</td>\n",
              "      <td>0.096774</td>\n",
              "      <td>0.000000</td>\n",
              "      <td>0.00</td>\n",
              "      <td>0.5</td>\n",
              "      <td>0.062767</td>\n",
              "      <td>0.0</td>\n",
              "      <td>0.064516</td>\n",
              "      <td>0.0</td>\n",
              "      <td>0.000000</td>\n",
              "      <td>1</td>\n",
              "      <td>0.1</td>\n",
              "      <td>0.0</td>\n",
              "      <td>0.105175</td>\n",
              "      <td>0.002485</td>\n",
              "      <td>0.006971</td>\n",
              "      <td>0.001001</td>\n",
              "      <td>49</td>\n",
              "    </tr>\n",
              "    <tr>\n",
              "      <th>2</th>\n",
              "      <td>0.000000</td>\n",
              "      <td>0.000538</td>\n",
              "      <td>0.402673</td>\n",
              "      <td>0.096774</td>\n",
              "      <td>0.000000</td>\n",
              "      <td>0.00</td>\n",
              "      <td>0.5</td>\n",
              "      <td>0.059866</td>\n",
              "      <td>0.0</td>\n",
              "      <td>0.064516</td>\n",
              "      <td>0.0</td>\n",
              "      <td>0.000000</td>\n",
              "      <td>1</td>\n",
              "      <td>0.1</td>\n",
              "      <td>0.0</td>\n",
              "      <td>0.050501</td>\n",
              "      <td>0.005326</td>\n",
              "      <td>0.006648</td>\n",
              "      <td>0.000000</td>\n",
              "      <td>0</td>\n",
              "    </tr>\n",
              "    <tr>\n",
              "      <th>3</th>\n",
              "      <td>0.049383</td>\n",
              "      <td>0.017761</td>\n",
              "      <td>0.001671</td>\n",
              "      <td>0.161290</td>\n",
              "      <td>0.020833</td>\n",
              "      <td>0.25</td>\n",
              "      <td>1.0</td>\n",
              "      <td>0.019742</td>\n",
              "      <td>0.0</td>\n",
              "      <td>0.129032</td>\n",
              "      <td>0.0</td>\n",
              "      <td>0.333333</td>\n",
              "      <td>1</td>\n",
              "      <td>0.4</td>\n",
              "      <td>0.0</td>\n",
              "      <td>0.051753</td>\n",
              "      <td>0.090538</td>\n",
              "      <td>0.003288</td>\n",
              "      <td>0.000000</td>\n",
              "      <td>0</td>\n",
              "    </tr>\n",
              "    <tr>\n",
              "      <th>4</th>\n",
              "      <td>0.049383</td>\n",
              "      <td>0.017761</td>\n",
              "      <td>0.000835</td>\n",
              "      <td>0.161290</td>\n",
              "      <td>0.020833</td>\n",
              "      <td>0.25</td>\n",
              "      <td>1.0</td>\n",
              "      <td>0.015791</td>\n",
              "      <td>0.0</td>\n",
              "      <td>0.129032</td>\n",
              "      <td>0.0</td>\n",
              "      <td>0.333333</td>\n",
              "      <td>1</td>\n",
              "      <td>0.4</td>\n",
              "      <td>0.0</td>\n",
              "      <td>0.051753</td>\n",
              "      <td>0.090538</td>\n",
              "      <td>0.002629</td>\n",
              "      <td>0.000000</td>\n",
              "      <td>0</td>\n",
              "    </tr>\n",
              "  </tbody>\n",
              "</table>\n",
              "</div>"
            ],
            "text/plain": [
              "   Number of statements  ...   adjusted execution time\n",
              "0              0.000000  ...                        76\n",
              "1              0.000000  ...                        49\n",
              "2              0.000000  ...                         0\n",
              "3              0.049383  ...                         0\n",
              "4              0.049383  ...                         0\n",
              "\n",
              "[5 rows x 20 columns]"
            ]
          },
          "metadata": {},
          "execution_count": 233
        }
      ]
    },
    {
      "cell_type": "code",
      "metadata": {
        "colab": {
          "base_uri": "https://localhost:8080/"
        },
        "id": "tbP72T5o_vL3",
        "outputId": "8595bc70-08b1-4642-f369-baf8a2a3de6e"
      },
      "source": [
        "feature_cols = list(df)\n",
        "feature_cols\n",
        "# check names of features"
      ],
      "execution_count": null,
      "outputs": [
        {
          "output_type": "execute_result",
          "data": {
            "text/plain": [
              "['Number of statements',\n",
              " 'No. of  iterations in outer',\n",
              " 'No. of  iterations in inner',\n",
              " 'No. of statements in outer ',\n",
              " 'No. of statements in inner',\n",
              " 'Number of loops',\n",
              " 'levels of nested loops',\n",
              " 'total  iterations ',\n",
              " '# of Complex Variables',\n",
              " 'CC*',\n",
              " 'function calls',\n",
              " 'branches ',\n",
              " 'SWPP',\n",
              " 'Number of inputs',\n",
              " 'Number of outputs',\n",
              " 'Sizes of input data (byte)',\n",
              " 'Sizes of output data (byte)',\n",
              " 'No. 0f iterations* statement inner',\n",
              " 'Repeating times',\n",
              " ' adjusted execution time']"
            ]
          },
          "metadata": {},
          "execution_count": 234
        }
      ]
    },
    {
      "cell_type": "code",
      "metadata": {
        "colab": {
          "base_uri": "https://localhost:8080/"
        },
        "id": "767m3hSi_-sK",
        "outputId": "b83cd7c8-96b4-43dc-e153-839664a4f4fd"
      },
      "source": [
        "len(feature_cols)\n",
        "# check total number of features"
      ],
      "execution_count": null,
      "outputs": [
        {
          "output_type": "execute_result",
          "data": {
            "text/plain": [
              "20"
            ]
          },
          "metadata": {},
          "execution_count": 235
        }
      ]
    },
    {
      "cell_type": "code",
      "metadata": {
        "colab": {
          "base_uri": "https://localhost:8080/"
        },
        "id": "lGnBY0nFADfo",
        "outputId": "a54dec64-ae79-4579-89f0-14dda0651ca5"
      },
      "source": [
        "features = df.values\n",
        "labels = target.values\n",
        "type(features), type(labels)\n",
        "# features and labels are pure data, all named are removed"
      ],
      "execution_count": null,
      "outputs": [
        {
          "output_type": "execute_result",
          "data": {
            "text/plain": [
              "(numpy.ndarray, numpy.ndarray)"
            ]
          },
          "metadata": {},
          "execution_count": 236
        }
      ]
    },
    {
      "cell_type": "code",
      "metadata": {
        "colab": {
          "base_uri": "https://localhost:8080/"
        },
        "id": "ioRh061XANom",
        "outputId": "3e5df616-faa4-4ed3-fe52-4bedc3ea9e2a"
      },
      "source": [
        "features = df.values\n",
        "labels = target.values\n",
        "print(features)\n",
        "print\n",
        "print(labels)\n",
        "# compare results with \"correct pure normalized data \" xlxs or csv file"
      ],
      "execution_count": null,
      "outputs": [
        {
          "output_type": "stream",
          "name": "stdout",
          "text": [
            "[[0.00000000e+00 1.21530000e-04 7.93650800e-03 9.67741940e-02\n",
            "  0.00000000e+00 0.00000000e+00 5.00000000e-01 3.74233000e-04\n",
            "  0.00000000e+00 6.45161290e-02 0.00000000e+00 0.00000000e+00\n",
            "  1.00000000e+00 1.00000000e-01 0.00000000e+00 0.00000000e+00\n",
            "  1.06515200e-03 3.84000000e-05 1.49149149e-01 7.60000000e+01]\n",
            " [0.00000000e+00 2.60421000e-04 8.47117794e-01 9.67741940e-02\n",
            "  0.00000000e+00 0.00000000e+00 5.00000000e-01 6.27669300e-02\n",
            "  0.00000000e+00 6.45161290e-02 0.00000000e+00 0.00000000e+00\n",
            "  1.00000000e+00 1.00000000e-01 0.00000000e+00 1.05175292e-01\n",
            "  2.48535400e-03 6.97083900e-03 1.00100100e-03 4.90000000e+01]\n",
            " [0.00000000e+00 5.38204000e-04 4.02673350e-01 9.67741940e-02\n",
            "  0.00000000e+00 0.00000000e+00 5.00000000e-01 5.98656620e-02\n",
            "  0.00000000e+00 6.45161290e-02 0.00000000e+00 0.00000000e+00\n",
            "  1.00000000e+00 1.00000000e-01 0.00000000e+00 5.05008350e-02\n",
            "  5.32575900e-03 6.64847800e-03 0.00000000e+00 0.00000000e+00]\n",
            " [4.93827160e-02 1.77607250e-02 1.67084400e-03 1.61290323e-01\n",
            "  2.08333330e-02 2.50000000e-01 1.00000000e+00 1.97417410e-02\n",
            "  0.00000000e+00 1.29032258e-01 0.00000000e+00 3.33333333e-01\n",
            "  1.00000000e+00 4.00000000e-01 0.00000000e+00 5.17529220e-02\n",
            "  9.05379020e-02 3.28769500e-03 0.00000000e+00 0.00000000e+00]\n",
            " [4.93827160e-02 1.77607250e-02 8.35422000e-04 1.61290323e-01\n",
            "  2.08333330e-02 2.50000000e-01 1.00000000e+00 1.57910780e-02\n",
            "  0.00000000e+00 1.29032258e-01 0.00000000e+00 3.33333333e-01\n",
            "  1.00000000e+00 4.00000000e-01 0.00000000e+00 5.17529220e-02\n",
            "  9.05379020e-02 2.62925600e-03 0.00000000e+00 0.00000000e+00]\n",
            " [4.93827160e-02 1.77607250e-02 0.00000000e+00 1.61290323e-01\n",
            "  2.08333330e-02 2.50000000e-01 1.00000000e+00 1.18404150e-02\n",
            "  0.00000000e+00 1.29032258e-01 0.00000000e+00 3.33333333e-01\n",
            "  1.00000000e+00 4.00000000e-01 0.00000000e+00 5.17529220e-02\n",
            "  9.05379020e-02 1.97081600e-03 0.00000000e+00 0.00000000e+00]\n",
            " [7.40740740e-02 1.37155200e-03 2.11361738e-01 1.29032258e-01\n",
            "  1.87500000e-01 0.00000000e+00 5.00000000e-01 7.90016860e-02\n",
            "  0.00000000e+00 1.93548387e-01 0.00000000e+00 1.00000000e+00\n",
            "  1.00000000e+00 5.00000000e-01 0.00000000e+00 2.50417360e-02\n",
            "  4.50914260e-02 4.82810390e-02 0.00000000e+00 0.00000000e+00]\n",
            " [7.40740740e-02 1.19793700e-03 1.42021720e-02 1.29032258e-01\n",
            "  1.87500000e-01 0.00000000e+00 5.00000000e-01 5.38972300e-03\n",
            "  0.00000000e+00 1.93548387e-01 0.00000000e+00 1.00000000e+00\n",
            "  1.00000000e+00 5.00000000e-01 0.00000000e+00 4.17362000e-04\n",
            "  3.19545500e-03 3.29626800e-03 0.00000000e+00 0.00000000e+00]\n",
            " [7.40740740e-02 2.23962200e-03 8.10359230e-02 1.29032258e-01\n",
            "  1.87500000e-01 0.00000000e+00 5.00000000e-01 5.01433270e-02\n",
            "  0.00000000e+00 1.93548387e-01 0.00000000e+00 1.00000000e+00\n",
            "  1.00000000e+00 5.00000000e-01 0.00000000e+00 8.76460800e-03\n",
            "  1.73974790e-02 3.06455000e-02 0.00000000e+00 0.00000000e+00]\n",
            " [1.04938272e-01 1.21530000e-04 2.91562239e-01 1.61290323e-01\n",
            "  2.50000000e-01 2.50000000e-01 1.00000000e+00 1.08488910e-02\n",
            "  0.00000000e+00 1.29032258e-01 0.00000000e+00 0.00000000e+00\n",
            "  0.00000000e+00 1.00000000e-01 5.00000000e-01 2.12020033e-01\n",
            "  9.76034085e-01 8.44246800e-03 1.00100100e-03 4.50000000e+01]\n",
            " [1.04938272e-01 1.21530000e-04 2.91562239e-01 1.61290323e-01\n",
            "  2.50000000e-01 2.50000000e-01 1.00000000e+00 1.08488910e-02\n",
            "  0.00000000e+00 1.29032258e-01 0.00000000e+00 0.00000000e+00\n",
            "  0.00000000e+00 1.00000000e-01 5.00000000e-01 2.61790484e-01\n",
            "  1.00000000e+00 8.44246800e-03 1.00100100e-03 4.50000000e+01]\n",
            " [1.04938272e-01 1.21530000e-04 2.91562239e-01 1.61290323e-01\n",
            "  2.50000000e-01 2.50000000e-01 1.00000000e+00 1.08488910e-02\n",
            "  0.00000000e+00 1.29032258e-01 0.00000000e+00 0.00000000e+00\n",
            "  0.00000000e+00 1.00000000e-01 5.00000000e-01 2.81823873e-01\n",
            "  6.29682230e-01 8.44246800e-03 1.00100100e-03 4.50000000e+01]\n",
            " [1.00000000e+00 7.11818000e-04 1.04427736e-01 2.90322581e-01\n",
            "  9.58333333e-01 2.50000000e-01 5.00000000e-01 2.07294070e-02\n",
            "  0.00000000e+00 5.16129032e-01 7.27272727e-01 1.00000000e+00\n",
            "  0.00000000e+00 0.00000000e+00 0.00000000e+00 1.23121870e-01\n",
            "  2.11965205e-01 5.53043900e-02 0.00000000e+00 0.00000000e+00]\n",
            " [1.00000000e+00 7.11818000e-04 1.04427736e-01 2.90322581e-01\n",
            "  9.58333333e-01 2.50000000e-01 5.00000000e-01 2.07294070e-02\n",
            "  0.00000000e+00 5.16129032e-01 7.27272727e-01 1.00000000e+00\n",
            "  0.00000000e+00 0.00000000e+00 0.00000000e+00 2.18384808e-01\n",
            "  3.74045802e-01 5.53043900e-02 0.00000000e+00 0.00000000e+00]\n",
            " [1.00000000e+00 7.11818000e-04 1.04427736e-01 2.90322581e-01\n",
            "  9.58333333e-01 2.50000000e-01 5.00000000e-01 2.07294070e-02\n",
            "  0.00000000e+00 5.16129032e-01 7.27272727e-01 1.00000000e+00\n",
            "  0.00000000e+00 0.00000000e+00 0.00000000e+00 2.10559265e-01\n",
            "  3.60731404e-01 5.53043900e-02 0.00000000e+00 0.00000000e+00]\n",
            " [1.00000000e+00 7.11818000e-04 1.04427736e-01 2.90322581e-01\n",
            "  9.58333333e-01 2.50000000e-01 5.00000000e-01 2.07294070e-02\n",
            "  0.00000000e+00 5.16129032e-01 7.27272727e-01 1.00000000e+00\n",
            "  0.00000000e+00 0.00000000e+00 0.00000000e+00 2.48226210e-01\n",
            "  4.24818037e-01 5.53043900e-02 0.00000000e+00 0.00000000e+00]\n",
            " [3.70370370e-02 2.93407900e-03 5.01253100e-03 2.58064516e-01\n",
            "  2.08333330e-02 0.00000000e+00 5.00000000e-01 5.89127200e-03\n",
            "  0.00000000e+00 6.45161290e-02 0.00000000e+00 0.00000000e+00\n",
            "  1.00000000e+00 3.00000000e-01 5.00000000e-01 7.38731220e-02\n",
            "  3.55051000e-04 9.79300000e-04 3.90390390e-02 1.25000000e+02]\n",
            " [6.79012350e-02 0.00000000e+00 0.00000000e+00 2.58064516e-01\n",
            "  1.04166667e-01 0.00000000e+00 0.00000000e+00 0.00000000e+00\n",
            "  0.00000000e+00 0.00000000e+00 0.00000000e+00 0.00000000e+00\n",
            "  0.00000000e+00 2.00000000e-01 0.00000000e+00 0.00000000e+00\n",
            "  0.00000000e+00 0.00000000e+00 1.00000000e+00 5.60000000e+01]\n",
            " [2.46913580e-02 2.77783000e-04 1.97994987e-01 9.67741940e-02\n",
            "  0.00000000e+00 0.00000000e+00 5.00000000e-01 1.57293490e-02\n",
            "  0.00000000e+00 9.67741940e-02 1.81818182e-01 0.00000000e+00\n",
            "  1.00000000e+00 4.00000000e-01 0.00000000e+00 6.32303840e-02\n",
            "  5.68081000e-03 1.74447800e-03 1.90190190e-02 1.51000000e+02]\n",
            " [1.60493827e-01 1.37155200e-03 1.42021720e-02 3.22580650e-02\n",
            "  8.33333330e-02 5.00000000e-01 5.00000000e-01 6.16133700e-03\n",
            "  0.00000000e+00 3.54838710e-01 9.09090910e-02 0.00000000e+00\n",
            "  1.00000000e+00 7.00000000e-01 0.00000000e+00 3.98580970e-02\n",
            "  6.00035510e-02 2.05312100e-03 3.00300300e-03 3.90000000e+01]\n",
            " [1.54320988e-01 1.99829860e-02 5.84795300e-03 4.51612903e-01\n",
            "  4.16666670e-02 1.00000000e+00 1.00000000e+00 4.44333850e-02\n",
            "  0.00000000e+00 1.00000000e+00 0.00000000e+00 1.00000000e+00\n",
            "  1.00000000e+00 1.00000000e+00 1.00000000e+00 3.00918197e-01\n",
            "  6.71045620e-02 9.87208700e-03 0.00000000e+00 0.00000000e+00]\n",
            " [1.79012346e-01 8.68000000e-05 1.17794486e-01 1.29032258e-01\n",
            "  1.66666667e-01 2.50000000e-01 1.00000000e+00 3.32179800e-03\n",
            "  0.00000000e+00 1.29032258e-01 0.00000000e+00 3.33333333e-01\n",
            "  0.00000000e+00 2.00000000e-01 0.00000000e+00 5.17529220e-02\n",
            "  4.50914260e-02 1.84735900e-03 2.40240240e-02 2.54000000e+02]\n",
            " [8.64197530e-02 0.00000000e+00 4.17710900e-03 2.90322581e-01\n",
            "  1.66666667e-01 0.00000000e+00 0.00000000e+00 1.93000000e-05\n",
            "  0.00000000e+00 1.61290323e-01 0.00000000e+00 6.66666667e-01\n",
            "  0.00000000e+00 8.00000000e-01 0.00000000e+00 3.59140234e-01\n",
            "  3.55051000e-04 1.26000000e-05 4.99499499e-01 1.21000000e+02]\n",
            " [2.46913580e-01 1.16321500e-03 6.43274850e-02 1.00000000e+00\n",
            "  0.00000000e+00 5.00000000e-01 1.00000000e+00 2.09763230e-02\n",
            "  0.00000000e+00 2.90322581e-01 0.00000000e+00 0.00000000e+00\n",
            "  1.00000000e+00 6.00000000e-01 1.00000000e+00 8.68113520e-02\n",
            "  1.06515200e-03 2.32747100e-03 0.00000000e+00 0.00000000e+00]\n",
            " [3.08641980e-02 0.00000000e+00 1.00000000e+00 0.00000000e+00\n",
            "  1.45833333e-01 2.50000000e-01 0.00000000e+00 4.61810900e-03\n",
            "  3.00000000e-01 6.45161290e-02 9.09090910e-02 0.00000000e+00\n",
            "  0.00000000e+00 4.00000000e-01 0.00000000e+00 1.00000000e+00\n",
            "  8.51766377e-01 2.31032400e-03 2.90290290e-02 2.04500000e+03]\n",
            " [8.02469140e-02 1.00000000e+00 2.50626600e-03 6.45161290e-02\n",
            "  3.33333333e-01 0.00000000e+00 5.00000000e-01 1.00000000e+00\n",
            "  1.00000000e-01 2.25806452e-01 1.81818182e-01 3.33333333e-01\n",
            "  0.00000000e+00 4.00000000e-01 0.00000000e+00 4.99165275e-01\n",
            "  8.51766377e-01 1.00000000e+00 0.00000000e+00 0.00000000e+00]\n",
            " [2.16049383e-01 1.56253000e-04 4.72013367e-01 5.48387097e-01\n",
            "  3.12500000e-01 0.00000000e+00 1.00000000e+00 2.19022600e-02\n",
            "  2.00000000e-01 1.29032258e-01 0.00000000e+00 0.00000000e+00\n",
            "  0.00000000e+00 2.00000000e-01 0.00000000e+00 2.48747913e-01\n",
            "  4.25705663e-01 2.06917510e-02 3.00300300e-03 3.33000000e+02]\n",
            " [3.08641980e-02 3.47000000e-05 2.48120301e-01 0.00000000e+00\n",
            "  8.33333330e-02 2.50000000e-01 0.00000000e+00 3.46068800e-03\n",
            "  2.00000000e-01 9.67741940e-02 0.00000000e+00 0.00000000e+00\n",
            "  1.00000000e+00 4.00000000e-01 0.00000000e+00 4.99165275e-01\n",
            "  8.51766377e-01 1.15291200e-03 0.00000000e+00 0.00000000e+00]\n",
            " [2.03703704e-01 1.56253000e-04 4.72013367e-01 5.48387097e-01\n",
            "  3.12500000e-01 0.00000000e+00 1.00000000e+00 2.19022600e-02\n",
            "  2.00000000e-01 1.29032258e-01 0.00000000e+00 0.00000000e+00\n",
            "  0.00000000e+00 2.00000000e-01 0.00000000e+00 2.48747913e-01\n",
            "  4.25705663e-01 2.06917510e-02 5.00500500e-03 5.50000000e+02]\n",
            " [1.48148148e-01 0.00000000e+00 1.00000000e+00 0.00000000e+00\n",
            "  5.62500000e-01 0.00000000e+00 0.00000000e+00 4.61810900e-03\n",
            "  1.00000000e+00 2.25806452e-01 6.36363636e-01 0.00000000e+00\n",
            "  0.00000000e+00 3.00000000e-01 0.00000000e+00 4.99165275e-01\n",
            "  8.51766377e-01 7.45438000e-03 4.10410410e-02 1.96690000e+04]\n",
            " [1.79012346e-01 1.74000000e-05 0.00000000e+00 1.61290323e-01\n",
            "  4.37500000e-01 2.50000000e-01 1.00000000e+00 1.16000000e-05\n",
            "  4.00000000e-01 3.22580645e-01 7.27272727e-01 0.00000000e+00\n",
            "  0.00000000e+00 2.00000000e-01 0.00000000e+00 1.16861440e-02\n",
            "  1.10065680e-02 2.51000000e-05 5.00500500e-03 4.00000000e+00]\n",
            " [3.39506173e-01 3.47000000e-05 0.00000000e+00 3.22580650e-02\n",
            "  1.00000000e+00 5.00000000e-01 0.00000000e+00 2.31000000e-05\n",
            "  8.00000000e-01 6.45161290e-01 1.00000000e+00 0.00000000e+00\n",
            "  0.00000000e+00 4.00000000e-01 0.00000000e+00 1.16861440e-02\n",
            "  1.10065680e-02 9.20000000e-05 1.68168168e-01 5.29000000e+02]\n",
            " [1.35802469e-01 3.47000000e-05 0.00000000e+00 3.22580650e-02\n",
            "  5.00000000e-01 0.00000000e+00 5.00000000e-01 2.31000000e-05\n",
            "  3.00000000e-01 2.25806452e-01 6.36363636e-01 0.00000000e+00\n",
            "  0.00000000e+00 3.00000000e-01 0.00000000e+00 1.16861440e-02\n",
            "  1.10065680e-02 4.57000000e-05 1.01101101e-01 1.59000000e+02]]\n",
            "[     509    49193    47297    42014    41501    40297   159448    20968\n",
            "   114856    45218    45218    45218   233467   233478   233483   233483\n",
            "     3197       56     7965    12857    45729    10565      243    21079\n",
            "    70431 10374917   110922     3423   109975   479246      702     3143\n",
            "     1569]\n"
          ]
        }
      ]
    },
    {
      "cell_type": "code",
      "metadata": {
        "id": "K3rirb6aB5uN"
      },
      "source": [
        "import numpy as np"
      ],
      "execution_count": null,
      "outputs": []
    },
    {
      "cell_type": "code",
      "metadata": {
        "id": "ZMwHGManA1ZO"
      },
      "source": [
        "X_train, X_test = np.vsplit(features,[25])\n",
        "# separate training set and testing set of features, the first 25 samples are for training"
      ],
      "execution_count": null,
      "outputs": []
    },
    {
      "cell_type": "code",
      "metadata": {
        "id": "bdUxuLlAEUKx"
      },
      "source": [
        "y_train, y_test = np.split(labels,[25])\n",
        "# separate training set and testing set of lables. Please notive case semsitive."
      ],
      "execution_count": null,
      "outputs": []
    },
    {
      "cell_type": "code",
      "metadata": {
        "colab": {
          "base_uri": "https://localhost:8080/"
        },
        "id": "OL48uJjhC-k1",
        "outputId": "01e860eb-5239-436f-933d-3d4099214587"
      },
      "source": [
        "br='\\n'\n",
        "print ('X_train:', end=' ')\n",
        "print (X_train, br)\n",
        "print ('X_test:', end=' ')\n",
        "print (X_test)\n",
        "# print training set and testing set of features, compare results with \"correct pure normalized data \" xlxs or csv file"
      ],
      "execution_count": null,
      "outputs": [
        {
          "output_type": "stream",
          "name": "stdout",
          "text": [
            "X_train: [[0.00000000e+00 1.21530000e-04 7.93650800e-03 9.67741940e-02\n",
            "  0.00000000e+00 0.00000000e+00 5.00000000e-01 3.74233000e-04\n",
            "  0.00000000e+00 6.45161290e-02 0.00000000e+00 0.00000000e+00\n",
            "  1.00000000e+00 1.00000000e-01 0.00000000e+00 0.00000000e+00\n",
            "  1.06515200e-03 3.84000000e-05 1.49149149e-01 7.60000000e+01]\n",
            " [0.00000000e+00 2.60421000e-04 8.47117794e-01 9.67741940e-02\n",
            "  0.00000000e+00 0.00000000e+00 5.00000000e-01 6.27669300e-02\n",
            "  0.00000000e+00 6.45161290e-02 0.00000000e+00 0.00000000e+00\n",
            "  1.00000000e+00 1.00000000e-01 0.00000000e+00 1.05175292e-01\n",
            "  2.48535400e-03 6.97083900e-03 1.00100100e-03 4.90000000e+01]\n",
            " [0.00000000e+00 5.38204000e-04 4.02673350e-01 9.67741940e-02\n",
            "  0.00000000e+00 0.00000000e+00 5.00000000e-01 5.98656620e-02\n",
            "  0.00000000e+00 6.45161290e-02 0.00000000e+00 0.00000000e+00\n",
            "  1.00000000e+00 1.00000000e-01 0.00000000e+00 5.05008350e-02\n",
            "  5.32575900e-03 6.64847800e-03 0.00000000e+00 0.00000000e+00]\n",
            " [4.93827160e-02 1.77607250e-02 1.67084400e-03 1.61290323e-01\n",
            "  2.08333330e-02 2.50000000e-01 1.00000000e+00 1.97417410e-02\n",
            "  0.00000000e+00 1.29032258e-01 0.00000000e+00 3.33333333e-01\n",
            "  1.00000000e+00 4.00000000e-01 0.00000000e+00 5.17529220e-02\n",
            "  9.05379020e-02 3.28769500e-03 0.00000000e+00 0.00000000e+00]\n",
            " [4.93827160e-02 1.77607250e-02 8.35422000e-04 1.61290323e-01\n",
            "  2.08333330e-02 2.50000000e-01 1.00000000e+00 1.57910780e-02\n",
            "  0.00000000e+00 1.29032258e-01 0.00000000e+00 3.33333333e-01\n",
            "  1.00000000e+00 4.00000000e-01 0.00000000e+00 5.17529220e-02\n",
            "  9.05379020e-02 2.62925600e-03 0.00000000e+00 0.00000000e+00]\n",
            " [4.93827160e-02 1.77607250e-02 0.00000000e+00 1.61290323e-01\n",
            "  2.08333330e-02 2.50000000e-01 1.00000000e+00 1.18404150e-02\n",
            "  0.00000000e+00 1.29032258e-01 0.00000000e+00 3.33333333e-01\n",
            "  1.00000000e+00 4.00000000e-01 0.00000000e+00 5.17529220e-02\n",
            "  9.05379020e-02 1.97081600e-03 0.00000000e+00 0.00000000e+00]\n",
            " [7.40740740e-02 1.37155200e-03 2.11361738e-01 1.29032258e-01\n",
            "  1.87500000e-01 0.00000000e+00 5.00000000e-01 7.90016860e-02\n",
            "  0.00000000e+00 1.93548387e-01 0.00000000e+00 1.00000000e+00\n",
            "  1.00000000e+00 5.00000000e-01 0.00000000e+00 2.50417360e-02\n",
            "  4.50914260e-02 4.82810390e-02 0.00000000e+00 0.00000000e+00]\n",
            " [7.40740740e-02 1.19793700e-03 1.42021720e-02 1.29032258e-01\n",
            "  1.87500000e-01 0.00000000e+00 5.00000000e-01 5.38972300e-03\n",
            "  0.00000000e+00 1.93548387e-01 0.00000000e+00 1.00000000e+00\n",
            "  1.00000000e+00 5.00000000e-01 0.00000000e+00 4.17362000e-04\n",
            "  3.19545500e-03 3.29626800e-03 0.00000000e+00 0.00000000e+00]\n",
            " [7.40740740e-02 2.23962200e-03 8.10359230e-02 1.29032258e-01\n",
            "  1.87500000e-01 0.00000000e+00 5.00000000e-01 5.01433270e-02\n",
            "  0.00000000e+00 1.93548387e-01 0.00000000e+00 1.00000000e+00\n",
            "  1.00000000e+00 5.00000000e-01 0.00000000e+00 8.76460800e-03\n",
            "  1.73974790e-02 3.06455000e-02 0.00000000e+00 0.00000000e+00]\n",
            " [1.04938272e-01 1.21530000e-04 2.91562239e-01 1.61290323e-01\n",
            "  2.50000000e-01 2.50000000e-01 1.00000000e+00 1.08488910e-02\n",
            "  0.00000000e+00 1.29032258e-01 0.00000000e+00 0.00000000e+00\n",
            "  0.00000000e+00 1.00000000e-01 5.00000000e-01 2.12020033e-01\n",
            "  9.76034085e-01 8.44246800e-03 1.00100100e-03 4.50000000e+01]\n",
            " [1.04938272e-01 1.21530000e-04 2.91562239e-01 1.61290323e-01\n",
            "  2.50000000e-01 2.50000000e-01 1.00000000e+00 1.08488910e-02\n",
            "  0.00000000e+00 1.29032258e-01 0.00000000e+00 0.00000000e+00\n",
            "  0.00000000e+00 1.00000000e-01 5.00000000e-01 2.61790484e-01\n",
            "  1.00000000e+00 8.44246800e-03 1.00100100e-03 4.50000000e+01]\n",
            " [1.04938272e-01 1.21530000e-04 2.91562239e-01 1.61290323e-01\n",
            "  2.50000000e-01 2.50000000e-01 1.00000000e+00 1.08488910e-02\n",
            "  0.00000000e+00 1.29032258e-01 0.00000000e+00 0.00000000e+00\n",
            "  0.00000000e+00 1.00000000e-01 5.00000000e-01 2.81823873e-01\n",
            "  6.29682230e-01 8.44246800e-03 1.00100100e-03 4.50000000e+01]\n",
            " [1.00000000e+00 7.11818000e-04 1.04427736e-01 2.90322581e-01\n",
            "  9.58333333e-01 2.50000000e-01 5.00000000e-01 2.07294070e-02\n",
            "  0.00000000e+00 5.16129032e-01 7.27272727e-01 1.00000000e+00\n",
            "  0.00000000e+00 0.00000000e+00 0.00000000e+00 1.23121870e-01\n",
            "  2.11965205e-01 5.53043900e-02 0.00000000e+00 0.00000000e+00]\n",
            " [1.00000000e+00 7.11818000e-04 1.04427736e-01 2.90322581e-01\n",
            "  9.58333333e-01 2.50000000e-01 5.00000000e-01 2.07294070e-02\n",
            "  0.00000000e+00 5.16129032e-01 7.27272727e-01 1.00000000e+00\n",
            "  0.00000000e+00 0.00000000e+00 0.00000000e+00 2.18384808e-01\n",
            "  3.74045802e-01 5.53043900e-02 0.00000000e+00 0.00000000e+00]\n",
            " [1.00000000e+00 7.11818000e-04 1.04427736e-01 2.90322581e-01\n",
            "  9.58333333e-01 2.50000000e-01 5.00000000e-01 2.07294070e-02\n",
            "  0.00000000e+00 5.16129032e-01 7.27272727e-01 1.00000000e+00\n",
            "  0.00000000e+00 0.00000000e+00 0.00000000e+00 2.10559265e-01\n",
            "  3.60731404e-01 5.53043900e-02 0.00000000e+00 0.00000000e+00]\n",
            " [1.00000000e+00 7.11818000e-04 1.04427736e-01 2.90322581e-01\n",
            "  9.58333333e-01 2.50000000e-01 5.00000000e-01 2.07294070e-02\n",
            "  0.00000000e+00 5.16129032e-01 7.27272727e-01 1.00000000e+00\n",
            "  0.00000000e+00 0.00000000e+00 0.00000000e+00 2.48226210e-01\n",
            "  4.24818037e-01 5.53043900e-02 0.00000000e+00 0.00000000e+00]\n",
            " [3.70370370e-02 2.93407900e-03 5.01253100e-03 2.58064516e-01\n",
            "  2.08333330e-02 0.00000000e+00 5.00000000e-01 5.89127200e-03\n",
            "  0.00000000e+00 6.45161290e-02 0.00000000e+00 0.00000000e+00\n",
            "  1.00000000e+00 3.00000000e-01 5.00000000e-01 7.38731220e-02\n",
            "  3.55051000e-04 9.79300000e-04 3.90390390e-02 1.25000000e+02]\n",
            " [6.79012350e-02 0.00000000e+00 0.00000000e+00 2.58064516e-01\n",
            "  1.04166667e-01 0.00000000e+00 0.00000000e+00 0.00000000e+00\n",
            "  0.00000000e+00 0.00000000e+00 0.00000000e+00 0.00000000e+00\n",
            "  0.00000000e+00 2.00000000e-01 0.00000000e+00 0.00000000e+00\n",
            "  0.00000000e+00 0.00000000e+00 1.00000000e+00 5.60000000e+01]\n",
            " [2.46913580e-02 2.77783000e-04 1.97994987e-01 9.67741940e-02\n",
            "  0.00000000e+00 0.00000000e+00 5.00000000e-01 1.57293490e-02\n",
            "  0.00000000e+00 9.67741940e-02 1.81818182e-01 0.00000000e+00\n",
            "  1.00000000e+00 4.00000000e-01 0.00000000e+00 6.32303840e-02\n",
            "  5.68081000e-03 1.74447800e-03 1.90190190e-02 1.51000000e+02]\n",
            " [1.60493827e-01 1.37155200e-03 1.42021720e-02 3.22580650e-02\n",
            "  8.33333330e-02 5.00000000e-01 5.00000000e-01 6.16133700e-03\n",
            "  0.00000000e+00 3.54838710e-01 9.09090910e-02 0.00000000e+00\n",
            "  1.00000000e+00 7.00000000e-01 0.00000000e+00 3.98580970e-02\n",
            "  6.00035510e-02 2.05312100e-03 3.00300300e-03 3.90000000e+01]\n",
            " [1.54320988e-01 1.99829860e-02 5.84795300e-03 4.51612903e-01\n",
            "  4.16666670e-02 1.00000000e+00 1.00000000e+00 4.44333850e-02\n",
            "  0.00000000e+00 1.00000000e+00 0.00000000e+00 1.00000000e+00\n",
            "  1.00000000e+00 1.00000000e+00 1.00000000e+00 3.00918197e-01\n",
            "  6.71045620e-02 9.87208700e-03 0.00000000e+00 0.00000000e+00]\n",
            " [1.79012346e-01 8.68000000e-05 1.17794486e-01 1.29032258e-01\n",
            "  1.66666667e-01 2.50000000e-01 1.00000000e+00 3.32179800e-03\n",
            "  0.00000000e+00 1.29032258e-01 0.00000000e+00 3.33333333e-01\n",
            "  0.00000000e+00 2.00000000e-01 0.00000000e+00 5.17529220e-02\n",
            "  4.50914260e-02 1.84735900e-03 2.40240240e-02 2.54000000e+02]\n",
            " [8.64197530e-02 0.00000000e+00 4.17710900e-03 2.90322581e-01\n",
            "  1.66666667e-01 0.00000000e+00 0.00000000e+00 1.93000000e-05\n",
            "  0.00000000e+00 1.61290323e-01 0.00000000e+00 6.66666667e-01\n",
            "  0.00000000e+00 8.00000000e-01 0.00000000e+00 3.59140234e-01\n",
            "  3.55051000e-04 1.26000000e-05 4.99499499e-01 1.21000000e+02]\n",
            " [2.46913580e-01 1.16321500e-03 6.43274850e-02 1.00000000e+00\n",
            "  0.00000000e+00 5.00000000e-01 1.00000000e+00 2.09763230e-02\n",
            "  0.00000000e+00 2.90322581e-01 0.00000000e+00 0.00000000e+00\n",
            "  1.00000000e+00 6.00000000e-01 1.00000000e+00 8.68113520e-02\n",
            "  1.06515200e-03 2.32747100e-03 0.00000000e+00 0.00000000e+00]\n",
            " [3.08641980e-02 0.00000000e+00 1.00000000e+00 0.00000000e+00\n",
            "  1.45833333e-01 2.50000000e-01 0.00000000e+00 4.61810900e-03\n",
            "  3.00000000e-01 6.45161290e-02 9.09090910e-02 0.00000000e+00\n",
            "  0.00000000e+00 4.00000000e-01 0.00000000e+00 1.00000000e+00\n",
            "  8.51766377e-01 2.31032400e-03 2.90290290e-02 2.04500000e+03]] \n",
            "\n",
            "X_test: [[8.02469140e-02 1.00000000e+00 2.50626600e-03 6.45161290e-02\n",
            "  3.33333333e-01 0.00000000e+00 5.00000000e-01 1.00000000e+00\n",
            "  1.00000000e-01 2.25806452e-01 1.81818182e-01 3.33333333e-01\n",
            "  0.00000000e+00 4.00000000e-01 0.00000000e+00 4.99165275e-01\n",
            "  8.51766377e-01 1.00000000e+00 0.00000000e+00 0.00000000e+00]\n",
            " [2.16049383e-01 1.56253000e-04 4.72013367e-01 5.48387097e-01\n",
            "  3.12500000e-01 0.00000000e+00 1.00000000e+00 2.19022600e-02\n",
            "  2.00000000e-01 1.29032258e-01 0.00000000e+00 0.00000000e+00\n",
            "  0.00000000e+00 2.00000000e-01 0.00000000e+00 2.48747913e-01\n",
            "  4.25705663e-01 2.06917510e-02 3.00300300e-03 3.33000000e+02]\n",
            " [3.08641980e-02 3.47000000e-05 2.48120301e-01 0.00000000e+00\n",
            "  8.33333330e-02 2.50000000e-01 0.00000000e+00 3.46068800e-03\n",
            "  2.00000000e-01 9.67741940e-02 0.00000000e+00 0.00000000e+00\n",
            "  1.00000000e+00 4.00000000e-01 0.00000000e+00 4.99165275e-01\n",
            "  8.51766377e-01 1.15291200e-03 0.00000000e+00 0.00000000e+00]\n",
            " [2.03703704e-01 1.56253000e-04 4.72013367e-01 5.48387097e-01\n",
            "  3.12500000e-01 0.00000000e+00 1.00000000e+00 2.19022600e-02\n",
            "  2.00000000e-01 1.29032258e-01 0.00000000e+00 0.00000000e+00\n",
            "  0.00000000e+00 2.00000000e-01 0.00000000e+00 2.48747913e-01\n",
            "  4.25705663e-01 2.06917510e-02 5.00500500e-03 5.50000000e+02]\n",
            " [1.48148148e-01 0.00000000e+00 1.00000000e+00 0.00000000e+00\n",
            "  5.62500000e-01 0.00000000e+00 0.00000000e+00 4.61810900e-03\n",
            "  1.00000000e+00 2.25806452e-01 6.36363636e-01 0.00000000e+00\n",
            "  0.00000000e+00 3.00000000e-01 0.00000000e+00 4.99165275e-01\n",
            "  8.51766377e-01 7.45438000e-03 4.10410410e-02 1.96690000e+04]\n",
            " [1.79012346e-01 1.74000000e-05 0.00000000e+00 1.61290323e-01\n",
            "  4.37500000e-01 2.50000000e-01 1.00000000e+00 1.16000000e-05\n",
            "  4.00000000e-01 3.22580645e-01 7.27272727e-01 0.00000000e+00\n",
            "  0.00000000e+00 2.00000000e-01 0.00000000e+00 1.16861440e-02\n",
            "  1.10065680e-02 2.51000000e-05 5.00500500e-03 4.00000000e+00]\n",
            " [3.39506173e-01 3.47000000e-05 0.00000000e+00 3.22580650e-02\n",
            "  1.00000000e+00 5.00000000e-01 0.00000000e+00 2.31000000e-05\n",
            "  8.00000000e-01 6.45161290e-01 1.00000000e+00 0.00000000e+00\n",
            "  0.00000000e+00 4.00000000e-01 0.00000000e+00 1.16861440e-02\n",
            "  1.10065680e-02 9.20000000e-05 1.68168168e-01 5.29000000e+02]\n",
            " [1.35802469e-01 3.47000000e-05 0.00000000e+00 3.22580650e-02\n",
            "  5.00000000e-01 0.00000000e+00 5.00000000e-01 2.31000000e-05\n",
            "  3.00000000e-01 2.25806452e-01 6.36363636e-01 0.00000000e+00\n",
            "  0.00000000e+00 3.00000000e-01 0.00000000e+00 1.16861440e-02\n",
            "  1.10065680e-02 4.57000000e-05 1.01101101e-01 1.59000000e+02]]\n"
          ]
        }
      ]
    },
    {
      "cell_type": "code",
      "metadata": {
        "id": "8JU3UBy8DY0Y",
        "colab": {
          "base_uri": "https://localhost:8080/"
        },
        "outputId": "b3391392-295d-4124-c720-923a65126c8b"
      },
      "source": [
        "br='\\n'\n",
        "print ('y_train:', end=' ')\n",
        "print (y_train, br)\n",
        "print ('y_test:', end=' ')\n",
        "print (y_test)\n",
        "# print training set and testing set of labels, compare results with \"correct pure normalized data \" xlxs or csv file"
      ],
      "execution_count": null,
      "outputs": [
        {
          "output_type": "stream",
          "name": "stdout",
          "text": [
            "y_train: [   509  49193  47297  42014  41501  40297 159448  20968 114856  45218\n",
            "  45218  45218 233467 233478 233483 233483   3197     56   7965  12857\n",
            "  45729  10565    243  21079  70431] \n",
            "\n",
            "y_test: [10374917   110922     3423   109975   479246      702     3143     1569]\n"
          ]
        }
      ]
    },
    {
      "cell_type": "code",
      "metadata": {
        "id": "Nb97BBMFFJJ2"
      },
      "source": [
        "import tensorflow as tf\n",
        "# scale feature data and create TensorFlow tensors\n",
        "from sklearn.preprocessing import StandardScaler\n",
        "scaler = StandardScaler()\n",
        "X_train_std = scaler.fit_transform(X_train)\n",
        "X_test_std = X_test\n",
        "train = tf.data.Dataset.from_tensor_slices( (X_train_std, y_train))\n",
        "test = tf.data.Dataset.from_tensor_slices( (X_test_std, y_test))\n",
        "# train and test are TF tensors of training and testing sets separately, each item contains feature and lable two components"
      ],
      "execution_count": null,
      "outputs": []
    },
    {
      "cell_type": "code",
      "metadata": {
        "colab": {
          "base_uri": "https://localhost:8080/"
        },
        "id": "Ns1mDp3LFdm6",
        "outputId": "32922d38-704d-4b9e-c8cd-456aa6e862a1"
      },
      "source": [
        "print ('train:', end=' ')\n",
        "print (train, br)\n",
        "print ('test:', end=' ')\n",
        "print (test)\n",
        "# can not show whole picture of train and test tensors."
      ],
      "execution_count": null,
      "outputs": [
        {
          "output_type": "stream",
          "name": "stdout",
          "text": [
            "train: <TensorSliceDataset shapes: ((20,), ()), types: (tf.float64, tf.int64)> \n",
            "\n",
            "test: <TensorSliceDataset shapes: ((20,), ()), types: (tf.float64, tf.int64)>\n"
          ]
        }
      ]
    },
    {
      "cell_type": "code",
      "metadata": {
        "colab": {
          "base_uri": "https://localhost:8080/"
        },
        "id": "bXdrtrfpFgf2",
        "outputId": "e01a3184-c6f5-486a-e40f-067c45444ba7"
      },
      "source": [
        "print ('X_train_std:', end=' ')\n",
        "print (X_train_std, br)\n",
        "print ('X_test_std:', end=' ')\n",
        "print (X_test_std)\n",
        "# this code is not necessary"
      ],
      "execution_count": null,
      "outputs": [
        {
          "output_type": "stream",
          "name": "stdout",
          "text": [
            "X_train_std: [[-6.63142364e-01 -5.22575809e-01 -6.52048673e-01 -6.16669838e-01\n",
            "  -7.28854966e-01 -8.94427191e-01 -3.69274473e-01 -9.74613468e-01\n",
            "  -2.04124145e-01 -7.51270800e-01 -4.96658036e-01 -9.04534034e-01\n",
            "   8.86405260e-01 -8.10953431e-01 -5.20755644e-01 -7.66300883e-01\n",
            "  -6.79399467e-01 -7.25073097e-01  3.65875142e-01 -1.15882341e-01]\n",
            " [-6.63142364e-01 -5.01228803e-01  2.70890623e+00 -6.16669838e-01\n",
            "  -7.28854966e-01 -8.94427191e-01 -3.69274473e-01  1.99355485e+00\n",
            "  -2.04124145e-01 -7.51270800e-01 -4.96658036e-01 -9.04534034e-01\n",
            "   8.86405260e-01 -8.10953431e-01 -5.20755644e-01 -2.46551133e-01\n",
            "  -6.74872251e-01 -3.85901364e-01 -3.24807524e-01 -1.83841143e-01]\n",
            " [-6.63142364e-01 -4.58534635e-01  9.28888304e-01 -6.16669838e-01\n",
            "  -7.28854966e-01 -8.94427191e-01 -3.69274473e-01  1.85553467e+00\n",
            "  -2.04124145e-01 -7.51270800e-01 -4.96658036e-01 -9.04534034e-01\n",
            "   8.86405260e-01 -8.10953431e-01 -5.20755644e-01 -5.16738502e-01\n",
            "  -6.65817816e-01 -4.01672976e-01 -3.29474299e-01 -3.07173782e-01]\n",
            " [-5.18824113e-01  2.18849990e+00 -6.77142910e-01 -2.74075483e-01\n",
            "  -6.64920321e-01  2.23606798e-01  1.16936916e+00 -5.32552562e-02\n",
            "  -2.04124145e-01 -4.60080568e-01 -4.96658036e-01 -1.50755673e-01\n",
            "   8.86405260e-01  3.15370779e-01 -5.20755644e-01 -5.10551004e-01\n",
            "  -3.94184791e-01 -5.66100329e-01 -3.29474299e-01 -3.07173782e-01]\n",
            " [-5.18824113e-01  2.18849990e+00 -6.80488809e-01 -2.74075483e-01\n",
            "  -6.64920321e-01  2.23606798e-01  1.16936916e+00 -2.41197649e-01\n",
            "  -2.04124145e-01 -4.60080568e-01 -4.96658036e-01 -1.50755673e-01\n",
            "   8.86405260e-01  3.15370779e-01 -5.20755644e-01 -5.10551004e-01\n",
            "  -3.94184791e-01 -5.98314661e-01 -3.29474299e-01 -3.07173782e-01]\n",
            " [-5.18824113e-01  2.18849990e+00 -6.83834708e-01 -2.74075483e-01\n",
            "  -6.64920321e-01  2.23606798e-01  1.16936916e+00 -4.29140042e-01\n",
            "  -2.04124145e-01 -4.60080568e-01 -4.96658036e-01 -1.50755673e-01\n",
            "   8.86405260e-01  3.15370779e-01 -5.20755644e-01 -5.10551004e-01\n",
            "  -3.94184791e-01 -6.30529043e-01 -3.29474299e-01 -3.07173782e-01]\n",
            " [-4.46664987e-01 -3.30452287e-01  1.62677580e-01 -4.45372663e-01\n",
            "  -1.53443151e-01 -8.94427191e-01 -3.69274473e-01  2.76588064e+00\n",
            "  -2.04124145e-01 -1.68890335e-01 -4.96658036e-01  1.35680105e+00\n",
            "   8.86405260e-01  6.90812182e-01 -5.20755644e-01 -6.42550944e-01\n",
            "  -5.39055737e-01  1.63521301e+00 -3.29474299e-01 -3.07173782e-01]\n",
            " [-4.46664987e-01 -3.57136237e-01 -6.26954436e-01 -4.45372663e-01\n",
            "  -1.53443151e-01 -8.94427191e-01 -3.69274473e-01 -7.36014733e-01\n",
            "  -2.04124145e-01 -1.68890335e-01 -4.96658036e-01  1.35680105e+00\n",
            "   8.86405260e-01  6.90812182e-01 -5.20755644e-01 -7.64238386e-01\n",
            "  -6.72608643e-01 -5.65680892e-01 -3.29474299e-01 -3.07173782e-01]\n",
            " [-4.46664987e-01 -1.97033302e-01 -3.59282567e-01 -4.45372663e-01\n",
            "  -1.53443151e-01 -8.94427191e-01 -3.69274473e-01  1.39302017e+00\n",
            "  -2.04124145e-01 -1.68890335e-01 -4.96658036e-01  1.35680105e+00\n",
            "   8.86405260e-01  6.90812182e-01 -5.20755644e-01 -7.22988403e-01\n",
            "  -6.27336472e-01  7.72388784e-01 -3.29474299e-01 -3.07173782e-01]\n",
            " [-3.56466079e-01 -5.22575809e-01  4.83883822e-01 -2.74075483e-01\n",
            "   3.83607880e-02  2.23606798e-01  1.16936916e+00 -4.76309186e-01\n",
            "  -2.04124145e-01 -4.60080568e-01 -4.96658036e-01 -9.04534034e-01\n",
            "  -1.12815215e+00 -8.10953431e-01  1.10660574e+00  2.81448613e-01\n",
            "   2.42853506e+00 -3.13901457e-01 -3.24807524e-01 -1.93909113e-01]\n",
            " [-3.56466079e-01 -5.22575809e-01  4.83883822e-01 -2.74075483e-01\n",
            "   3.83607880e-02  2.23606798e-01  1.16936916e+00 -4.76309186e-01\n",
            "  -2.04124145e-01 -4.60080568e-01 -4.96658036e-01 -9.04534034e-01\n",
            "  -1.12815215e+00 -8.10953431e-01  1.10660574e+00  5.27401622e-01\n",
            "   2.50493185e+00 -3.13901457e-01 -3.24807524e-01 -1.93909113e-01]\n",
            " [-3.56466079e-01 -5.22575809e-01  4.83883822e-01 -2.74075483e-01\n",
            "   3.83607880e-02  2.23606798e-01  1.16936916e+00 -4.76309186e-01\n",
            "  -2.04124145e-01 -4.60080568e-01 -4.96658036e-01 -9.04534034e-01\n",
            "  -1.12815215e+00 -8.10953431e-01  1.10660574e+00  6.26401574e-01\n",
            "   1.32445999e+00 -3.13901457e-01 -3.24807524e-01 -1.93909113e-01]\n",
            " [ 2.25930222e+00 -4.31850838e-01 -2.65597412e-01  4.11113227e-01\n",
            "   2.21213876e+00  2.23606798e-01 -3.69274473e-01 -6.26964606e-03\n",
            "  -2.04124145e-01  1.28706083e+00  2.26255327e+00  1.35680105e+00\n",
            "  -1.12815215e+00 -1.18639483e+00 -5.20755644e-01 -1.57863674e-01\n",
            "  -7.10773153e-03  1.97883264e+00 -3.29474299e-01 -3.07173782e-01]\n",
            " [ 2.25930222e+00 -4.31850838e-01 -2.65597412e-01  4.11113227e-01\n",
            "   2.21213876e+00  2.23606798e-01 -3.69274473e-01 -6.26964606e-03\n",
            "  -2.04124145e-01  1.28706083e+00  2.26255327e+00  1.35680105e+00\n",
            "  -1.12815215e+00 -1.18639483e+00 -5.20755644e-01  3.12901725e-01\n",
            "   5.09560919e-01  1.97883264e+00 -3.29474299e-01 -3.07173782e-01]\n",
            " [ 2.25930222e+00 -4.31850838e-01 -2.65597412e-01  4.11113227e-01\n",
            "   2.21213876e+00  2.23606798e-01 -3.69274473e-01 -6.26964606e-03\n",
            "  -2.04124145e-01  1.28706083e+00  2.26255327e+00  1.35680105e+00\n",
            "  -1.12815215e+00 -1.18639483e+00 -5.20755644e-01  2.74229866e-01\n",
            "   4.67118257e-01  1.97883264e+00 -3.29474299e-01 -3.07173782e-01]\n",
            " [ 2.25930222e+00 -4.31850838e-01 -2.65597412e-01  4.11113227e-01\n",
            "   2.21213876e+00  2.23606798e-01 -3.69274473e-01 -6.26964606e-03\n",
            "  -2.04124145e-01  1.28706083e+00  2.26255327e+00  1.35680105e+00\n",
            "  -1.12815215e+00 -1.18639483e+00 -5.20755644e-01  4.60370403e-01\n",
            "   6.71408930e-01  1.97883264e+00 -3.29474299e-01 -3.07173782e-01]\n",
            " [-5.54903675e-01 -9.02979603e-02 -6.63759319e-01  2.39816047e-01\n",
            "  -6.64920321e-01 -8.94427191e-01 -3.69274473e-01 -7.12154860e-01\n",
            "  -2.04124145e-01 -7.51270800e-01 -4.96658036e-01 -9.04534034e-01\n",
            "   8.86405260e-01 -6.00706245e-02  1.10660574e+00 -4.01238558e-01\n",
            "  -6.81663075e-01 -6.79039272e-01 -1.47470083e-01  7.45029822e-03]\n",
            " [-4.64704767e-01 -5.41254498e-01 -6.83834708e-01  2.39816047e-01\n",
            "  -4.09181734e-01 -8.94427191e-01 -1.90791811e+00 -9.92416618e-01\n",
            "  -2.04124145e-01 -1.04246103e+00 -4.96658036e-01 -9.04534034e-01\n",
            "  -1.12815215e+00 -4.35512028e-01 -5.20755644e-01 -7.66300883e-01\n",
            "  -6.82794880e-01 -7.26951828e-01  4.33263370e+00 -1.66222194e-01]\n",
            " [-5.90983238e-01 -4.98560331e-01  1.09143203e-01 -6.16669838e-01\n",
            "  -7.28854966e-01 -8.94427191e-01 -3.69274473e-01 -2.44134244e-01\n",
            "  -2.04124145e-01 -6.05675681e-01  1.93144793e-01 -9.04534034e-01\n",
            "   8.86405260e-01  3.15370779e-01 -5.20755644e-01 -4.53832283e-01\n",
            "  -6.64686011e-01 -6.41602700e-01 -2.40805578e-01  7.28921069e-02]\n",
            " [-1.94108048e-01 -3.30452287e-01 -6.26954436e-01 -9.59264193e-01\n",
            "  -4.73116383e-01  1.34164079e+00 -3.69274473e-01 -6.99307228e-01\n",
            "  -2.04124145e-01  5.59085248e-01 -1.51756622e-01 -9.04534034e-01\n",
            "   8.86405260e-01  1.44169499e+00 -5.20755644e-01 -5.69332227e-01\n",
            "  -4.91519957e-01 -6.26502245e-01 -3.15473974e-01 -2.09011069e-01]\n",
            " [-2.12147828e-01  2.53005278e+00 -6.60413420e-01  1.26759911e+00\n",
            "  -6.00985673e-01  3.57770876e+00  1.16936916e+00  1.12138471e+00\n",
            "  -2.04124145e-01  3.47098757e+00 -4.96658036e-01  1.35680105e+00\n",
            "   8.86405260e-01  2.56801920e+00  2.73396713e+00  7.20760905e-01\n",
            "  -4.68883875e-01 -2.43956904e-01 -3.29474299e-01 -3.07173782e-01]\n",
            " [-1.39988703e-01 -5.27913675e-01 -2.12063039e-01 -4.45372663e-01\n",
            "  -2.17377796e-01  2.23606798e-01  1.16936916e+00 -8.34390822e-01\n",
            "  -2.04124145e-01 -4.60080568e-01 -4.96658036e-01 -1.50755673e-01\n",
            "  -1.12815215e+00 -4.35512028e-01 -5.20755644e-01 -5.10551004e-01\n",
            "  -5.39055737e-01 -6.36569215e-01 -2.17471704e-01  3.32142349e-01]\n",
            " [-4.10585425e-01 -5.41254498e-01 -6.67105217e-01  4.11113227e-01\n",
            "  -2.17377796e-01 -8.94427191e-01 -1.90791811e+00 -9.91498471e-01\n",
            "  -2.04124145e-01 -3.14485449e-01 -4.96658036e-01  6.03022690e-01\n",
            "  -1.12815215e+00  1.81713639e+00 -5.20755644e-01  1.00847952e+00\n",
            "  -6.81663075e-01 -7.26335370e-01  1.99924631e+00 -2.61767235e-03]\n",
            " [ 5.84488907e-02 -3.62472874e-01 -4.26200535e-01  4.17965113e+00\n",
            "  -7.28854966e-01  1.34164079e+00  1.16936916e+00  5.47673267e-03\n",
            "  -2.04124145e-01  2.67895016e-01 -4.96658036e-01 -9.04534034e-01\n",
            "   8.86405260e-01  1.06625358e+00  2.73396713e+00 -3.37301090e-01\n",
            "  -6.79399467e-01 -6.13079586e-01 -3.29474299e-01 -3.07173782e-01]\n",
            " [-5.72943455e-01 -5.41254498e-01  3.32120564e+00 -1.13056137e+00\n",
            "  -2.81312444e-01  2.23606798e-01 -1.90791811e+00 -7.72722238e-01\n",
            "   4.89897949e+00 -7.51270800e-01 -1.51756622e-01 -9.04534034e-01\n",
            "  -1.12815215e+00  3.15370779e-01 -5.20755644e-01  4.17544675e+00\n",
            "   2.03240356e+00 -6.13918509e-01 -1.94137831e-01  4.84007617e+00]] \n",
            "\n",
            "X_test_std: [[8.02469140e-02 1.00000000e+00 2.50626600e-03 6.45161290e-02\n",
            "  3.33333333e-01 0.00000000e+00 5.00000000e-01 1.00000000e+00\n",
            "  1.00000000e-01 2.25806452e-01 1.81818182e-01 3.33333333e-01\n",
            "  0.00000000e+00 4.00000000e-01 0.00000000e+00 4.99165275e-01\n",
            "  8.51766377e-01 1.00000000e+00 0.00000000e+00 0.00000000e+00]\n",
            " [2.16049383e-01 1.56253000e-04 4.72013367e-01 5.48387097e-01\n",
            "  3.12500000e-01 0.00000000e+00 1.00000000e+00 2.19022600e-02\n",
            "  2.00000000e-01 1.29032258e-01 0.00000000e+00 0.00000000e+00\n",
            "  0.00000000e+00 2.00000000e-01 0.00000000e+00 2.48747913e-01\n",
            "  4.25705663e-01 2.06917510e-02 3.00300300e-03 3.33000000e+02]\n",
            " [3.08641980e-02 3.47000000e-05 2.48120301e-01 0.00000000e+00\n",
            "  8.33333330e-02 2.50000000e-01 0.00000000e+00 3.46068800e-03\n",
            "  2.00000000e-01 9.67741940e-02 0.00000000e+00 0.00000000e+00\n",
            "  1.00000000e+00 4.00000000e-01 0.00000000e+00 4.99165275e-01\n",
            "  8.51766377e-01 1.15291200e-03 0.00000000e+00 0.00000000e+00]\n",
            " [2.03703704e-01 1.56253000e-04 4.72013367e-01 5.48387097e-01\n",
            "  3.12500000e-01 0.00000000e+00 1.00000000e+00 2.19022600e-02\n",
            "  2.00000000e-01 1.29032258e-01 0.00000000e+00 0.00000000e+00\n",
            "  0.00000000e+00 2.00000000e-01 0.00000000e+00 2.48747913e-01\n",
            "  4.25705663e-01 2.06917510e-02 5.00500500e-03 5.50000000e+02]\n",
            " [1.48148148e-01 0.00000000e+00 1.00000000e+00 0.00000000e+00\n",
            "  5.62500000e-01 0.00000000e+00 0.00000000e+00 4.61810900e-03\n",
            "  1.00000000e+00 2.25806452e-01 6.36363636e-01 0.00000000e+00\n",
            "  0.00000000e+00 3.00000000e-01 0.00000000e+00 4.99165275e-01\n",
            "  8.51766377e-01 7.45438000e-03 4.10410410e-02 1.96690000e+04]\n",
            " [1.79012346e-01 1.74000000e-05 0.00000000e+00 1.61290323e-01\n",
            "  4.37500000e-01 2.50000000e-01 1.00000000e+00 1.16000000e-05\n",
            "  4.00000000e-01 3.22580645e-01 7.27272727e-01 0.00000000e+00\n",
            "  0.00000000e+00 2.00000000e-01 0.00000000e+00 1.16861440e-02\n",
            "  1.10065680e-02 2.51000000e-05 5.00500500e-03 4.00000000e+00]\n",
            " [3.39506173e-01 3.47000000e-05 0.00000000e+00 3.22580650e-02\n",
            "  1.00000000e+00 5.00000000e-01 0.00000000e+00 2.31000000e-05\n",
            "  8.00000000e-01 6.45161290e-01 1.00000000e+00 0.00000000e+00\n",
            "  0.00000000e+00 4.00000000e-01 0.00000000e+00 1.16861440e-02\n",
            "  1.10065680e-02 9.20000000e-05 1.68168168e-01 5.29000000e+02]\n",
            " [1.35802469e-01 3.47000000e-05 0.00000000e+00 3.22580650e-02\n",
            "  5.00000000e-01 0.00000000e+00 5.00000000e-01 2.31000000e-05\n",
            "  3.00000000e-01 2.25806452e-01 6.36363636e-01 0.00000000e+00\n",
            "  0.00000000e+00 3.00000000e-01 0.00000000e+00 1.16861440e-02\n",
            "  1.10065680e-02 4.57000000e-05 1.01101101e-01 1.59000000e+02]]\n"
          ]
        }
      ]
    },
    {
      "cell_type": "code",
      "metadata": {
        "colab": {
          "base_uri": "https://localhost:8080/"
        },
        "id": "h1ycjxAGFwx6",
        "outputId": "3a9e01ee-3894-4098-ec4d-c9d94bf27552"
      },
      "source": [
        "def see_samples(data, num):\n",
        "  for feat, targ in data.take(num):\n",
        "    print ('Features: {}'.format(feat), br)\n",
        "    print ('Target: {}'.format(targ))\n",
        "n = 5\n",
        "see_samples(train, n)\n",
        "# using this code can show the first five tensors of training set"
      ],
      "execution_count": null,
      "outputs": [
        {
          "output_type": "stream",
          "name": "stdout",
          "text": [
            "Features: [-0.66314236 -0.52257581 -0.65204867 -0.61666984 -0.72885497 -0.89442719\n",
            " -0.36927447 -0.97461347 -0.20412415 -0.7512708  -0.49665804 -0.90453403\n",
            "  0.88640526 -0.81095343 -0.52075564 -0.76630088 -0.67939947 -0.7250731\n",
            "  0.36587514 -0.11588234] \n",
            "\n",
            "Target: 509\n",
            "Features: [-0.66314236 -0.5012288   2.70890623 -0.61666984 -0.72885497 -0.89442719\n",
            " -0.36927447  1.99355485 -0.20412415 -0.7512708  -0.49665804 -0.90453403\n",
            "  0.88640526 -0.81095343 -0.52075564 -0.24655113 -0.67487225 -0.38590136\n",
            " -0.32480752 -0.18384114] \n",
            "\n",
            "Target: 49193\n",
            "Features: [-0.66314236 -0.45853464  0.9288883  -0.61666984 -0.72885497 -0.89442719\n",
            " -0.36927447  1.85553467 -0.20412415 -0.7512708  -0.49665804 -0.90453403\n",
            "  0.88640526 -0.81095343 -0.52075564 -0.5167385  -0.66581782 -0.40167298\n",
            " -0.3294743  -0.30717378] \n",
            "\n",
            "Target: 47297\n",
            "Features: [-0.51882411  2.1884999  -0.67714291 -0.27407548 -0.66492032  0.2236068\n",
            "  1.16936916 -0.05325526 -0.20412415 -0.46008057 -0.49665804 -0.15075567\n",
            "  0.88640526  0.31537078 -0.52075564 -0.510551   -0.39418479 -0.56610033\n",
            " -0.3294743  -0.30717378] \n",
            "\n",
            "Target: 42014\n",
            "Features: [-0.51882411  2.1884999  -0.68048881 -0.27407548 -0.66492032  0.2236068\n",
            "  1.16936916 -0.24119765 -0.20412415 -0.46008057 -0.49665804 -0.15075567\n",
            "  0.88640526  0.31537078 -0.52075564 -0.510551   -0.39418479 -0.59831466\n",
            " -0.3294743  -0.30717378] \n",
            "\n",
            "Target: 41501\n"
          ]
        }
      ]
    },
    {
      "cell_type": "code",
      "metadata": {
        "id": "DXShDCoYG3CB"
      },
      "source": [
        "BATCH_SIZE, SHUFFLE_BUFFER_SIZE  = 10, 10\n",
        "train_bs = train.shuffle(\n",
        "    SHUFFLE_BUFFER_SIZE).batch(BATCH_SIZE).prefetch(1)\n",
        "test_bs = test.batch(BATCH_SIZE).prefetch(1)\n",
        "\n",
        "# this code is necessary even our small data set does not need batch and shuffle\n",
        "\n"
      ],
      "execution_count": null,
      "outputs": []
    },
    {
      "cell_type": "code",
      "metadata": {
        "colab": {
          "base_uri": "https://localhost:8080/"
        },
        "id": "jX-gasZcHZCs",
        "outputId": "55c232ce-4a4a-4064-d2b3-832166a16cd5"
      },
      "source": [
        "train_bs, test_bs\n",
        "# train_bs and test_bs will be used in training model and validating later, please make sure the results must be correct."
      ],
      "execution_count": null,
      "outputs": [
        {
          "output_type": "execute_result",
          "data": {
            "text/plain": [
              "(<PrefetchDataset shapes: ((None, 20), (None,)), types: (tf.float64, tf.int64)>,\n",
              " <PrefetchDataset shapes: ((None, 20), (None,)), types: (tf.float64, tf.int64)>)"
            ]
          },
          "metadata": {},
          "execution_count": 248
        }
      ]
    },
    {
      "cell_type": "code",
      "metadata": {
        "id": "qTXeeFr7ctSy"
      },
      "source": [
        "import matplotlib.pyplot as plt\n",
        "def plot_history(history, limit1, limit2):\n",
        " \n",
        "  hist = pd.DataFrame(history.history)\n",
        "  hist['epoch'] = history.epoch\n",
        "  plt.figure()\n",
        "  plt.xlabel('epoch')\n",
        "  plt.ylabel('MAPE [MPG]')\n",
        "  plt.plot(hist['epoch'], hist['mean_absolute_percentage_error'],    label='Train Error')\n",
        "  plt.plot(hist['epoch'], hist['val_mean_absolute_percentage_error'],    label = 'Val Error')\n",
        "  plt.ylim([0, limit1])\n",
        "  plt.legend()\n",
        "  plt.title('MAPE by Epoch')\n",
        "  plt.savefig(\"abc.png\")\n",
        "  plt.show()\n",
        "  return plt\n",
        "\n",
        "  \n",
        "  \n",
        "# set limits to make plot readable\n",
        "mean_absolute_percentage_error_limit, mae_limit = 200,200\n",
        "#plot_history(history, mean_absolute_percentage_error_limit, mae_limit)\n",
        "\n",
        "# change limit value can change the scale of vertical axis"
      ],
      "execution_count": null,
      "outputs": []
    },
    {
      "cell_type": "code",
      "metadata": {
        "id": "leu4UVcor8wO"
      },
      "source": [
        "test_n=test_bs\n"
      ],
      "execution_count": null,
      "outputs": []
    },
    {
      "cell_type": "code",
      "metadata": {
        "id": "sph3-cAkYfQB"
      },
      "source": [
        "\"\"\"\n",
        "NEW REFACTORED CODE\n",
        "\"\"\""
      ],
      "execution_count": null,
      "outputs": []
    },
    {
      "cell_type": "code",
      "metadata": {
        "id": "-KMq3LMTsGE3"
      },
      "source": [
        "class ModelPredictor:\n",
        "  def __init__ (self, y_test, inputSample,model):\n",
        "    self.__inputSample = test_n\n",
        "    self.__model = model\n",
        "  def predict(self):\n",
        "    #Tensorflow recommends __call__ to be used for \"smaller\" batch sizes\n",
        "    return self.__model.predict(self.__inputSample)"
      ],
      "execution_count": null,
      "outputs": []
    },
    {
      "cell_type": "code",
      "metadata": {
        "id": "c-47rl7SuEUw"
      },
      "source": [
        "class PredictorResultsView:\n",
        "  def __init__(self, testingSetLabels, predictions):\n",
        "    self.__eight = predictions[:8]\n",
        "    self.__actuals = testingSetLabels[:8]\n",
        "  def showPredictions(self):\n",
        "    eight = self.__eight\n",
        "    actuals = self.__actuals \n",
        "    eight = predictions[:8]\n",
        "    actuals = testingSetLabels[:8]\n",
        "    print ('pred', 'actual')\n",
        "    for i, p in enumerate(range(8)):\n",
        "      print (np.round(eight[i][0],1), actuals[i])\n",
        "\n"
      ],
      "execution_count": null,
      "outputs": []
    },
    {
      "cell_type": "code",
      "metadata": {
        "id": "9dsq-i0Sd3Nz"
      },
      "source": [
        "#predictions = model.predict(test_n)"
      ],
      "execution_count": null,
      "outputs": []
    },
    {
      "cell_type": "code",
      "metadata": {
        "id": "ul9ED8QeeE7T"
      },
      "source": [
        "\n",
        "# show prediction results of all testing set"
      ],
      "execution_count": null,
      "outputs": []
    },
    {
      "cell_type": "code",
      "metadata": {
        "id": "YG4swMX4AzF4"
      },
      "source": [
        "#libraries used\n",
        "import tensorflow as tf\n",
        "from tensorflow.keras.models import Sequential\n",
        "from tensorflow.keras.layers import Dense, Flatten\n",
        "import numpy as np\n",
        "import matplotlib.pyplot as plt\n",
        "\n",
        "import unittest #for testing"
      ],
      "execution_count": null,
      "outputs": []
    },
    {
      "cell_type": "code",
      "metadata": {
        "id": "vz_spYuaBia2"
      },
      "source": [
        "optimizerArr = np.array([\n",
        "'SGD',\n",
        "'RMSprop',\n",
        "'Adam',\n",
        "'Adadelta',\n",
        "'Adagrad',\n",
        "'Adamax',\n",
        "'Nadam'\n",
        ",'Ftrl'\n",
        "])"
      ],
      "execution_count": null,
      "outputs": []
    },
    {
      "cell_type": "code",
      "metadata": {
        "id": "qQTzs4yI5EPw"
      },
      "source": [
        "activationFunctionArr = np.array([\n",
        "'Relu'\n",
        ",\n",
        "'Sigmoid'\n",
        ",\n",
        "'Softmax'\n",
        ",\n",
        "'Softplus'\n",
        ",\n",
        "'Tanh'\n",
        ",\n",
        "'Selu'\n",
        ",\n",
        "'Elu'\n",
        ",\n",
        "'Exponential'                \n",
        "])"
      ],
      "execution_count": null,
      "outputs": []
    },
    {
      "cell_type": "code",
      "metadata": {
        "id": "QyxL6ZOS6B_8"
      },
      "source": [
        "iterationsToSkipSet = set((\n",
        "    \"\"\"\n",
        "    FORMAT:\n",
        "    (activationName, Optmizer),\n",
        "    \"\"\"\n",
        "))"
      ],
      "execution_count": null,
      "outputs": []
    },
    {
      "cell_type": "code",
      "metadata": {
        "id": "IN0f2oxS-0pw"
      },
      "source": [
        "activationFunctionsToSkipSet = set(\n",
        "\n",
        " \"\"\"\n",
        " FORMAT:\n",
        " 'NameOfFunc',\n",
        " \"\"\"   \n",
        " \n",
        ")"
      ],
      "execution_count": null,
      "outputs": []
    },
    {
      "cell_type": "code",
      "metadata": {
        "id": "tMrxOB_U6ilY"
      },
      "source": [
        "def compile(optimizer, metricVal):\n",
        "  try:\n",
        "        model.compile(\n",
        "        optimizer=optimizer,\n",
        "        loss='mape', metrics=[mape, 'mae'])\n",
        "        return True\n",
        "  except Exception as e:\n",
        "    print(\"ERROR: \")\n",
        "    print(e)\n",
        "    return False\n"
      ],
      "execution_count": null,
      "outputs": []
    },
    {
      "cell_type": "code",
      "metadata": {
        "id": "JqZB30znbRQl"
      },
      "source": [
        ""
      ],
      "execution_count": null,
      "outputs": []
    },
    {
      "cell_type": "code",
      "metadata": {
        "id": "Rk3Oa98dJOoQ"
      },
      "source": [
        "import tensorflow as tf\n",
        "from tensorflow.keras.models import Sequential\n",
        "from tensorflow.keras.layers import Dense, Flatten\n",
        "import numpy as np\n",
        "\n",
        "rmse = tf.keras.metrics.RootMeanSquaredError()\n",
        "\n",
        "mape = tf.keras.losses.MeanAbsolutePercentageError()\n",
        "\n",
        "class ModelMaker:\n",
        "  def __init__ (self, neuronCnt=64, activationFunction = \"relu\", optimizer = \"RMSprop\", metrics = [mape, 'mae'], comiplationDone = False, seedOfExecutionResult = 0, inputShape=[0,20]):\n",
        "    self.__neuronCnt = neuronCnt\n",
        "    self.__compilationDone = False\n",
        "    self.__activationFunction = activationFunction\n",
        "    self.__seedOfExecutionResult =  seedOfExecutionResult\n",
        "    self.__optimizer = optimizer\n",
        "    self.__metrics = metrics\n",
        "    self.__model = None\n",
        "    self.__inputShape=shape\n",
        "\n",
        "\n",
        "  def makeNewModel(self):\n",
        "\n",
        "    # clear any previous model\n",
        "    self.__clearAllModels()\n",
        "    # generate a seed for replication purposes\n",
        "    self.__generateSeedForModel()\n",
        "\n",
        "\n",
        "    # notice input shape accommodates 18 features!\n",
        "    self.__model = Sequential([\n",
        "      Dense(self.__neuronCnt, activation=self.__activationFunction, input_shape=self.__inputShape),#was 18\n",
        "      Dense(self.__neuronCnt, activation=self.__activationFunction),\n",
        "      Dense(1)\n",
        "    ])\n",
        "\n",
        "    self.__compile()\n",
        "    return self.__model\n",
        "  \n",
        "  def __clearAllModels(self):\n",
        "    tf.keras.backend.clear_session()\n",
        "  \n",
        "  def __generateSeedForModel(self):\n",
        "    np.random.seed(self.__seedOfExecutionResult)\n",
        "    tf.random.set_seed(self.__seedOfExecutionResult)\n",
        "  \n",
        "  \n",
        "  def set_activationFunction (self, activationFunction = \"relu\"):\n",
        "    self.activationFunction = activationFunction\n",
        "\n",
        "  def set_seedOfExecutionResult (self, seedNum = 0):\n",
        "    self._seedOfExecutionResult = seedNum \n",
        "\n",
        "  def set_optimizer(self, optimizer):\n",
        "    self.__optimizer = optimizer\n",
        "  \n",
        "  def __compile(self):\n",
        "      try:\n",
        "\n",
        "        self.__model.compile(\n",
        "        optimizer=self.__optimizer,\n",
        "        loss='mape', metrics = self.__metrics)\n",
        "\n",
        "        self.__compilationDone = True\n",
        "\n",
        "      except ValueError as e:\n",
        "        print(\"Value Error: A value was inputted in the compile method that isn't compatible for it's use in the method body. Most likely the optimizer wasn't compatible. The Run will continue\")\n",
        "        print(\"FULL ERROR BELOW\")\n",
        "        print(e)\n",
        "\n",
        "        self.__compilationDone = False\n",
        "  \n",
        "  def __isCompiled(self):\n",
        "    return self.__compilationDone\n",
        "\n",
        "  def get_model(self):\n",
        "    return self.__model\n",
        "    \n"
      ],
      "execution_count": null,
      "outputs": []
    },
    {
      "cell_type": "code",
      "metadata": {
        "id": "LFW6F_Yuj69P"
      },
      "source": [
        "class ModelTrainer:\n",
        "  def __init__(self, model, validationData, trainingData, epochs = 1 ):\n",
        "    self.__model = model\n",
        "    self.__epochs = epochs\n",
        "    self.__validationData = validationData\n",
        "    self.__trainingData = trainingData\n",
        "  def train(self):\n",
        "    history = self.__model.fit(self.__trainingData, epochs=self.__epochs,\n",
        "                    validation_data=self.__validationData)\n",
        "    return history\n",
        "  \n",
        "  def set_model(self, model):\n",
        "    self.__model = model\n"
      ],
      "execution_count": null,
      "outputs": []
    },
    {
      "cell_type": "code",
      "metadata": {
        "id": "5mL9lNn5DGrx"
      },
      "source": [
        "class HistoryCollectorOfModelCombinations:\n",
        "  def __init__(self, modelMakerObj, modelTrainerObj):\n",
        "    self.__optimizerArr = np.array([\n",
        "'SGD',\n",
        "'RMSprop',\n",
        "'Adam',\n",
        "'Adadelta',\n",
        "'Adagrad',\n",
        "'Adamax',\n",
        "'Nadam'\n",
        ",'Ftrl'\n",
        "])\n",
        "    \n",
        "    self.__activationFunctionArr = np.array([\n",
        "'Relu'\n",
        ",\n",
        "'Sigmoid'\n",
        ",\n",
        "'Softmax'\n",
        ",\n",
        "'Softplus'\n",
        ",\n",
        "'Tanh'\n",
        ",\n",
        "'Selu'\n",
        ",\n",
        "'Elu'\n",
        ",\n",
        "'Exponential'                \n",
        "])\n",
        "\n",
        "    self.__iterationsToSkipSet = set((\n",
        "        \"\"\"\n",
        "        FORMAT:\n",
        "        (activationName, Optmizer),\n",
        "        \"\"\"\n",
        "    ))\n",
        "\n",
        "    self.__activationFunctionsToSkipSet = set(\n",
        "\n",
        "    \"\"\"\n",
        "    FORMAT:\n",
        "    'NameOfFunc',\n",
        "    \"\"\"   \n",
        "    \n",
        "  )\n",
        "    self.__modelTrainer = modelTrainerObj\n",
        "    self.__modelMaker = modelMakerObj\n",
        "\n",
        "  def collectHistories(self):\n",
        "    self.__preprocessStep()\n",
        "\n",
        "    histories = []\n",
        "    for activationFunction in activationFunctionArr:\n",
        "      if(activationFunction in activationFunctionsToSkipSet):\n",
        "            continue\n",
        "      for optimizer in optimizerArr:\n",
        "        activationFunctionToOptimizerTuple = (activationFunction, optimizer)\n",
        "\n",
        "        if(activationFunctionToOptimizerTuple in iterationsToSkipSet):\n",
        "          continue\n",
        "        histories.append(self.__makeHistory(activationFunction,optimizer))\n",
        "      \n",
        "      return histories\n",
        "\n",
        "  def __makeHistory(self, activationFunction, optimizer):\n",
        "    self.__modelMaker.set_activationFunction(activationFunction)\n",
        "    self.__modelMaker.set_optimizer(optimizer)\n",
        "\n",
        "    model = self.__modelMaker.makeNewModel()\n",
        "    \n",
        "    self.__modelTrainer.set_model(model)\n",
        "\n",
        "    history = self.__modelTrainer.train()\n",
        "\n",
        "    return history\n",
        "\n",
        "    \n",
        "\n",
        "  def __preprocessStep(self):\n",
        "    self.__activationFunctionArr = np.char.lower(activationFunctionArr)\n"
      ],
      "execution_count": null,
      "outputs": []
    },
    {
      "cell_type": "code",
      "metadata": {
        "id": "iV0s6dMDFZNY"
      },
      "source": [
        "import matplotlib.pyplot as plt\n",
        "\n",
        "class HistoryPlotter:\n",
        "  def __init__ (self, history=None, limit1=mean_absolute_percentage_error_limit, limit2=mae_limit):\n",
        "    self.__plt = plt\n",
        "    self.__limit1 = limit1\n",
        "    self.__limit2 = limit2 #NOT USED BUT PRESENT IN ORIGINAL (2021/11/3)\n",
        "    self.__history = history\n",
        "  def makePlot(self):\n",
        "    plt = self.__plt \n",
        "    history = self.__history\n",
        "    limit1 = self.__limit1\n",
        "\n",
        "    hist = pd.DataFrame(history.history)\n",
        "    hist['epoch'] = history.epoch\n",
        "    plt.figure()\n",
        "    plt.xlabel('epoch')\n",
        "    plt.ylabel('MAPE [MPG]')\n",
        "    plt.plot(hist['epoch'], hist['mean_absolute_percentage_error'],    label='Train Error')\n",
        "    plt.plot(hist['epoch'], hist['val_mean_absolute_percentage_error'],    label = 'Val Error')\n",
        "    plt.ylim([0, limit1])\n",
        "    plt.legend()\n",
        "    plt.title('MAPE by Epoch')\n",
        "    \n",
        "    self.__plt = plt\n",
        "\n",
        "  def showPlot(self):\n",
        "    self.__plt.show()\n",
        "\n",
        "  def savePlot(self, strFileName):\n",
        "    self.__plt.savefig(strFileName)    \n",
        "\n",
        "  def set_history(self, history):\n",
        "    self.__history = history\n",
        "  \n",
        "\n",
        "\n",
        "\n"
      ],
      "execution_count": null,
      "outputs": []
    },
    {
      "cell_type": "code",
      "metadata": {
        "id": "gcheS1pYcW3x"
      },
      "source": [
        "\n",
        "class TestSameHistoryDifferentSessions(unittest.TestCase):\n",
        "  def __init__ (self):\n",
        "    self.__epochs = 5\n",
        "    self.__expectedHistory = self.__getHistoryFromGivenCode()\n",
        "    self.__experimentHistory = self.__getHistoryFromGivenCode()\n",
        "\n",
        "\n",
        "  # code doesn't work\n",
        "  def __getHistoryFromGivenCode(self):\n",
        "    import tensorflow as tf\n",
        "    from tensorflow.keras.models import Sequential\n",
        "    from tensorflow.keras.layers import Dense, Flatten\n",
        "    import numpy as np\n",
        "\n",
        "    # clear any previous model\n",
        "    tf.keras.backend.clear_session()\n",
        "\n",
        "    # generate a seed for replication purposes\n",
        "    np.random.seed(0)\n",
        "    tf.random.set_seed(0)\n",
        "\n",
        "    # notice input shape accommodates 18 features!\n",
        "    model = Sequential([\n",
        "      Dense(64, activation='relu', input_shape=[20,]),#shape was 18\n",
        "      Dense(64, activation='relu'),\n",
        "      Dense(1)\n",
        "    ])\n",
        "    # create a model with one input layer, one hidden layer, and on outpur layer. Both input and hidden layers have 64 neuros. Activation using Relu.\n",
        "    rmse = tf.keras.metrics.RootMeanSquaredError()\n",
        "\n",
        "    mape = tf.keras.losses.MeanAbsolutePercentageError()\n",
        "\n",
        "\n",
        "\n",
        "    model.compile(\n",
        "        optimizer='RMSProp',\n",
        "        loss='mape', metrics=[mape, 'mae'])\n",
        "    \n",
        "    #given by above code\n",
        "    history = model.fit(train_bs, epochs = self.__epochs,\n",
        "                    validation_data=test_bs)\n",
        "    # epoch ( iteration of training) can start from 50\n",
        "    # about 10 ms for each epoch, keep watching the loss value (for training set) and val_loss value ( for testing set)\n",
        "\n",
        "    tf.keras.backend.clear_session()\n",
        "\n",
        "    return history\n",
        "      \n",
        "  def isEqual(self):\n",
        "    #NOTE: Equality may be too exact. I need to understand how much variance of \"loss\" values is expected between two different model runs. The model run seems to be dependent on library imports (the objects)\n",
        "    # because that removed the \"continuation\" pattern. As of 2021/11/4, the result is False although some values from the histories overlap\n",
        "    return (self.__expectedHistory == self.__experimentHistory)\n",
        "  def test(self):\n",
        "    self.assertEqual(self.__experimentHistory, self.__expectedHistory)\n",
        "    #Should pause program if fails"
      ],
      "execution_count": null,
      "outputs": []
    },
    {
      "cell_type": "code",
      "metadata": {
        "id": "RHqjTvwScvHn"
      },
      "source": [
        "def runUnitTests():\n",
        "  Tobj = TestSameHistoryDifferentSessions()\n",
        "  print(Tobj.isEqual())"
      ],
      "execution_count": null,
      "outputs": []
    },
    {
      "cell_type": "code",
      "metadata": {
        "id": "Kju3zvz725tQ"
      },
      "source": [
        "import unittest\n",
        "\n",
        "class TestHistoryFromGivenCode(unittest.TestCase):\n",
        "  def __init__ (self):\n",
        "    self.__epochs = 5\n",
        "    self.__expectedHistory = self.__getHistoryFromGivenCode()\n",
        "    self.__experimentHistory = self.__getHistoryFromRefactoredCode()\n",
        "\n",
        "\n",
        "  # code doesn't work\n",
        "  def __getHistoryFromGivenCode(self):\n",
        "    import tensorflow as tf\n",
        "    from tensorflow.keras.models import Sequential\n",
        "    from tensorflow.keras.layers import Dense, Flatten\n",
        "    import numpy as np\n",
        "\n",
        "    # clear any previous model\n",
        "    tf.keras.backend.clear_session()\n",
        "\n",
        "    # generate a seed for replication purposes\n",
        "    np.random.seed(0)\n",
        "    tf.random.set_seed(0)\n",
        "\n",
        "    # notice input shape accommodates 18 features!\n",
        "    model = Sequential([\n",
        "      Dense(64, activation='relu', input_shape=[20,]),#shape was 18\n",
        "      Dense(64, activation='relu'),\n",
        "      Dense(1)\n",
        "    ])\n",
        "    # create a model with one input layer, one hidden layer, and on outpur layer. Both input and hidden layers have 64 neuros. Activation using Relu.\n",
        "    rmse = tf.keras.metrics.RootMeanSquaredError()\n",
        "\n",
        "    mape = tf.keras.losses.MeanAbsolutePercentageError()\n",
        "\n",
        "\n",
        "\n",
        "    model.compile(\n",
        "        optimizer='RMSProp',\n",
        "        loss='mape', metrics=[mape, 'mae'])\n",
        "    \n",
        "    #given by above code\n",
        "    history = model.fit(train_bs, epochs = self.__epochs,\n",
        "                    validation_data=test_bs)\n",
        "    # epoch ( iteration of training) can start from 50\n",
        "    # about 10 ms for each epoch, keep watching the loss value (for training set) and val_loss value ( for testing set)\n",
        "\n",
        "    tf.keras.backend.clear_session()\n",
        "\n",
        "    return history\n",
        "\n",
        "  def __getHistoryFromRefactoredCode(self):\n",
        "    import tensorflow as tf\n",
        "    from tensorflow.keras.models import Sequential\n",
        "    from tensorflow.keras.layers import Dense, Flatten\n",
        "    import numpy as np\n",
        "\n",
        "    rmse = tf.keras.metrics.RootMeanSquaredError()\n",
        "\n",
        "    mape = tf.keras.losses.MeanAbsolutePercentageError()\n",
        "\n",
        "    modelMakerObj = ModelMaker()\n",
        "    model = modelMakerObj.makeNewModel()\n",
        "    modelTrainerObj = ModelTrainer(model, test_bs, train_bs, self.__epochs)\n",
        "    return modelTrainerObj.train()\n",
        "\n",
        "      \n",
        "  def isEqual(self):\n",
        "    #NOTE: Equality may be too exact. I need to understand how much variance of \"loss\" values is expected between two different model runs. The model run seems to be dependent on library imports (the objects)\n",
        "    # because that removed the \"continuation\" pattern. As of 2021/11/4, the result is False although some values from the histories overlap\n",
        "    return (self.__expectedHistory == self.__experimentHistory)\n",
        "  def test(self):\n",
        "    self.assertEqual(self.__experimentHistory, self.__expectedHistory)\n",
        "    #Should pause program if fails\n",
        "  \n",
        "      \n",
        "\n",
        "\n",
        "\n",
        "  "
      ],
      "execution_count": null,
      "outputs": []
    },
    {
      "cell_type": "code",
      "metadata": {
        "id": "o9gD42S66AiQ"
      },
      "source": [
        "\n",
        "#test is broken right now because of inherit problem.\n",
        "def runAllUnitTests():\n",
        "  tObj = TestHistoryFromGivenCode()\n",
        "  tObj.test()\n",
        "\n"
      ],
      "execution_count": null,
      "outputs": []
    },
    {
      "cell_type": "code",
      "metadata": {
        "id": "t-Z8GxN_zvWo"
      },
      "source": [
        "def plotHistories( historiesContainer):\n",
        "  historyPlotterObj = HistoryPlotter()\n",
        "  for history in historiesContainer:\n",
        "    historyPlotterObj.set_history(history)\n",
        "    historyPlotterObj.makePlot()\n",
        "    historyPlotterObj.showPlot()\n",
        "    "
      ],
      "execution_count": null,
      "outputs": []
    },
    {
      "cell_type": "code",
      "metadata": {
        "id": "JT2S-QKwCnQn"
      },
      "source": [
        "from google.colab import files #for downloading browser\n",
        "#Download figure Files\n",
        "#files.download"
      ],
      "execution_count": null,
      "outputs": []
    },
    {
      "cell_type": "code",
      "metadata": {
        "colab": {
          "base_uri": "https://localhost:8080/",
          "height": 1000
        },
        "id": "166jHy352IWL",
        "outputId": "a1352cc5-c89f-4805-a7ee-bf8dcd80df5d"
      },
      "source": [
        "def runOne():\n",
        "  modelMakerObj = ModelMaker()\n",
        "  model = modelMakerObj.makeNewModel()\n",
        "  modelTrainerObj = ModelTrainer(model, test_bs, train_bs, 20)\n",
        "  history = modelTrainerObj.train()\n",
        "  obj = HistoryPlotter()\n",
        "  obj.set_history(history)\n",
        "  obj.makePlot()\n",
        "  obj.showPlot()\n",
        "\n",
        "runOne()\n",
        "\n"
      ],
      "execution_count": null,
      "outputs": [
        {
          "output_type": "stream",
          "name": "stdout",
          "text": [
            "Epoch 1/20\n",
            "3/3 [==============================] - 1s 85ms/step - loss: 100.0328 - mean_absolute_percentage_error: 100.0257 - mae: 70310.8672 - val_loss: 99.7692 - val_mean_absolute_percentage_error: 99.7692 - val_mae: 1385335.7500\n",
            "Epoch 2/20\n",
            "3/3 [==============================] - 0s 13ms/step - loss: 99.9487 - mean_absolute_percentage_error: 99.9562 - mae: 70310.2266 - val_loss: 99.5863 - val_mean_absolute_percentage_error: 99.5863 - val_mae: 1385217.3750\n",
            "Epoch 3/20\n",
            "3/3 [==============================] - 0s 14ms/step - loss: 99.8898 - mean_absolute_percentage_error: 99.9073 - mae: 70309.8516 - val_loss: 99.4374 - val_mean_absolute_percentage_error: 99.4374 - val_mae: 1385120.7500\n",
            "Epoch 4/20\n",
            "3/3 [==============================] - 0s 12ms/step - loss: 99.8327 - mean_absolute_percentage_error: 99.7313 - mae: 70309.6094 - val_loss: 99.2717 - val_mean_absolute_percentage_error: 99.2717 - val_mae: 1385013.2500\n",
            "Epoch 5/20\n",
            "3/3 [==============================] - 0s 12ms/step - loss: 99.7604 - mean_absolute_percentage_error: 99.7658 - mae: 70309.2344 - val_loss: 99.1305 - val_mean_absolute_percentage_error: 99.1305 - val_mae: 1384921.7500\n",
            "Epoch 6/20\n",
            "3/3 [==============================] - 0s 12ms/step - loss: 99.7117 - mean_absolute_percentage_error: 99.7570 - mae: 70308.8828 - val_loss: 98.9915 - val_mean_absolute_percentage_error: 98.9915 - val_mae: 1384832.8750\n",
            "Epoch 7/20\n",
            "3/3 [==============================] - 0s 14ms/step - loss: 99.6616 - mean_absolute_percentage_error: 99.4883 - mae: 70308.6328 - val_loss: 98.8113 - val_mean_absolute_percentage_error: 98.8113 - val_mae: 1384716.2500\n",
            "Epoch 8/20\n",
            "3/3 [==============================] - 0s 17ms/step - loss: 99.5899 - mean_absolute_percentage_error: 99.6540 - mae: 70308.2734 - val_loss: 98.6624 - val_mean_absolute_percentage_error: 98.6624 - val_mae: 1384619.5000\n",
            "Epoch 9/20\n",
            "3/3 [==============================] - 0s 12ms/step - loss: 99.5377 - mean_absolute_percentage_error: 99.3032 - mae: 70307.9766 - val_loss: 98.4803 - val_mean_absolute_percentage_error: 98.4803 - val_mae: 1384501.2500\n",
            "Epoch 10/20\n",
            "3/3 [==============================] - 0s 12ms/step - loss: 99.4600 - mean_absolute_percentage_error: 99.5479 - mae: 70307.5469 - val_loss: 98.3258 - val_mean_absolute_percentage_error: 98.3258 - val_mae: 1384401.1250\n",
            "Epoch 11/20\n",
            "3/3 [==============================] - 0s 13ms/step - loss: 99.4147 - mean_absolute_percentage_error: 99.4827 - mae: 70307.2578 - val_loss: 98.1461 - val_mean_absolute_percentage_error: 98.1461 - val_mae: 1384284.3750\n",
            "Epoch 12/20\n",
            "3/3 [==============================] - 0s 14ms/step - loss: 99.3481 - mean_absolute_percentage_error: 99.0248 - mae: 70306.8984 - val_loss: 97.9591 - val_mean_absolute_percentage_error: 97.9591 - val_mae: 1384163.0000\n",
            "Epoch 13/20\n",
            "3/3 [==============================] - 0s 21ms/step - loss: 99.2569 - mean_absolute_percentage_error: 99.2909 - mae: 70306.4531 - val_loss: 97.7679 - val_mean_absolute_percentage_error: 97.7679 - val_mae: 1384038.7500\n",
            "Epoch 14/20\n",
            "3/3 [==============================] - 0s 15ms/step - loss: 99.1811 - mean_absolute_percentage_error: 99.2152 - mae: 70306.0312 - val_loss: 97.5600 - val_mean_absolute_percentage_error: 97.5600 - val_mae: 1383903.3750\n",
            "Epoch 15/20\n",
            "3/3 [==============================] - 0s 15ms/step - loss: 99.1001 - mean_absolute_percentage_error: 98.5543 - mae: 70305.6406 - val_loss: 97.3192 - val_mean_absolute_percentage_error: 97.3192 - val_mae: 1383746.6250\n",
            "Epoch 16/20\n",
            "3/3 [==============================] - 0s 14ms/step - loss: 98.9785 - mean_absolute_percentage_error: 99.1433 - mae: 70305.0312 - val_loss: 97.1240 - val_mean_absolute_percentage_error: 97.1240 - val_mae: 1383620.0000\n",
            "Epoch 17/20\n",
            "3/3 [==============================] - 0s 15ms/step - loss: 98.9142 - mean_absolute_percentage_error: 99.0924 - mae: 70304.7031 - val_loss: 96.9375 - val_mean_absolute_percentage_error: 96.9375 - val_mae: 1383498.7500\n",
            "Epoch 18/20\n",
            "3/3 [==============================] - 0s 15ms/step - loss: 98.8341 - mean_absolute_percentage_error: 98.1205 - mae: 70304.3125 - val_loss: 96.6865 - val_mean_absolute_percentage_error: 96.6865 - val_mae: 1383335.1250\n",
            "Epoch 19/20\n",
            "3/3 [==============================] - 0s 12ms/step - loss: 98.7026 - mean_absolute_percentage_error: 97.9137 - mae: 70303.7344 - val_loss: 96.4487 - val_mean_absolute_percentage_error: 96.4487 - val_mae: 1383180.2500\n",
            "Epoch 20/20\n",
            "3/3 [==============================] - 0s 16ms/step - loss: 98.5793 - mean_absolute_percentage_error: 98.8094 - mae: 70303.1484 - val_loss: 96.2438 - val_mean_absolute_percentage_error: 96.2438 - val_mae: 1383047.0000\n"
          ]
        },
        {
          "output_type": "display_data",
          "data": {
            "image/png": "[encoded data removed]",
            "text/plain": [
              "<Figure size 432x288 with 1 Axes>"
            ]
          },
          "metadata": {
            "needs_background": "light"
          }
        }
      ]
    },
    {
      "cell_type": "code",
      "metadata": {
        "id": "75ox1PJwwOju"
      },
      "source": [
        "\n",
        "modelMakerObj = ModelMaker()\n",
        "model = modelMakerObj.makeNewModel()\n",
        "modelTrainerObj = ModelTrainer(model, test_bs, train_bs, 20)\n",
        "\n",
        "HistoryCollectorObj = HistoryCollectorOfModelCombinations(modelMakerObj, modelTrainerObj)\n",
        "\n",
        "\n"
      ],
      "execution_count": null,
      "outputs": []
    },
    {
      "cell_type": "code",
      "metadata": {
        "colab": {
          "base_uri": "https://localhost:8080/"
        },
        "id": "Cbw4zsFT2S2V",
        "outputId": "33fbfe14-519a-43ee-ff73-904ad88e1cce"
      },
      "source": [
        "histories = HistoryCollectorObj.collectHistories()\n"
      ],
      "execution_count": null,
      "outputs": [
        {
          "output_type": "stream",
          "name": "stdout",
          "text": [
            "Epoch 1/20\n",
            "3/3 [==============================] - 1s 85ms/step - loss: 100.0818 - mean_absolute_percentage_error: 100.0867 - mae: 70311.1484 - val_loss: 100.1842 - val_mean_absolute_percentage_error: 100.1842 - val_mae: 1385604.8750\n",
            "Epoch 2/20\n",
            "3/3 [==============================] - 0s 14ms/step - loss: 100.0660 - mean_absolute_percentage_error: 100.0897 - mae: 70311.1172 - val_loss: 100.1615 - val_mean_absolute_percentage_error: 100.1615 - val_mae: 1385590.2500\n",
            "Epoch 3/20\n",
            "3/3 [==============================] - 0s 12ms/step - loss: 100.0425 - mean_absolute_percentage_error: 100.0356 - mae: 70311.0625 - val_loss: 100.1500 - val_mean_absolute_percentage_error: 100.1500 - val_mae: 1385582.7500\n",
            "Epoch 4/20\n",
            "3/3 [==============================] - 0s 12ms/step - loss: 100.0301 - mean_absolute_percentage_error: 100.0252 - mae: 70311.0312 - val_loss: 100.1394 - val_mean_absolute_percentage_error: 100.1394 - val_mae: 1385575.8750\n",
            "Epoch 5/20\n",
            "3/3 [==============================] - 0s 12ms/step - loss: 100.0171 - mean_absolute_percentage_error: 100.0269 - mae: 70311.0078 - val_loss: 100.1259 - val_mean_absolute_percentage_error: 100.1259 - val_mae: 1385567.2500\n",
            "Epoch 6/20\n",
            "3/3 [==============================] - 0s 12ms/step - loss: 100.0024 - mean_absolute_percentage_error: 99.9918 - mae: 70310.9766 - val_loss: 100.1060 - val_mean_absolute_percentage_error: 100.1060 - val_mae: 1385554.3750\n",
            "Epoch 7/20\n",
            "3/3 [==============================] - 0s 15ms/step - loss: 99.9799 - mean_absolute_percentage_error: 99.9656 - mae: 70310.9219 - val_loss: 100.0842 - val_mean_absolute_percentage_error: 100.0842 - val_mae: 1385540.1250\n",
            "Epoch 8/20\n",
            "3/3 [==============================] - 0s 11ms/step - loss: 99.9538 - mean_absolute_percentage_error: 99.9615 - mae: 70310.8594 - val_loss: 100.0732 - val_mean_absolute_percentage_error: 100.0732 - val_mae: 1385533.0000\n",
            "Epoch 9/20\n",
            "3/3 [==============================] - 0s 11ms/step - loss: 99.9418 - mean_absolute_percentage_error: 99.9547 - mae: 70310.8438 - val_loss: 100.0605 - val_mean_absolute_percentage_error: 100.0605 - val_mae: 1385524.8750\n",
            "Epoch 10/20\n",
            "3/3 [==============================] - 0s 11ms/step - loss: 99.9297 - mean_absolute_percentage_error: 99.9414 - mae: 70310.8125 - val_loss: 100.0496 - val_mean_absolute_percentage_error: 100.0496 - val_mae: 1385517.7500\n",
            "Epoch 11/20\n",
            "3/3 [==============================] - 0s 11ms/step - loss: 99.9167 - mean_absolute_percentage_error: 99.9309 - mae: 70310.7734 - val_loss: 100.0375 - val_mean_absolute_percentage_error: 100.0375 - val_mae: 1385510.0000\n",
            "Epoch 12/20\n",
            "3/3 [==============================] - 0s 10ms/step - loss: 99.9034 - mean_absolute_percentage_error: 99.9181 - mae: 70310.7422 - val_loss: 100.0255 - val_mean_absolute_percentage_error: 100.0255 - val_mae: 1385502.1250\n",
            "Epoch 13/20\n",
            "3/3 [==============================] - 0s 10ms/step - loss: 99.8903 - mean_absolute_percentage_error: 99.9086 - mae: 70310.7109 - val_loss: 100.0152 - val_mean_absolute_percentage_error: 100.0152 - val_mae: 1385495.5000\n",
            "Epoch 14/20\n",
            "3/3 [==============================] - 0s 13ms/step - loss: 99.8787 - mean_absolute_percentage_error: 99.8027 - mae: 70310.6875 - val_loss: 99.9971 - val_mean_absolute_percentage_error: 99.9971 - val_mae: 1385483.7500\n",
            "Epoch 15/20\n",
            "3/3 [==============================] - 0s 14ms/step - loss: 99.8581 - mean_absolute_percentage_error: 99.8816 - mae: 70310.6328 - val_loss: 99.9867 - val_mean_absolute_percentage_error: 99.9867 - val_mae: 1385477.1250\n",
            "Epoch 16/20\n",
            "3/3 [==============================] - 0s 13ms/step - loss: 99.8473 - mean_absolute_percentage_error: 99.8727 - mae: 70310.6094 - val_loss: 99.9762 - val_mean_absolute_percentage_error: 99.9762 - val_mae: 1385470.2500\n",
            "Epoch 17/20\n",
            "3/3 [==============================] - 0s 15ms/step - loss: 99.8359 - mean_absolute_percentage_error: 99.8629 - mae: 70310.5781 - val_loss: 99.9656 - val_mean_absolute_percentage_error: 99.9656 - val_mae: 1385463.3750\n",
            "Epoch 18/20\n",
            "3/3 [==============================] - 0s 12ms/step - loss: 99.8227 - mean_absolute_percentage_error: 99.8419 - mae: 70310.5469 - val_loss: 99.9532 - val_mean_absolute_percentage_error: 99.9532 - val_mae: 1385455.3750\n",
            "Epoch 19/20\n",
            "3/3 [==============================] - 0s 12ms/step - loss: 99.8089 - mean_absolute_percentage_error: 99.8289 - mae: 70310.5078 - val_loss: 99.9407 - val_mean_absolute_percentage_error: 99.9407 - val_mae: 1385447.3750\n",
            "Epoch 20/20\n",
            "3/3 [==============================] - 0s 12ms/step - loss: 99.7947 - mean_absolute_percentage_error: 99.8255 - mae: 70310.4766 - val_loss: 99.9293 - val_mean_absolute_percentage_error: 99.9293 - val_mae: 1385440.0000\n",
            "Epoch 1/20\n",
            "3/3 [==============================] - 1s 89ms/step - loss: 100.0349 - mean_absolute_percentage_error: 100.0289 - mae: 70310.8672 - val_loss: 99.8120 - val_mean_absolute_percentage_error: 99.8120 - val_mae: 1385363.8750\n",
            "Epoch 2/20\n",
            "3/3 [==============================] - 0s 18ms/step - loss: 99.9573 - mean_absolute_percentage_error: 99.9635 - mae: 70310.3125 - val_loss: 99.6206 - val_mean_absolute_percentage_error: 99.6206 - val_mae: 1385239.6250\n",
            "Epoch 3/20\n",
            "3/3 [==============================] - 0s 14ms/step - loss: 99.8975 - mean_absolute_percentage_error: 99.9139 - mae: 70309.8828 - val_loss: 99.4496 - val_mean_absolute_percentage_error: 99.4496 - val_mae: 1385128.6250\n",
            "Epoch 4/20\n",
            "3/3 [==============================] - 0s 14ms/step - loss: 99.8407 - mean_absolute_percentage_error: 99.8531 - mae: 70309.5859 - val_loss: 99.2774 - val_mean_absolute_percentage_error: 99.2774 - val_mae: 1385017.0000\n",
            "Epoch 5/20\n",
            "3/3 [==============================] - 0s 15ms/step - loss: 99.7757 - mean_absolute_percentage_error: 99.8117 - mae: 70309.1797 - val_loss: 99.1358 - val_mean_absolute_percentage_error: 99.1358 - val_mae: 1384925.7500\n",
            "Epoch 6/20\n",
            "3/3 [==============================] - 0s 14ms/step - loss: 99.7241 - mean_absolute_percentage_error: 99.7560 - mae: 70308.8984 - val_loss: 98.9684 - val_mean_absolute_percentage_error: 98.9684 - val_mae: 1384818.0000\n",
            "Epoch 7/20\n",
            "3/3 [==============================] - 0s 13ms/step - loss: 99.6561 - mean_absolute_percentage_error: 99.4770 - mae: 70308.5625 - val_loss: 98.7733 - val_mean_absolute_percentage_error: 98.7733 - val_mae: 1384691.5000\n",
            "Epoch 8/20\n",
            "3/3 [==============================] - 0s 17ms/step - loss: 99.5747 - mean_absolute_percentage_error: 99.3572 - mae: 70308.1562 - val_loss: 98.6005 - val_mean_absolute_percentage_error: 98.6005 - val_mae: 1384579.0000\n",
            "Epoch 9/20\n",
            "3/3 [==============================] - 0s 14ms/step - loss: 99.5032 - mean_absolute_percentage_error: 99.5840 - mae: 70307.7656 - val_loss: 98.4353 - val_mean_absolute_percentage_error: 98.4353 - val_mae: 1384472.0000\n",
            "Epoch 10/20\n",
            "3/3 [==============================] - 0s 15ms/step - loss: 99.4554 - mean_absolute_percentage_error: 99.5157 - mae: 70307.4531 - val_loss: 98.2675 - val_mean_absolute_percentage_error: 98.2675 - val_mae: 1384362.8750\n",
            "Epoch 11/20\n",
            "3/3 [==============================] - 0s 17ms/step - loss: 99.3963 - mean_absolute_percentage_error: 99.4270 - mae: 70307.0469 - val_loss: 98.0949 - val_mean_absolute_percentage_error: 98.0949 - val_mae: 1384251.0000\n",
            "Epoch 12/20\n",
            "3/3 [==============================] - 0s 16ms/step - loss: 99.3277 - mean_absolute_percentage_error: 99.3516 - mae: 70306.7109 - val_loss: 97.9000 - val_mean_absolute_percentage_error: 97.9000 - val_mae: 1384124.5000\n",
            "Epoch 13/20\n",
            "3/3 [==============================] - 0s 16ms/step - loss: 99.2523 - mean_absolute_percentage_error: 98.7667 - mae: 70306.3281 - val_loss: 97.6998 - val_mean_absolute_percentage_error: 97.6998 - val_mae: 1383993.8750\n",
            "Epoch 14/20\n",
            "3/3 [==============================] - 0s 12ms/step - loss: 99.1457 - mean_absolute_percentage_error: 98.6276 - mae: 70305.8203 - val_loss: 97.4798 - val_mean_absolute_percentage_error: 97.4798 - val_mae: 1383851.2500\n",
            "Epoch 15/20\n",
            "3/3 [==============================] - 0s 12ms/step - loss: 99.0478 - mean_absolute_percentage_error: 99.2025 - mae: 70305.3203 - val_loss: 97.3019 - val_mean_absolute_percentage_error: 97.3019 - val_mae: 1383735.8750\n",
            "Epoch 16/20\n",
            "3/3 [==============================] - 0s 14ms/step - loss: 98.9887 - mean_absolute_percentage_error: 99.1536 - mae: 70304.9766 - val_loss: 97.1411 - val_mean_absolute_percentage_error: 97.1411 - val_mae: 1383631.6250\n",
            "Epoch 17/20\n",
            "3/3 [==============================] - 0s 14ms/step - loss: 98.9235 - mean_absolute_percentage_error: 99.0988 - mae: 70304.6016 - val_loss: 96.9452 - val_mean_absolute_percentage_error: 96.9452 - val_mae: 1383504.0000\n",
            "Epoch 18/20\n",
            "3/3 [==============================] - 0s 12ms/step - loss: 98.8367 - mean_absolute_percentage_error: 98.2626 - mae: 70304.2188 - val_loss: 96.7024 - val_mean_absolute_percentage_error: 96.7024 - val_mae: 1383345.7500\n",
            "Epoch 19/20\n",
            "3/3 [==============================] - 0s 12ms/step - loss: 98.7129 - mean_absolute_percentage_error: 98.9150 - mae: 70303.6094 - val_loss: 96.4961 - val_mean_absolute_percentage_error: 96.4961 - val_mae: 1383211.3750\n",
            "Epoch 20/20\n",
            "3/3 [==============================] - 0s 13ms/step - loss: 98.6306 - mean_absolute_percentage_error: 97.8020 - mae: 70303.1953 - val_loss: 96.2540 - val_mean_absolute_percentage_error: 96.2540 - val_mae: 1383053.6250\n",
            "Epoch 1/20\n",
            "3/3 [==============================] - 1s 82ms/step - loss: 100.0683 - mean_absolute_percentage_error: 100.0571 - mae: 70311.0781 - val_loss: 100.0534 - val_mean_absolute_percentage_error: 100.0534 - val_mae: 1385520.3750\n",
            "Epoch 2/20\n",
            "3/3 [==============================] - 0s 11ms/step - loss: 100.0242 - mean_absolute_percentage_error: 100.0201 - mae: 70310.7969 - val_loss: 99.9177 - val_mean_absolute_percentage_error: 99.9177 - val_mae: 1385432.2500\n",
            "Epoch 3/20\n",
            "3/3 [==============================] - 0s 12ms/step - loss: 99.9830 - mean_absolute_percentage_error: 99.9855 - mae: 70310.5547 - val_loss: 99.7839 - val_mean_absolute_percentage_error: 99.7839 - val_mae: 1385345.2500\n",
            "Epoch 4/20\n",
            "3/3 [==============================] - 0s 12ms/step - loss: 99.9331 - mean_absolute_percentage_error: 99.8900 - mae: 70310.3125 - val_loss: 99.6521 - val_mean_absolute_percentage_error: 99.6521 - val_mae: 1385260.1250\n",
            "Epoch 5/20\n",
            "3/3 [==============================] - 0s 12ms/step - loss: 99.9022 - mean_absolute_percentage_error: 99.9179 - mae: 70310.0781 - val_loss: 99.5207 - val_mean_absolute_percentage_error: 99.5207 - val_mae: 1385174.6250\n",
            "Epoch 6/20\n",
            "3/3 [==============================] - 0s 12ms/step - loss: 99.8597 - mean_absolute_percentage_error: 99.8816 - mae: 70309.8281 - val_loss: 99.3966 - val_mean_absolute_percentage_error: 99.3966 - val_mae: 1385094.0000\n",
            "Epoch 7/20\n",
            "3/3 [==============================] - 0s 11ms/step - loss: 99.8218 - mean_absolute_percentage_error: 99.8507 - mae: 70309.5938 - val_loss: 99.2788 - val_mean_absolute_percentage_error: 99.2788 - val_mae: 1385017.5000\n",
            "Epoch 8/20\n",
            "3/3 [==============================] - 0s 12ms/step - loss: 99.7805 - mean_absolute_percentage_error: 99.8075 - mae: 70309.3281 - val_loss: 99.1624 - val_mean_absolute_percentage_error: 99.1624 - val_mae: 1384942.5000\n",
            "Epoch 9/20\n",
            "3/3 [==============================] - 0s 14ms/step - loss: 99.7386 - mean_absolute_percentage_error: 99.7809 - mae: 70309.0781 - val_loss: 99.0415 - val_mean_absolute_percentage_error: 99.0415 - val_mae: 1384864.2500\n",
            "Epoch 10/20\n",
            "3/3 [==============================] - 0s 12ms/step - loss: 99.6795 - mean_absolute_percentage_error: 99.4714 - mae: 70308.8047 - val_loss: 98.9160 - val_mean_absolute_percentage_error: 98.9160 - val_mae: 1384783.2500\n",
            "Epoch 11/20\n",
            "3/3 [==============================] - 0s 11ms/step - loss: 99.6446 - mean_absolute_percentage_error: 99.7017 - mae: 70308.5234 - val_loss: 98.7669 - val_mean_absolute_percentage_error: 98.7669 - val_mae: 1384687.1250\n",
            "Epoch 12/20\n",
            "3/3 [==============================] - 0s 12ms/step - loss: 99.5996 - mean_absolute_percentage_error: 99.6199 - mae: 70308.2188 - val_loss: 98.6046 - val_mean_absolute_percentage_error: 98.6046 - val_mae: 1384581.7500\n",
            "Epoch 13/20\n",
            "3/3 [==============================] - 0s 15ms/step - loss: 99.5298 - mean_absolute_percentage_error: 99.6043 - mae: 70307.8906 - val_loss: 98.4386 - val_mean_absolute_percentage_error: 98.4386 - val_mae: 1384474.2500\n",
            "Epoch 14/20\n",
            "3/3 [==============================] - 0s 13ms/step - loss: 99.4543 - mean_absolute_percentage_error: 99.1211 - mae: 70307.5469 - val_loss: 98.2689 - val_mean_absolute_percentage_error: 98.2689 - val_mae: 1384364.0000\n",
            "Epoch 15/20\n",
            "3/3 [==============================] - 0s 12ms/step - loss: 99.4188 - mean_absolute_percentage_error: 99.4391 - mae: 70307.2031 - val_loss: 98.0883 - val_mean_absolute_percentage_error: 98.0883 - val_mae: 1384247.1250\n",
            "Epoch 16/20\n",
            "3/3 [==============================] - 0s 15ms/step - loss: 99.3269 - mean_absolute_percentage_error: 99.4365 - mae: 70306.7891 - val_loss: 97.8990 - val_mean_absolute_percentage_error: 97.8990 - val_mae: 1384124.3750\n",
            "Epoch 17/20\n",
            "3/3 [==============================] - 0s 12ms/step - loss: 99.2273 - mean_absolute_percentage_error: 98.8406 - mae: 70306.3828 - val_loss: 97.6975 - val_mean_absolute_percentage_error: 97.6975 - val_mae: 1383993.5000\n",
            "Epoch 18/20\n",
            "3/3 [==============================] - 0s 22ms/step - loss: 99.1530 - mean_absolute_percentage_error: 99.1885 - mae: 70305.9219 - val_loss: 97.4671 - val_mean_absolute_percentage_error: 97.4671 - val_mae: 1383843.2500\n",
            "Epoch 19/20\n",
            "3/3 [==============================] - 0s 12ms/step - loss: 99.0520 - mean_absolute_percentage_error: 99.2062 - mae: 70305.4297 - val_loss: 97.2172 - val_mean_absolute_percentage_error: 97.2172 - val_mae: 1383680.8750\n",
            "Epoch 20/20\n",
            "3/3 [==============================] - 0s 13ms/step - loss: 98.9386 - mean_absolute_percentage_error: 99.0578 - mae: 70304.9062 - val_loss: 96.9639 - val_mean_absolute_percentage_error: 96.9639 - val_mae: 1383516.2500\n",
            "Epoch 1/20\n",
            "3/3 [==============================] - 1s 80ms/step - loss: 100.0832 - mean_absolute_percentage_error: 100.1357 - mae: 70311.1562 - val_loss: 100.1987 - val_mean_absolute_percentage_error: 100.1987 - val_mae: 1385614.2500\n",
            "Epoch 2/20\n",
            "3/3 [==============================] - 0s 13ms/step - loss: 100.0832 - mean_absolute_percentage_error: 100.0694 - mae: 70311.1562 - val_loss: 100.1986 - val_mean_absolute_percentage_error: 100.1986 - val_mae: 1385614.2500\n",
            "Epoch 3/20\n",
            "3/3 [==============================] - 0s 12ms/step - loss: 100.0831 - mean_absolute_percentage_error: 100.0888 - mae: 70311.1562 - val_loss: 100.1986 - val_mean_absolute_percentage_error: 100.1986 - val_mae: 1385614.2500\n",
            "Epoch 4/20\n",
            "3/3 [==============================] - 0s 11ms/step - loss: 100.0831 - mean_absolute_percentage_error: 100.0696 - mae: 70311.1562 - val_loss: 100.1985 - val_mean_absolute_percentage_error: 100.1985 - val_mae: 1385614.2500\n",
            "Epoch 5/20\n",
            "3/3 [==============================] - 0s 16ms/step - loss: 100.0831 - mean_absolute_percentage_error: 100.0695 - mae: 70311.1562 - val_loss: 100.1985 - val_mean_absolute_percentage_error: 100.1985 - val_mae: 1385614.1250\n",
            "Epoch 6/20\n",
            "3/3 [==============================] - 0s 14ms/step - loss: 100.0831 - mean_absolute_percentage_error: 100.1356 - mae: 70311.1562 - val_loss: 100.1984 - val_mean_absolute_percentage_error: 100.1984 - val_mae: 1385614.1250\n",
            "Epoch 7/20\n",
            "3/3 [==============================] - 0s 14ms/step - loss: 100.0830 - mean_absolute_percentage_error: 100.1159 - mae: 70311.1562 - val_loss: 100.1983 - val_mean_absolute_percentage_error: 100.1983 - val_mae: 1385614.1250\n",
            "Epoch 8/20\n",
            "3/3 [==============================] - 0s 13ms/step - loss: 100.0830 - mean_absolute_percentage_error: 100.0716 - mae: 70311.1562 - val_loss: 100.1983 - val_mean_absolute_percentage_error: 100.1983 - val_mae: 1385614.0000\n",
            "Epoch 9/20\n",
            "3/3 [==============================] - 0s 17ms/step - loss: 100.0829 - mean_absolute_percentage_error: 100.0887 - mae: 70311.1562 - val_loss: 100.1982 - val_mean_absolute_percentage_error: 100.1982 - val_mae: 1385614.0000\n",
            "Epoch 10/20\n",
            "3/3 [==============================] - 0s 14ms/step - loss: 100.0829 - mean_absolute_percentage_error: 100.0693 - mae: 70311.1484 - val_loss: 100.1982 - val_mean_absolute_percentage_error: 100.1982 - val_mae: 1385614.0000\n",
            "Epoch 11/20\n",
            "3/3 [==============================] - 0s 15ms/step - loss: 100.0829 - mean_absolute_percentage_error: 100.0695 - mae: 70311.1562 - val_loss: 100.1981 - val_mean_absolute_percentage_error: 100.1981 - val_mae: 1385614.0000\n",
            "Epoch 12/20\n",
            "3/3 [==============================] - 0s 15ms/step - loss: 100.0829 - mean_absolute_percentage_error: 100.0695 - mae: 70311.1562 - val_loss: 100.1981 - val_mean_absolute_percentage_error: 100.1981 - val_mae: 1385613.8750\n",
            "Epoch 13/20\n",
            "3/3 [==============================] - 0s 15ms/step - loss: 100.0829 - mean_absolute_percentage_error: 100.1179 - mae: 70311.1562 - val_loss: 100.1980 - val_mean_absolute_percentage_error: 100.1980 - val_mae: 1385613.8750\n",
            "Epoch 14/20\n",
            "3/3 [==============================] - 0s 13ms/step - loss: 100.0828 - mean_absolute_percentage_error: 100.0691 - mae: 70311.1562 - val_loss: 100.1980 - val_mean_absolute_percentage_error: 100.1980 - val_mae: 1385613.8750\n",
            "Epoch 15/20\n",
            "3/3 [==============================] - 0s 12ms/step - loss: 100.0828 - mean_absolute_percentage_error: 100.0693 - mae: 70311.1562 - val_loss: 100.1979 - val_mean_absolute_percentage_error: 100.1979 - val_mae: 1385613.8750\n",
            "Epoch 16/20\n",
            "3/3 [==============================] - 0s 12ms/step - loss: 100.0828 - mean_absolute_percentage_error: 100.1352 - mae: 70311.1484 - val_loss: 100.1979 - val_mean_absolute_percentage_error: 100.1979 - val_mae: 1385613.7500\n",
            "Epoch 17/20\n",
            "3/3 [==============================] - 0s 13ms/step - loss: 100.0827 - mean_absolute_percentage_error: 100.0884 - mae: 70311.1562 - val_loss: 100.1978 - val_mean_absolute_percentage_error: 100.1978 - val_mae: 1385613.7500\n",
            "Epoch 18/20\n",
            "3/3 [==============================] - 0s 13ms/step - loss: 100.0827 - mean_absolute_percentage_error: 100.0885 - mae: 70311.1484 - val_loss: 100.1977 - val_mean_absolute_percentage_error: 100.1977 - val_mae: 1385613.7500\n",
            "Epoch 19/20\n",
            "3/3 [==============================] - 0s 16ms/step - loss: 100.0827 - mean_absolute_percentage_error: 100.1153 - mae: 70311.1484 - val_loss: 100.1977 - val_mean_absolute_percentage_error: 100.1977 - val_mae: 1385613.6250\n",
            "Epoch 20/20\n",
            "3/3 [==============================] - 0s 12ms/step - loss: 100.0826 - mean_absolute_percentage_error: 100.0693 - mae: 70311.1484 - val_loss: 100.1976 - val_mean_absolute_percentage_error: 100.1976 - val_mae: 1385613.6250\n",
            "Epoch 1/20\n",
            "3/3 [==============================] - 1s 81ms/step - loss: 100.0828 - mean_absolute_percentage_error: 100.1154 - mae: 70311.1484 - val_loss: 100.1921 - val_mean_absolute_percentage_error: 100.1921 - val_mae: 1385610.2500\n",
            "Epoch 2/20\n",
            "3/3 [==============================] - 0s 15ms/step - loss: 100.0759 - mean_absolute_percentage_error: 100.0840 - mae: 70311.1406 - val_loss: 100.1880 - val_mean_absolute_percentage_error: 100.1880 - val_mae: 1385607.3750\n",
            "Epoch 3/20\n",
            "3/3 [==============================] - 0s 14ms/step - loss: 100.0717 - mean_absolute_percentage_error: 100.0984 - mae: 70311.1328 - val_loss: 100.1820 - val_mean_absolute_percentage_error: 100.1820 - val_mae: 1385603.5000\n",
            "Epoch 4/20\n",
            "3/3 [==============================] - 0s 12ms/step - loss: 100.0659 - mean_absolute_percentage_error: 100.0552 - mae: 70311.1172 - val_loss: 100.1787 - val_mean_absolute_percentage_error: 100.1787 - val_mae: 1385601.2500\n",
            "Epoch 5/20\n",
            "3/3 [==============================] - 0s 14ms/step - loss: 100.0624 - mean_absolute_percentage_error: 100.0523 - mae: 70311.1094 - val_loss: 100.1754 - val_mean_absolute_percentage_error: 100.1754 - val_mae: 1385599.1250\n",
            "Epoch 6/20\n",
            "3/3 [==============================] - 0s 17ms/step - loss: 100.0595 - mean_absolute_percentage_error: 100.0499 - mae: 70311.1016 - val_loss: 100.1722 - val_mean_absolute_percentage_error: 100.1722 - val_mae: 1385597.2500\n",
            "Epoch 7/20\n",
            "3/3 [==============================] - 0s 14ms/step - loss: 100.0563 - mean_absolute_percentage_error: 100.0471 - mae: 70311.1016 - val_loss: 100.1693 - val_mean_absolute_percentage_error: 100.1693 - val_mae: 1385595.2500\n",
            "Epoch 8/20\n",
            "3/3 [==============================] - 0s 13ms/step - loss: 100.0531 - mean_absolute_percentage_error: 100.0607 - mae: 70311.0938 - val_loss: 100.1659 - val_mean_absolute_percentage_error: 100.1659 - val_mae: 1385593.0000\n",
            "Epoch 9/20\n",
            "3/3 [==============================] - 0s 14ms/step - loss: 100.0498 - mean_absolute_percentage_error: 100.0575 - mae: 70311.0781 - val_loss: 100.1626 - val_mean_absolute_percentage_error: 100.1626 - val_mae: 1385591.0000\n",
            "Epoch 10/20\n",
            "3/3 [==============================] - 0s 14ms/step - loss: 100.0466 - mean_absolute_percentage_error: 100.0543 - mae: 70311.0781 - val_loss: 100.1594 - val_mean_absolute_percentage_error: 100.1594 - val_mae: 1385588.7500\n",
            "Epoch 11/20\n",
            "3/3 [==============================] - 0s 13ms/step - loss: 100.0434 - mean_absolute_percentage_error: 100.0512 - mae: 70311.0625 - val_loss: 100.1562 - val_mean_absolute_percentage_error: 100.1562 - val_mae: 1385586.8750\n",
            "Epoch 12/20\n",
            "3/3 [==============================] - 0s 13ms/step - loss: 100.0403 - mean_absolute_percentage_error: 100.0482 - mae: 70311.0625 - val_loss: 100.1531 - val_mean_absolute_percentage_error: 100.1531 - val_mae: 1385584.6250\n",
            "Epoch 13/20\n",
            "3/3 [==============================] - 0s 15ms/step - loss: 100.0375 - mean_absolute_percentage_error: 100.0315 - mae: 70311.0547 - val_loss: 100.1506 - val_mean_absolute_percentage_error: 100.1506 - val_mae: 1385583.0000\n",
            "Epoch 14/20\n",
            "3/3 [==============================] - 0s 15ms/step - loss: 100.0349 - mean_absolute_percentage_error: 100.0435 - mae: 70311.0469 - val_loss: 100.1463 - val_mean_absolute_percentage_error: 100.1463 - val_mae: 1385580.2500\n",
            "Epoch 15/20\n",
            "3/3 [==============================] - 0s 17ms/step - loss: 100.0304 - mean_absolute_percentage_error: 100.0404 - mae: 70311.0312 - val_loss: 100.1434 - val_mean_absolute_percentage_error: 100.1434 - val_mae: 1385578.5000\n",
            "Epoch 16/20\n",
            "3/3 [==============================] - 0s 13ms/step - loss: 100.0279 - mean_absolute_percentage_error: 100.0234 - mae: 70311.0312 - val_loss: 100.1410 - val_mean_absolute_percentage_error: 100.1410 - val_mae: 1385576.8750\n",
            "Epoch 17/20\n",
            "3/3 [==============================] - 0s 13ms/step - loss: 100.0253 - mean_absolute_percentage_error: 100.0274 - mae: 70311.0234 - val_loss: 100.1365 - val_mean_absolute_percentage_error: 100.1365 - val_mae: 1385574.0000\n",
            "Epoch 18/20\n",
            "3/3 [==============================] - 0s 14ms/step - loss: 100.0209 - mean_absolute_percentage_error: 100.0333 - mae: 70311.0078 - val_loss: 100.1318 - val_mean_absolute_percentage_error: 100.1318 - val_mae: 1385570.8750\n",
            "Epoch 19/20\n",
            "3/3 [==============================] - 0s 16ms/step - loss: 100.0159 - mean_absolute_percentage_error: 100.0131 - mae: 70311.0078 - val_loss: 100.1276 - val_mean_absolute_percentage_error: 100.1276 - val_mae: 1385568.1250\n",
            "Epoch 20/20\n",
            "3/3 [==============================] - 0s 13ms/step - loss: 100.0119 - mean_absolute_percentage_error: 100.0184 - mae: 70310.9922 - val_loss: 100.1231 - val_mean_absolute_percentage_error: 100.1231 - val_mae: 1385565.1250\n",
            "Epoch 1/20\n",
            "3/3 [==============================] - 1s 88ms/step - loss: 100.0578 - mean_absolute_percentage_error: 100.0758 - mae: 70311.0625 - val_loss: 100.0707 - val_mean_absolute_percentage_error: 100.0707 - val_mae: 1385531.5000\n",
            "Epoch 2/20\n",
            "3/3 [==============================] - 0s 13ms/step - loss: 100.0375 - mean_absolute_percentage_error: 100.0312 - mae: 70310.8672 - val_loss: 99.9928 - val_mean_absolute_percentage_error: 99.9928 - val_mae: 1385481.1250\n",
            "Epoch 3/20\n",
            "3/3 [==============================] - 0s 17ms/step - loss: 100.0174 - mean_absolute_percentage_error: 100.0143 - mae: 70310.7266 - val_loss: 99.9218 - val_mean_absolute_percentage_error: 99.9218 - val_mae: 1385435.0000\n",
            "Epoch 4/20\n",
            "3/3 [==============================] - 0s 14ms/step - loss: 99.9961 - mean_absolute_percentage_error: 99.9857 - mae: 70310.6094 - val_loss: 99.8548 - val_mean_absolute_percentage_error: 99.8548 - val_mae: 1385391.5000\n",
            "Epoch 5/20\n",
            "3/3 [==============================] - 0s 12ms/step - loss: 99.9862 - mean_absolute_percentage_error: 99.9868 - mae: 70310.4922 - val_loss: 99.7903 - val_mean_absolute_percentage_error: 99.7903 - val_mae: 1385349.6250\n",
            "Epoch 6/20\n",
            "3/3 [==============================] - 0s 12ms/step - loss: 99.9583 - mean_absolute_percentage_error: 99.9332 - mae: 70310.3828 - val_loss: 99.7300 - val_mean_absolute_percentage_error: 99.7300 - val_mae: 1385310.5000\n",
            "Epoch 7/20\n",
            "3/3 [==============================] - 0s 12ms/step - loss: 99.9463 - mean_absolute_percentage_error: 99.9548 - mae: 70310.2656 - val_loss: 99.6720 - val_mean_absolute_percentage_error: 99.6720 - val_mae: 1385272.8750\n",
            "Epoch 8/20\n",
            "3/3 [==============================] - 0s 12ms/step - loss: 99.9271 - mean_absolute_percentage_error: 99.8832 - mae: 70310.1641 - val_loss: 99.6168 - val_mean_absolute_percentage_error: 99.6168 - val_mae: 1385237.1250\n",
            "Epoch 9/20\n",
            "3/3 [==============================] - 0s 15ms/step - loss: 99.9179 - mean_absolute_percentage_error: 99.9248 - mae: 70310.0547 - val_loss: 99.5597 - val_mean_absolute_percentage_error: 99.5597 - val_mae: 1385199.8750\n",
            "Epoch 10/20\n",
            "3/3 [==============================] - 0s 16ms/step - loss: 99.8972 - mean_absolute_percentage_error: 99.9092 - mae: 70309.9531 - val_loss: 99.5080 - val_mean_absolute_percentage_error: 99.5080 - val_mae: 1385166.3750\n",
            "Epoch 11/20\n",
            "3/3 [==============================] - 0s 14ms/step - loss: 99.8782 - mean_absolute_percentage_error: 99.8032 - mae: 70309.8516 - val_loss: 99.4567 - val_mean_absolute_percentage_error: 99.4567 - val_mae: 1385133.0000\n",
            "Epoch 12/20\n",
            "3/3 [==============================] - 0s 15ms/step - loss: 99.8627 - mean_absolute_percentage_error: 99.7869 - mae: 70309.7578 - val_loss: 99.4063 - val_mean_absolute_percentage_error: 99.4063 - val_mae: 1385100.1250\n",
            "Epoch 13/20\n",
            "3/3 [==============================] - 0s 18ms/step - loss: 99.8482 - mean_absolute_percentage_error: 99.8560 - mae: 70309.6484 - val_loss: 99.3545 - val_mean_absolute_percentage_error: 99.3545 - val_mae: 1385066.7500\n",
            "Epoch 14/20\n",
            "3/3 [==============================] - 0s 16ms/step - loss: 99.8312 - mean_absolute_percentage_error: 99.8453 - mae: 70309.5547 - val_loss: 99.3054 - val_mean_absolute_percentage_error: 99.3054 - val_mae: 1385035.0000\n",
            "Epoch 15/20\n",
            "3/3 [==============================] - 0s 12ms/step - loss: 99.8132 - mean_absolute_percentage_error: 99.7133 - mae: 70309.4531 - val_loss: 99.2556 - val_mean_absolute_percentage_error: 99.2556 - val_mae: 1385002.8750\n",
            "Epoch 16/20\n",
            "3/3 [==============================] - 0s 15ms/step - loss: 99.7999 - mean_absolute_percentage_error: 99.8156 - mae: 70309.3516 - val_loss: 99.2052 - val_mean_absolute_percentage_error: 99.2052 - val_mae: 1384970.6250\n",
            "Epoch 17/20\n",
            "3/3 [==============================] - 0s 16ms/step - loss: 99.7876 - mean_absolute_percentage_error: 99.8223 - mae: 70309.2422 - val_loss: 99.1548 - val_mean_absolute_percentage_error: 99.1548 - val_mae: 1384938.0000\n",
            "Epoch 18/20\n",
            "3/3 [==============================] - 0s 12ms/step - loss: 99.7631 - mean_absolute_percentage_error: 99.6181 - mae: 70309.1484 - val_loss: 99.1058 - val_mean_absolute_percentage_error: 99.1058 - val_mae: 1384906.3750\n",
            "Epoch 19/20\n",
            "3/3 [==============================] - 0s 14ms/step - loss: 99.7477 - mean_absolute_percentage_error: 99.6160 - mae: 70309.0469 - val_loss: 99.0557 - val_mean_absolute_percentage_error: 99.0557 - val_mae: 1384874.0000\n",
            "Epoch 20/20\n",
            "3/3 [==============================] - 0s 13ms/step - loss: 99.7331 - mean_absolute_percentage_error: 99.7496 - mae: 70308.9453 - val_loss: 99.0056 - val_mean_absolute_percentage_error: 99.0056 - val_mae: 1384841.6250\n",
            "Epoch 1/20\n",
            "3/3 [==============================] - 1s 90ms/step - loss: 100.0658 - mean_absolute_percentage_error: 100.0549 - mae: 70311.0625 - val_loss: 100.0582 - val_mean_absolute_percentage_error: 100.0582 - val_mae: 1385523.5000\n",
            "Epoch 2/20\n",
            "3/3 [==============================] - 0s 22ms/step - loss: 100.0336 - mean_absolute_percentage_error: 100.0402 - mae: 70310.8672 - val_loss: 99.9566 - val_mean_absolute_percentage_error: 99.9566 - val_mae: 1385457.5000\n",
            "Epoch 3/20\n",
            "3/3 [==============================] - 0s 16ms/step - loss: 99.9946 - mean_absolute_percentage_error: 99.9827 - mae: 70310.6719 - val_loss: 99.8483 - val_mean_absolute_percentage_error: 99.8483 - val_mae: 1385387.2500\n",
            "Epoch 4/20\n",
            "3/3 [==============================] - 0s 14ms/step - loss: 99.9538 - mean_absolute_percentage_error: 99.9608 - mae: 70310.4531 - val_loss: 99.7462 - val_mean_absolute_percentage_error: 99.7462 - val_mae: 1385320.8750\n",
            "Epoch 5/20\n",
            "3/3 [==============================] - 0s 12ms/step - loss: 99.9215 - mean_absolute_percentage_error: 99.9342 - mae: 70310.2344 - val_loss: 99.6348 - val_mean_absolute_percentage_error: 99.6348 - val_mae: 1385248.6250\n",
            "Epoch 6/20\n",
            "3/3 [==============================] - 0s 16ms/step - loss: 99.8861 - mean_absolute_percentage_error: 99.9046 - mae: 70310.0078 - val_loss: 99.5159 - val_mean_absolute_percentage_error: 99.5159 - val_mae: 1385171.6250\n",
            "Epoch 7/20\n",
            "3/3 [==============================] - 0s 20ms/step - loss: 99.8464 - mean_absolute_percentage_error: 99.8699 - mae: 70309.7812 - val_loss: 99.3918 - val_mean_absolute_percentage_error: 99.3918 - val_mae: 1385091.0000\n",
            "Epoch 8/20\n",
            "3/3 [==============================] - 0s 17ms/step - loss: 99.8023 - mean_absolute_percentage_error: 99.8171 - mae: 70309.5078 - val_loss: 99.2552 - val_mean_absolute_percentage_error: 99.2552 - val_mae: 1385002.6250\n",
            "Epoch 9/20\n",
            "3/3 [==============================] - 0s 14ms/step - loss: 99.7576 - mean_absolute_percentage_error: 99.7976 - mae: 70309.1875 - val_loss: 99.1229 - val_mean_absolute_percentage_error: 99.1229 - val_mae: 1384917.1250\n",
            "Epoch 10/20\n",
            "3/3 [==============================] - 0s 14ms/step - loss: 99.6974 - mean_absolute_percentage_error: 99.7028 - mae: 70308.9219 - val_loss: 98.9657 - val_mean_absolute_percentage_error: 98.9657 - val_mae: 1384816.3750\n",
            "Epoch 11/20\n",
            "3/3 [==============================] - 0s 14ms/step - loss: 99.6372 - mean_absolute_percentage_error: 99.6963 - mae: 70308.5469 - val_loss: 98.7951 - val_mean_absolute_percentage_error: 98.7951 - val_mae: 1384705.6250\n",
            "Epoch 12/20\n",
            "3/3 [==============================] - 0s 14ms/step - loss: 99.5646 - mean_absolute_percentage_error: 99.3422 - mae: 70308.2188 - val_loss: 98.5998 - val_mean_absolute_percentage_error: 98.5998 - val_mae: 1384578.8750\n",
            "Epoch 13/20\n",
            "3/3 [==============================] - 0s 14ms/step - loss: 99.4709 - mean_absolute_percentage_error: 99.1997 - mae: 70307.7734 - val_loss: 98.3930 - val_mean_absolute_percentage_error: 98.3930 - val_mae: 1384444.7500\n",
            "Epoch 14/20\n",
            "3/3 [==============================] - 0s 16ms/step - loss: 99.3912 - mean_absolute_percentage_error: 99.4915 - mae: 70307.2500 - val_loss: 98.1996 - val_mean_absolute_percentage_error: 98.1996 - val_mae: 1384319.0000\n",
            "Epoch 15/20\n",
            "3/3 [==============================] - 0s 14ms/step - loss: 99.3064 - mean_absolute_percentage_error: 99.4191 - mae: 70306.8281 - val_loss: 97.9915 - val_mean_absolute_percentage_error: 97.9915 - val_mae: 1384184.5000\n",
            "Epoch 16/20\n",
            "3/3 [==============================] - 0s 14ms/step - loss: 99.2264 - mean_absolute_percentage_error: 99.3518 - mae: 70306.3672 - val_loss: 97.7474 - val_mean_absolute_percentage_error: 97.7474 - val_mae: 1384025.8750\n",
            "Epoch 17/20\n",
            "3/3 [==============================] - 0s 14ms/step - loss: 99.1314 - mean_absolute_percentage_error: 99.2726 - mae: 70305.8281 - val_loss: 97.4775 - val_mean_absolute_percentage_error: 97.4775 - val_mae: 1383850.5000\n",
            "Epoch 18/20\n",
            "3/3 [==============================] - 0s 13ms/step - loss: 99.0163 - mean_absolute_percentage_error: 99.0554 - mae: 70305.2188 - val_loss: 97.1718 - val_mean_absolute_percentage_error: 97.1718 - val_mae: 1383651.5000\n",
            "Epoch 19/20\n",
            "3/3 [==============================] - 0s 14ms/step - loss: 98.8621 - mean_absolute_percentage_error: 98.9083 - mae: 70304.5703 - val_loss: 96.8440 - val_mean_absolute_percentage_error: 96.8440 - val_mae: 1383438.2500\n",
            "Epoch 20/20\n",
            "3/3 [==============================] - 0s 17ms/step - loss: 98.7111 - mean_absolute_percentage_error: 98.9184 - mae: 70303.8125 - val_loss: 96.5214 - val_mean_absolute_percentage_error: 96.5214 - val_mae: 1383228.2500\n",
            "Epoch 1/20\n",
            "3/3 [==============================] - 35s 94ms/step - loss: 100.0588 - mean_absolute_percentage_error: 100.0490 - mae: 70310.8828 - val_loss: 100.0000 - val_mean_absolute_percentage_error: 100.0000 - val_mae: 1385487.1250\n",
            "Epoch 2/20\n",
            "3/3 [==============================] - 0s 14ms/step - loss: 99.9999 - mean_absolute_percentage_error: 99.9999 - mae: 70310.7969 - val_loss: 100.0000 - val_mean_absolute_percentage_error: 100.0000 - val_mae: 1385487.1250\n",
            "Epoch 3/20\n",
            "3/3 [==============================] - 0s 14ms/step - loss: 99.9998 - mean_absolute_percentage_error: 99.9999 - mae: 70310.7969 - val_loss: 99.9999 - val_mean_absolute_percentage_error: 99.9999 - val_mae: 1385487.1250\n",
            "Epoch 4/20\n",
            "3/3 [==============================] - 0s 13ms/step - loss: 99.9998 - mean_absolute_percentage_error: 99.9998 - mae: 70310.7969 - val_loss: 99.9999 - val_mean_absolute_percentage_error: 99.9999 - val_mae: 1385487.1250\n",
            "Epoch 5/20\n",
            "3/3 [==============================] - 0s 13ms/step - loss: 99.9998 - mean_absolute_percentage_error: 99.9996 - mae: 70310.7969 - val_loss: 99.9999 - val_mean_absolute_percentage_error: 99.9999 - val_mae: 1385487.1250\n",
            "Epoch 6/20\n",
            "3/3 [==============================] - 0s 16ms/step - loss: 99.9997 - mean_absolute_percentage_error: 99.9997 - mae: 70310.7969 - val_loss: 99.9999 - val_mean_absolute_percentage_error: 99.9999 - val_mae: 1385487.1250\n",
            "Epoch 7/20\n",
            "3/3 [==============================] - 0s 15ms/step - loss: 99.9997 - mean_absolute_percentage_error: 99.9997 - mae: 70310.7969 - val_loss: 99.9999 - val_mean_absolute_percentage_error: 99.9999 - val_mae: 1385487.1250\n",
            "Epoch 8/20\n",
            "3/3 [==============================] - 0s 15ms/step - loss: 99.9996 - mean_absolute_percentage_error: 99.9997 - mae: 70310.7969 - val_loss: 99.9999 - val_mean_absolute_percentage_error: 99.9999 - val_mae: 1385487.1250\n",
            "Epoch 9/20\n",
            "3/3 [==============================] - 0s 18ms/step - loss: 99.9996 - mean_absolute_percentage_error: 99.9994 - mae: 70310.7969 - val_loss: 99.9998 - val_mean_absolute_percentage_error: 99.9998 - val_mae: 1385487.1250\n",
            "Epoch 10/20\n",
            "3/3 [==============================] - 0s 16ms/step - loss: 99.9995 - mean_absolute_percentage_error: 99.9996 - mae: 70310.7969 - val_loss: 99.9998 - val_mean_absolute_percentage_error: 99.9998 - val_mae: 1385487.1250\n",
            "Epoch 11/20\n",
            "3/3 [==============================] - 0s 16ms/step - loss: 99.9995 - mean_absolute_percentage_error: 99.9996 - mae: 70310.7969 - val_loss: 99.9998 - val_mean_absolute_percentage_error: 99.9998 - val_mae: 1385487.1250\n",
            "Epoch 12/20\n",
            "3/3 [==============================] - 0s 17ms/step - loss: 99.9995 - mean_absolute_percentage_error: 99.9996 - mae: 70310.7969 - val_loss: 99.9998 - val_mean_absolute_percentage_error: 99.9998 - val_mae: 1385487.1250\n",
            "Epoch 13/20\n",
            "3/3 [==============================] - 0s 19ms/step - loss: 99.9995 - mean_absolute_percentage_error: 99.9996 - mae: 70310.7969 - val_loss: 99.9998 - val_mean_absolute_percentage_error: 99.9998 - val_mae: 1385487.1250\n",
            "Epoch 14/20\n",
            "3/3 [==============================] - 0s 14ms/step - loss: 99.9995 - mean_absolute_percentage_error: 99.9995 - mae: 70310.7969 - val_loss: 99.9998 - val_mean_absolute_percentage_error: 99.9998 - val_mae: 1385487.1250\n",
            "Epoch 15/20\n",
            "3/3 [==============================] - 0s 13ms/step - loss: 99.9994 - mean_absolute_percentage_error: 99.9995 - mae: 70310.7969 - val_loss: 99.9998 - val_mean_absolute_percentage_error: 99.9998 - val_mae: 1385487.1250\n",
            "Epoch 16/20\n",
            "3/3 [==============================] - 0s 13ms/step - loss: 99.9994 - mean_absolute_percentage_error: 99.9994 - mae: 70310.7969 - val_loss: 99.9998 - val_mean_absolute_percentage_error: 99.9998 - val_mae: 1385487.1250\n",
            "Epoch 17/20\n",
            "3/3 [==============================] - 0s 13ms/step - loss: 99.9994 - mean_absolute_percentage_error: 99.9991 - mae: 70310.7969 - val_loss: 99.9998 - val_mean_absolute_percentage_error: 99.9998 - val_mae: 1385487.1250\n",
            "Epoch 18/20\n",
            "3/3 [==============================] - 0s 14ms/step - loss: 99.9993 - mean_absolute_percentage_error: 99.9991 - mae: 70310.7969 - val_loss: 99.9998 - val_mean_absolute_percentage_error: 99.9998 - val_mae: 1385487.1250\n",
            "Epoch 19/20\n",
            "3/3 [==============================] - 0s 15ms/step - loss: 99.9993 - mean_absolute_percentage_error: 99.9993 - mae: 70310.7969 - val_loss: 99.9998 - val_mean_absolute_percentage_error: 99.9998 - val_mae: 1385487.1250\n",
            "Epoch 20/20\n",
            "3/3 [==============================] - 0s 15ms/step - loss: 99.9993 - mean_absolute_percentage_error: 99.9994 - mae: 70310.7969 - val_loss: 99.9998 - val_mean_absolute_percentage_error: 99.9998 - val_mae: 1385487.1250\n"
          ]
        }
      ]
    },
    {
      "cell_type": "code",
      "metadata": {
        "colab": {
          "base_uri": "https://localhost:8080/",
          "height": 1000
        },
        "id": "sEx_TxY_18ed",
        "outputId": "66287513-8a8b-4f5f-c823-1f71c6852efb"
      },
      "source": [
        "plotHistories(histories)\n"
      ],
      "execution_count": null,
      "outputs": [
        {
          "output_type": "display_data",
          "data": {
            "image/png": "[encoded data removed]",
            "text/plain": [
              "<Figure size 432x288 with 1 Axes>"
            ]
          },
          "metadata": {
            "needs_background": "light"
          }
        },
        {
          "output_type": "display_data",
          "data": {
            "image/png": "[encoded data removed]",
            "text/plain": [
              "<Figure size 432x288 with 1 Axes>"
            ]
          },
          "metadata": {
            "needs_background": "light"
          }
        },
        {
          "output_type": "display_data",
          "data": {
            "image/png": "[encoded data removed]",
            "text/plain": [
              "<Figure size 432x288 with 1 Axes>"
            ]
          },
          "metadata": {
            "needs_background": "light"
          }
        },
        {
          "output_type": "display_data",
          "data": {
            "image/png": "[encoded data removed]",
            "text/plain": [
              "<Figure size 432x288 with 1 Axes>"
            ]
          },
          "metadata": {
            "needs_background": "light"
          }
        },
        {
          "output_type": "display_data",
          "data": {
            "image/png": "[encoded data removed]",
            "text/plain": [
              "<Figure size 432x288 with 1 Axes>"
            ]
          },
          "metadata": {
            "needs_background": "light"
          }
        },
        {
          "output_type": "display_data",
          "data": {
            "image/png": "[encoded data removed]",
            "text/plain": [
              "<Figure size 432x288 with 1 Axes>"
            ]
          },
          "metadata": {
            "needs_background": "light"
          }
        },
        {
          "output_type": "display_data",
          "data": {
            "image/png": "[encoded data removed]",
            "text/plain": [
              "<Figure size 432x288 with 1 Axes>"
            ]
          },
          "metadata": {
            "needs_background": "light"
          }
        },
        {
          "output_type": "display_data",
          "data": {
            "image/png": "[encoded data removed]",
            "text/plain": [
              "<Figure size 432x288 with 1 Axes>"
            ]
          },
          "metadata": {
            "needs_background": "light"
          }
        }
      ]
    },
    {
      "cell_type": "code",
      "metadata": {
        "id": "8pOLrvn5wQbs",
        "colab": {
          "base_uri": "https://localhost:8080/",
          "height": 182
        },
        "outputId": "2cfb5846-4dad-49a4-b394-faf344d17672"
      },
      "source": [
        "#don't execute below here. Below code is for reference\n",
        "raise Error"
      ],
      "execution_count": null,
      "outputs": [
        {
          "output_type": "error",
          "ename": "NameError",
          "evalue": "ignored",
          "traceback": [
            "\u001b[0;31m---------------------------------------------------------------------------\u001b[0m",
            "\u001b[0;31mNameError\u001b[0m                                 Traceback (most recent call last)",
            "\u001b[0;32m<ipython-input-280-665388d1604c>\u001b[0m in \u001b[0;36m<module>\u001b[0;34m()\u001b[0m\n\u001b[1;32m      1\u001b[0m \u001b[0;31m#don't execute below here. Below code is for reference\u001b[0m\u001b[0;34m\u001b[0m\u001b[0;34m\u001b[0m\u001b[0;34m\u001b[0m\u001b[0m\n\u001b[0;32m----> 2\u001b[0;31m \u001b[0;32mraise\u001b[0m \u001b[0mError\u001b[0m\u001b[0;34m\u001b[0m\u001b[0;34m\u001b[0m\u001b[0m\n\u001b[0m",
            "\u001b[0;31mNameError\u001b[0m: name 'Error' is not defined"
          ]
        }
      ]
    },
    {
      "cell_type": "code",
      "metadata": {
        "id": "uu1GQWvo8EGk"
      },
      "source": [
        "#optimizerArr = np.char.lower(optimizerArr)\n",
        "activationFunctionArr = np.char.lower(activationFunctionArr)\n",
        "\n",
        "\n",
        "for activationFunction in activationFunctionArr:\n",
        "  if(activationFunction in activationFunctionsToSkipSet):\n",
        "        continue\n",
        "\n",
        "  for optimizer in optimizerArr:\n",
        "    activationFunctionToOptimizerTuple = (activationFunction, optimizer)\n",
        "\n",
        "    if(activationFunctionToOptimizerTuple in iterationsToSkipSet):\n",
        "      continue\n",
        "    #NOTE: need to encapsulate in try/catch\n",
        "    #keras\n",
        "    tf.keras.backend.clear_session()\n",
        "\n",
        "    # generate a seed for replication purposes\n",
        "    np.random.seed(0)\n",
        "    tf.random.set_seed(0)\n",
        "\n",
        "    # notice input shape accommodates 18 features!\n",
        "    #error: Relu =/= relu (correct)\n",
        "    model = Sequential([\n",
        "      Dense(64, activation=activationFunction, input_shape=[18,]),\n",
        "      Dense(64, activation=activationFunction),\n",
        "      Dense(1)\n",
        "    ])\n",
        "\n",
        "  \n",
        "\n",
        "    rmse = tf.keras.metrics.RootMeanSquaredError()\n",
        "\n",
        "    mape = tf.keras.losses.MeanAbsolutePercentageError()\n",
        "\n",
        "    print(\"acitvationFunc \" + activationFunction)\n",
        "    print(\"optimizer \" + optimizer)\n",
        "    isCompilationDone = compile(optimizer, mape)\n",
        "    if(isCompilationDone):\n",
        "      print(\"compileIsDone\")\n",
        "      history = model.fit(train_bs, epochs=20,\n",
        "                    validation_data=test_bs)\n",
        "# create a model with one input layer, one hidden layer, and on outpur layer. Both input and hidden layers have 64 neuros. Activation using Relu.\n",
        "    #plot results \n",
        "      plt = plot_history(history, mean_absolute_percentage_error_limit, mae_limit)\n",
        "      fileNameStr=activationFunction+optimizer+\".png\"\n",
        "  #export\n",
        "      plt.savefig(fileNameStr)\n",
        "\n"
      ],
      "execution_count": null,
      "outputs": []
    },
    {
      "cell_type": "code",
      "metadata": {
        "id": "_6IFkJW_IQJM"
      },
      "source": [
        "history = model.fit(train_bs, epochs=2000,\n",
        "                    validation_data=test_bs)\n",
        "# epoch ( iteration of training) can start from 50\n",
        "# about 10 ms for each epoch, keep watching the loss value (for traqining set) and val_loss value ( for testing set)"
      ],
      "execution_count": null,
      "outputs": []
    },
    {
      "cell_type": "code",
      "metadata": {
        "id": "E-JnxDb5cqrR"
      },
      "source": [
        "hist = pd.DataFrame(history.history)\n",
        "hist['epoch'] = history.epoch\n",
        "hist.head()\n",
        "print\n",
        "hist.tail()\n",
        "# show the result of last five epoch"
      ],
      "execution_count": null,
      "outputs": []
    },
    {
      "cell_type": "code",
      "metadata": {
        "id": "4v2WNLGn0go9"
      },
      "source": [
        "rmse = tf.keras.metrics.RootMeanSquaredError()\n",
        "\n",
        "mape = tf.keras.losses.MeanAbsolutePercentageError()\n",
        "\n",
        "\n",
        "\n",
        "model.compile(\n",
        "    optimizer='RMSProp',\n",
        "    loss='mape', metrics=[mape, 'mae'])\n",
        "\n",
        "# use mape (mean absolute percentage error) as loss function"
      ],
      "execution_count": null,
      "outputs": []
    },
    {
      "cell_type": "code",
      "metadata": {
        "id": "guR97iNB8WaY"
      },
      "source": [
        ""
      ],
      "execution_count": null,
      "outputs": []
    },
    {
      "cell_type": "code",
      "metadata": {
        "id": "kF070EKn0VHW"
      },
      "source": [
        "model.summary()\n",
        "# number of params in input layer \"dense\" = (number of feaures +1) * number of neuros = (18+1) * 64 = 1216\n",
        "# number of params in hidden layer \"dense_1\" = (number of outputs from input layer +1) * number of neuros = (64+1) * 64 = 4196\n",
        "# number of params in ouput layer \"dense2\" = (number of outputs from hidden layer +1) * number of neuros = (64+1) * 1 = 65"
      ],
      "execution_count": null,
      "outputs": []
    },
    {
      "cell_type": "code",
      "metadata": {
        "id": "f92pOalK0OZu"
      },
      "source": [
        "\n",
        "import tensorflow as tf\n",
        "from tensorflow.keras.models import Sequential\n",
        "from tensorflow.keras.layers import Dense, Flatten\n",
        "import numpy as np\n",
        "\n",
        "# clear any previous model\n",
        "tf.keras.backend.clear_session()\n",
        "\n",
        "# generate a seed for replication purposes\n",
        "np.random.seed(0)\n",
        "tf.random.set_seed(0)\n",
        "\n",
        "# notice input shape accommodates 18 features!\n",
        "model = Sequential([\n",
        "  Dense(64, activation='relu', input_shape=[18,]),\n",
        "  Dense(64, activation='relu'),\n",
        "  Dense(1)\n",
        "])\n",
        "# create a model with one input layer, one hidden layer, and on outpur layer. Both input and hidden layers have 64 neuros. Activation using Relu."
      ],
      "execution_count": null,
      "outputs": []
    }
  ]
}